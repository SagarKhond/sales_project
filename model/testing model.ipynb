{
 "cells": [
  {
   "cell_type": "code",
   "execution_count": 11,
   "id": "9cbe2daa",
   "metadata": {},
   "outputs": [],
   "source": [
    "import pickle\n",
    "import json\n",
    "import numpy as np\n",
    "import pandas as pd\n",
    "import warnings\n",
    "warnings.filterwarnings(\"ignore\")"
   ]
  },
  {
   "cell_type": "code",
   "execution_count": 3,
   "id": "4659f6cf",
   "metadata": {},
   "outputs": [],
   "source": [
    "### unpickeling the model\n",
    "with open(\"lin_reg.pkl\",\"rb\") as f:\n",
    "    model=pickle.load(f)"
   ]
  },
  {
   "cell_type": "code",
   "execution_count": 5,
   "id": "1de5e84d",
   "metadata": {},
   "outputs": [
    {
     "data": {
      "text/html": [
       "<style>#sk-container-id-1 {color: black;background-color: white;}#sk-container-id-1 pre{padding: 0;}#sk-container-id-1 div.sk-toggleable {background-color: white;}#sk-container-id-1 label.sk-toggleable__label {cursor: pointer;display: block;width: 100%;margin-bottom: 0;padding: 0.3em;box-sizing: border-box;text-align: center;}#sk-container-id-1 label.sk-toggleable__label-arrow:before {content: \"▸\";float: left;margin-right: 0.25em;color: #696969;}#sk-container-id-1 label.sk-toggleable__label-arrow:hover:before {color: black;}#sk-container-id-1 div.sk-estimator:hover label.sk-toggleable__label-arrow:before {color: black;}#sk-container-id-1 div.sk-toggleable__content {max-height: 0;max-width: 0;overflow: hidden;text-align: left;background-color: #f0f8ff;}#sk-container-id-1 div.sk-toggleable__content pre {margin: 0.2em;color: black;border-radius: 0.25em;background-color: #f0f8ff;}#sk-container-id-1 input.sk-toggleable__control:checked~div.sk-toggleable__content {max-height: 200px;max-width: 100%;overflow: auto;}#sk-container-id-1 input.sk-toggleable__control:checked~label.sk-toggleable__label-arrow:before {content: \"▾\";}#sk-container-id-1 div.sk-estimator input.sk-toggleable__control:checked~label.sk-toggleable__label {background-color: #d4ebff;}#sk-container-id-1 div.sk-label input.sk-toggleable__control:checked~label.sk-toggleable__label {background-color: #d4ebff;}#sk-container-id-1 input.sk-hidden--visually {border: 0;clip: rect(1px 1px 1px 1px);clip: rect(1px, 1px, 1px, 1px);height: 1px;margin: -1px;overflow: hidden;padding: 0;position: absolute;width: 1px;}#sk-container-id-1 div.sk-estimator {font-family: monospace;background-color: #f0f8ff;border: 1px dotted black;border-radius: 0.25em;box-sizing: border-box;margin-bottom: 0.5em;}#sk-container-id-1 div.sk-estimator:hover {background-color: #d4ebff;}#sk-container-id-1 div.sk-parallel-item::after {content: \"\";width: 100%;border-bottom: 1px solid gray;flex-grow: 1;}#sk-container-id-1 div.sk-label:hover label.sk-toggleable__label {background-color: #d4ebff;}#sk-container-id-1 div.sk-serial::before {content: \"\";position: absolute;border-left: 1px solid gray;box-sizing: border-box;top: 0;bottom: 0;left: 50%;z-index: 0;}#sk-container-id-1 div.sk-serial {display: flex;flex-direction: column;align-items: center;background-color: white;padding-right: 0.2em;padding-left: 0.2em;position: relative;}#sk-container-id-1 div.sk-item {position: relative;z-index: 1;}#sk-container-id-1 div.sk-parallel {display: flex;align-items: stretch;justify-content: center;background-color: white;position: relative;}#sk-container-id-1 div.sk-item::before, #sk-container-id-1 div.sk-parallel-item::before {content: \"\";position: absolute;border-left: 1px solid gray;box-sizing: border-box;top: 0;bottom: 0;left: 50%;z-index: -1;}#sk-container-id-1 div.sk-parallel-item {display: flex;flex-direction: column;z-index: 1;position: relative;background-color: white;}#sk-container-id-1 div.sk-parallel-item:first-child::after {align-self: flex-end;width: 50%;}#sk-container-id-1 div.sk-parallel-item:last-child::after {align-self: flex-start;width: 50%;}#sk-container-id-1 div.sk-parallel-item:only-child::after {width: 0;}#sk-container-id-1 div.sk-dashed-wrapped {border: 1px dashed gray;margin: 0 0.4em 0.5em 0.4em;box-sizing: border-box;padding-bottom: 0.4em;background-color: white;}#sk-container-id-1 div.sk-label label {font-family: monospace;font-weight: bold;display: inline-block;line-height: 1.2em;}#sk-container-id-1 div.sk-label-container {text-align: center;}#sk-container-id-1 div.sk-container {/* jupyter's `normalize.less` sets `[hidden] { display: none; }` but bootstrap.min.css set `[hidden] { display: none !important; }` so we also need the `!important` here to be able to override the default hidden behavior on the sphinx rendered scikit-learn.org. See: https://github.com/scikit-learn/scikit-learn/issues/21755 */display: inline-block !important;position: relative;}#sk-container-id-1 div.sk-text-repr-fallback {display: none;}</style><div id=\"sk-container-id-1\" class=\"sk-top-container\"><div class=\"sk-text-repr-fallback\"><pre>LinearRegression()</pre><b>In a Jupyter environment, please rerun this cell to show the HTML representation or trust the notebook. <br />On GitHub, the HTML representation is unable to render, please try loading this page with nbviewer.org.</b></div><div class=\"sk-container\" hidden><div class=\"sk-item\"><div class=\"sk-estimator sk-toggleable\"><input class=\"sk-toggleable__control sk-hidden--visually\" id=\"sk-estimator-id-1\" type=\"checkbox\" checked><label for=\"sk-estimator-id-1\" class=\"sk-toggleable__label sk-toggleable__label-arrow\">LinearRegression</label><div class=\"sk-toggleable__content\"><pre>LinearRegression()</pre></div></div></div></div></div>"
      ],
      "text/plain": [
       "LinearRegression()"
      ]
     },
     "execution_count": 5,
     "metadata": {},
     "output_type": "execute_result"
    }
   ],
   "source": [
    "model"
   ]
  },
  {
   "cell_type": "code",
   "execution_count": 7,
   "id": "c4139348",
   "metadata": {},
   "outputs": [],
   "source": [
    "with open(\"project_data.json\",\"r\") as f:\n",
    "    project_data=json.load(f)"
   ]
  },
  {
   "cell_type": "code",
   "execution_count": 8,
   "id": "bd874b6a",
   "metadata": {},
   "outputs": [
    {
     "data": {
      "text/plain": [
       "{'Item_Fat_Content': {'Low Fat': 1,\n",
       "  'Regular': 0,\n",
       "  'LF': 1,\n",
       "  'reg': 0,\n",
       "  'low fat': 1},\n",
       " 'Item_Type': {'Fruits and Vegetables': 1,\n",
       "  'Snack Foods': 2,\n",
       "  'Household': 3,\n",
       "  'Frozen Foods': 4,\n",
       "  'Dairy': 5,\n",
       "  'Canned': 6,\n",
       "  'Baking Goods': 7,\n",
       "  'Health and Hygiene': 8,\n",
       "  'Soft Drinks': 9,\n",
       "  'Meat': 10,\n",
       "  'Breads': 11,\n",
       "  'Hard Drinks': 12,\n",
       "  'Others': 13,\n",
       "  'Starchy Foods': 14,\n",
       "  'Breakfast': 15,\n",
       "  'Seafood': 16},\n",
       " 'Outlet_Size': {'Medium': 1, 'Small': 2, 'High': 3},\n",
       " 'Outlet_Location_Type': {'Tier 3': 1, 'Tier 2': 2, 'Tier 1': 3},\n",
       " 'Outlet_Type': {'Supermarket Type1': 1,\n",
       "  'Grocery Store': 2,\n",
       "  'Supermarket Type3': 3,\n",
       "  'Supermarket Type2': 4},\n",
       " 'column': ['Item_Weight',\n",
       "  'Item_Fat_Content',\n",
       "  'Item_Visibility',\n",
       "  'Item_Type',\n",
       "  'Item_MRP',\n",
       "  'Outlet_Establishment_Year',\n",
       "  'Outlet_Size',\n",
       "  'Outlet_Location_Type',\n",
       "  'Outlet_Type',\n",
       "  'Outlet_Identifier_OUT010',\n",
       "  'Outlet_Identifier_OUT013',\n",
       "  'Outlet_Identifier_OUT017',\n",
       "  'Outlet_Identifier_OUT018',\n",
       "  'Outlet_Identifier_OUT019',\n",
       "  'Outlet_Identifier_OUT027',\n",
       "  'Outlet_Identifier_OUT035',\n",
       "  'Outlet_Identifier_OUT045',\n",
       "  'Outlet_Identifier_OUT046',\n",
       "  'Outlet_Identifier_OUT049']}"
      ]
     },
     "execution_count": 8,
     "metadata": {},
     "output_type": "execute_result"
    }
   ],
   "source": [
    "project_data"
   ]
  },
  {
   "cell_type": "code",
   "execution_count": 9,
   "id": "ab05531f",
   "metadata": {},
   "outputs": [],
   "source": [
    "### testing it on the user input\n",
    "Item_Weight=9.300000\n",
    "Item_Fat_Content='Low Fat'\n",
    "Item_Visibility=0.016047\n",
    "Item_Type='Household'\n",
    "Item_MRP=249.809200\n",
    "Outlet_Establishment_Year=1999.000000\n",
    "Outlet_Size='Medium'\n",
    "Outlet_Location_Type='Tier 3'\n",
    "Outlet_Type='Supermarket Type1'\n",
    "Outlet_Identifier=\"OUT049\"\n",
    "Outlet_Identifier_col=\"Outlet_Identifier_\"+Outlet_Identifier\n",
    "array=np.zeros(len(project_data[\"column\"]),dtype=int)\n",
    "array[0]=Item_Weight\n",
    "array[1]=project_data[\"Item_Fat_Content\"][Item_Fat_Content]\n",
    "array[2]=Item_Visibility\n",
    "array[3]=project_data[\"Item_Type\"][Item_Type]\n",
    "array[4]=Item_MRP\n",
    "array[5]=Outlet_Establishment_Year\n",
    "array[6]=project_data[\"Outlet_Size\"][Outlet_Size]\n",
    "array[7]=project_data[\"Outlet_Location_Type\"][Outlet_Location_Type]\n",
    "array[8]=project_data[\"Outlet_Type\"][Outlet_Type]\n",
    "array[project_data[\"column\"].index(Outlet_Identifier_col)]=1"
   ]
  },
  {
   "cell_type": "code",
   "execution_count": 13,
   "id": "25e661e8",
   "metadata": {},
   "outputs": [
    {
     "name": "stdout",
     "output_type": "stream",
     "text": [
      "The outlet sales of item  is 4514.34 Rs_\\ only\n"
     ]
    }
   ],
   "source": [
    "outlet_sales=model.predict([array])[0]\n",
    "print(f\"The outlet sales of item  is {np.around(outlet_sales,2)} Rs_\\ only\")"
   ]
  },
  {
   "cell_type": "code",
   "execution_count": null,
   "id": "c5231009",
   "metadata": {},
   "outputs": [],
   "source": []
  }
 ],
 "metadata": {
  "kernelspec": {
   "display_name": "Python 3 (ipykernel)",
   "language": "python",
   "name": "python3"
  },
  "language_info": {
   "codemirror_mode": {
    "name": "ipython",
    "version": 3
   },
   "file_extension": ".py",
   "mimetype": "text/x-python",
   "name": "python",
   "nbconvert_exporter": "python",
   "pygments_lexer": "ipython3",
   "version": "3.10.5"
  }
 },
 "nbformat": 4,
 "nbformat_minor": 5
}
