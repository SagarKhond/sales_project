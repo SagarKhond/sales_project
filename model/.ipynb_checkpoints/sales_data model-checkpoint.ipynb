{
 "cells": [
  {
   "cell_type": "code",
   "execution_count": 1,
   "id": "572df747",
   "metadata": {},
   "outputs": [],
   "source": [
    "import pandas as pd\n",
    "import numpy as np\n",
    "import matplotlib.pyplot as plt\n",
    "import seaborn as sns\n",
    "from sklearn.model_selection import train_test_split\n",
    "from sklearn.linear_model import LinearRegression,Ridge,Lasso\n",
    "from statsmodels.stats.outliers_influence import variance_inflation_factor\n",
    "from sklearn.metrics import mean_absolute_error,mean_squared_error,r2_score\n",
    "from scipy.stats import zscore,skew\n",
    "import warnings\n",
    "warnings.filterwarnings(\"ignore\")\n",
    "import json\n",
    "import pickle"
   ]
  },
  {
   "cell_type": "markdown",
   "id": "26d48868",
   "metadata": {},
   "source": [
    "### problem statement "
   ]
  },
  {
   "cell_type": "markdown",
   "id": "8ecf8f21",
   "metadata": {},
   "source": [
    "### Data Gathering"
   ]
  },
  {
   "cell_type": "code",
   "execution_count": 2,
   "id": "f1a8fe27",
   "metadata": {},
   "outputs": [
    {
     "data": {
      "text/html": [
       "<div>\n",
       "<style scoped>\n",
       "    .dataframe tbody tr th:only-of-type {\n",
       "        vertical-align: middle;\n",
       "    }\n",
       "\n",
       "    .dataframe tbody tr th {\n",
       "        vertical-align: top;\n",
       "    }\n",
       "\n",
       "    .dataframe thead th {\n",
       "        text-align: right;\n",
       "    }\n",
       "</style>\n",
       "<table border=\"1\" class=\"dataframe\">\n",
       "  <thead>\n",
       "    <tr style=\"text-align: right;\">\n",
       "      <th></th>\n",
       "      <th>Item_Identifier</th>\n",
       "      <th>Item_Weight</th>\n",
       "      <th>Item_Fat_Content</th>\n",
       "      <th>Item_Visibility</th>\n",
       "      <th>Item_Type</th>\n",
       "      <th>Item_MRP</th>\n",
       "      <th>Outlet_Identifier</th>\n",
       "      <th>Outlet_Establishment_Year</th>\n",
       "      <th>Outlet_Size</th>\n",
       "      <th>Outlet_Location_Type</th>\n",
       "      <th>Outlet_Type</th>\n",
       "      <th>Item_Outlet_Sales</th>\n",
       "    </tr>\n",
       "  </thead>\n",
       "  <tbody>\n",
       "    <tr>\n",
       "      <th>0</th>\n",
       "      <td>FDA15</td>\n",
       "      <td>9.30</td>\n",
       "      <td>Low Fat</td>\n",
       "      <td>0.016047</td>\n",
       "      <td>Dairy</td>\n",
       "      <td>249.8092</td>\n",
       "      <td>OUT049</td>\n",
       "      <td>1999</td>\n",
       "      <td>Medium</td>\n",
       "      <td>Tier 1</td>\n",
       "      <td>Supermarket Type1</td>\n",
       "      <td>3735.1380</td>\n",
       "    </tr>\n",
       "    <tr>\n",
       "      <th>1</th>\n",
       "      <td>DRC01</td>\n",
       "      <td>5.92</td>\n",
       "      <td>Regular</td>\n",
       "      <td>0.019278</td>\n",
       "      <td>Soft Drinks</td>\n",
       "      <td>48.2692</td>\n",
       "      <td>OUT018</td>\n",
       "      <td>2009</td>\n",
       "      <td>Medium</td>\n",
       "      <td>Tier 3</td>\n",
       "      <td>Supermarket Type2</td>\n",
       "      <td>443.4228</td>\n",
       "    </tr>\n",
       "    <tr>\n",
       "      <th>2</th>\n",
       "      <td>FDN15</td>\n",
       "      <td>17.50</td>\n",
       "      <td>Low Fat</td>\n",
       "      <td>0.016760</td>\n",
       "      <td>Meat</td>\n",
       "      <td>141.6180</td>\n",
       "      <td>OUT049</td>\n",
       "      <td>1999</td>\n",
       "      <td>Medium</td>\n",
       "      <td>Tier 1</td>\n",
       "      <td>Supermarket Type1</td>\n",
       "      <td>2097.2700</td>\n",
       "    </tr>\n",
       "    <tr>\n",
       "      <th>3</th>\n",
       "      <td>FDX07</td>\n",
       "      <td>19.20</td>\n",
       "      <td>Regular</td>\n",
       "      <td>0.000000</td>\n",
       "      <td>Fruits and Vegetables</td>\n",
       "      <td>182.0950</td>\n",
       "      <td>OUT010</td>\n",
       "      <td>1998</td>\n",
       "      <td>NaN</td>\n",
       "      <td>Tier 3</td>\n",
       "      <td>Grocery Store</td>\n",
       "      <td>732.3800</td>\n",
       "    </tr>\n",
       "    <tr>\n",
       "      <th>4</th>\n",
       "      <td>NCD19</td>\n",
       "      <td>8.93</td>\n",
       "      <td>Low Fat</td>\n",
       "      <td>0.000000</td>\n",
       "      <td>Household</td>\n",
       "      <td>53.8614</td>\n",
       "      <td>OUT013</td>\n",
       "      <td>1987</td>\n",
       "      <td>High</td>\n",
       "      <td>Tier 3</td>\n",
       "      <td>Supermarket Type1</td>\n",
       "      <td>994.7052</td>\n",
       "    </tr>\n",
       "  </tbody>\n",
       "</table>\n",
       "</div>"
      ],
      "text/plain": [
       "  Item_Identifier  Item_Weight Item_Fat_Content  Item_Visibility  \\\n",
       "0           FDA15         9.30          Low Fat         0.016047   \n",
       "1           DRC01         5.92          Regular         0.019278   \n",
       "2           FDN15        17.50          Low Fat         0.016760   \n",
       "3           FDX07        19.20          Regular         0.000000   \n",
       "4           NCD19         8.93          Low Fat         0.000000   \n",
       "\n",
       "               Item_Type  Item_MRP Outlet_Identifier  \\\n",
       "0                  Dairy  249.8092            OUT049   \n",
       "1            Soft Drinks   48.2692            OUT018   \n",
       "2                   Meat  141.6180            OUT049   \n",
       "3  Fruits and Vegetables  182.0950            OUT010   \n",
       "4              Household   53.8614            OUT013   \n",
       "\n",
       "   Outlet_Establishment_Year Outlet_Size Outlet_Location_Type  \\\n",
       "0                       1999      Medium               Tier 1   \n",
       "1                       2009      Medium               Tier 3   \n",
       "2                       1999      Medium               Tier 1   \n",
       "3                       1998         NaN               Tier 3   \n",
       "4                       1987        High               Tier 3   \n",
       "\n",
       "         Outlet_Type  Item_Outlet_Sales  \n",
       "0  Supermarket Type1          3735.1380  \n",
       "1  Supermarket Type2           443.4228  \n",
       "2  Supermarket Type1          2097.2700  \n",
       "3      Grocery Store           732.3800  \n",
       "4  Supermarket Type1           994.7052  "
      ]
     },
     "execution_count": 2,
     "metadata": {},
     "output_type": "execute_result"
    }
   ],
   "source": [
    "df=pd.read_csv(\"Sales_data.csv\")\n",
    "df.head()"
   ]
  },
  {
   "cell_type": "code",
   "execution_count": 3,
   "id": "27440e69",
   "metadata": {},
   "outputs": [
    {
     "data": {
      "text/plain": [
       "(8523, 12)"
      ]
     },
     "execution_count": 3,
     "metadata": {},
     "output_type": "execute_result"
    }
   ],
   "source": [
    "df.shape"
   ]
  },
  {
   "cell_type": "markdown",
   "id": "5753c468",
   "metadata": {},
   "source": [
    "### EDA"
   ]
  },
  {
   "cell_type": "code",
   "execution_count": 4,
   "id": "08f3811b",
   "metadata": {},
   "outputs": [
    {
     "name": "stdout",
     "output_type": "stream",
     "text": [
      "<class 'pandas.core.frame.DataFrame'>\n",
      "RangeIndex: 8523 entries, 0 to 8522\n",
      "Data columns (total 12 columns):\n",
      " #   Column                     Non-Null Count  Dtype  \n",
      "---  ------                     --------------  -----  \n",
      " 0   Item_Identifier            8523 non-null   object \n",
      " 1   Item_Weight                7060 non-null   float64\n",
      " 2   Item_Fat_Content           8523 non-null   object \n",
      " 3   Item_Visibility            8523 non-null   float64\n",
      " 4   Item_Type                  8523 non-null   object \n",
      " 5   Item_MRP                   8523 non-null   float64\n",
      " 6   Outlet_Identifier          8523 non-null   object \n",
      " 7   Outlet_Establishment_Year  8523 non-null   int64  \n",
      " 8   Outlet_Size                6113 non-null   object \n",
      " 9   Outlet_Location_Type       8523 non-null   object \n",
      " 10  Outlet_Type                8523 non-null   object \n",
      " 11  Item_Outlet_Sales          8523 non-null   float64\n",
      "dtypes: float64(4), int64(1), object(7)\n",
      "memory usage: 799.2+ KB\n"
     ]
    }
   ],
   "source": [
    "df.info()"
   ]
  },
  {
   "cell_type": "code",
   "execution_count": 5,
   "id": "c48253d1",
   "metadata": {
    "scrolled": true
   },
   "outputs": [
    {
     "data": {
      "text/html": [
       "<div>\n",
       "<style scoped>\n",
       "    .dataframe tbody tr th:only-of-type {\n",
       "        vertical-align: middle;\n",
       "    }\n",
       "\n",
       "    .dataframe tbody tr th {\n",
       "        vertical-align: top;\n",
       "    }\n",
       "\n",
       "    .dataframe thead th {\n",
       "        text-align: right;\n",
       "    }\n",
       "</style>\n",
       "<table border=\"1\" class=\"dataframe\">\n",
       "  <thead>\n",
       "    <tr style=\"text-align: right;\">\n",
       "      <th></th>\n",
       "      <th>Item_Weight</th>\n",
       "      <th>Item_Visibility</th>\n",
       "      <th>Item_MRP</th>\n",
       "      <th>Outlet_Establishment_Year</th>\n",
       "      <th>Item_Outlet_Sales</th>\n",
       "    </tr>\n",
       "  </thead>\n",
       "  <tbody>\n",
       "    <tr>\n",
       "      <th>count</th>\n",
       "      <td>7060.000000</td>\n",
       "      <td>8523.000000</td>\n",
       "      <td>8523.000000</td>\n",
       "      <td>8523.000000</td>\n",
       "      <td>8523.000000</td>\n",
       "    </tr>\n",
       "    <tr>\n",
       "      <th>mean</th>\n",
       "      <td>12.857645</td>\n",
       "      <td>0.066132</td>\n",
       "      <td>140.992782</td>\n",
       "      <td>1997.831867</td>\n",
       "      <td>2181.288914</td>\n",
       "    </tr>\n",
       "    <tr>\n",
       "      <th>std</th>\n",
       "      <td>4.643456</td>\n",
       "      <td>0.051598</td>\n",
       "      <td>62.275067</td>\n",
       "      <td>8.371760</td>\n",
       "      <td>1706.499616</td>\n",
       "    </tr>\n",
       "    <tr>\n",
       "      <th>min</th>\n",
       "      <td>4.555000</td>\n",
       "      <td>0.000000</td>\n",
       "      <td>31.290000</td>\n",
       "      <td>1985.000000</td>\n",
       "      <td>33.290000</td>\n",
       "    </tr>\n",
       "    <tr>\n",
       "      <th>25%</th>\n",
       "      <td>8.773750</td>\n",
       "      <td>0.026989</td>\n",
       "      <td>93.826500</td>\n",
       "      <td>1987.000000</td>\n",
       "      <td>834.247400</td>\n",
       "    </tr>\n",
       "    <tr>\n",
       "      <th>50%</th>\n",
       "      <td>12.600000</td>\n",
       "      <td>0.053931</td>\n",
       "      <td>143.012800</td>\n",
       "      <td>1999.000000</td>\n",
       "      <td>1794.331000</td>\n",
       "    </tr>\n",
       "    <tr>\n",
       "      <th>75%</th>\n",
       "      <td>16.850000</td>\n",
       "      <td>0.094585</td>\n",
       "      <td>185.643700</td>\n",
       "      <td>2004.000000</td>\n",
       "      <td>3101.296400</td>\n",
       "    </tr>\n",
       "    <tr>\n",
       "      <th>max</th>\n",
       "      <td>21.350000</td>\n",
       "      <td>0.328391</td>\n",
       "      <td>266.888400</td>\n",
       "      <td>2009.000000</td>\n",
       "      <td>13086.964800</td>\n",
       "    </tr>\n",
       "  </tbody>\n",
       "</table>\n",
       "</div>"
      ],
      "text/plain": [
       "       Item_Weight  Item_Visibility     Item_MRP  Outlet_Establishment_Year  \\\n",
       "count  7060.000000      8523.000000  8523.000000                8523.000000   \n",
       "mean     12.857645         0.066132   140.992782                1997.831867   \n",
       "std       4.643456         0.051598    62.275067                   8.371760   \n",
       "min       4.555000         0.000000    31.290000                1985.000000   \n",
       "25%       8.773750         0.026989    93.826500                1987.000000   \n",
       "50%      12.600000         0.053931   143.012800                1999.000000   \n",
       "75%      16.850000         0.094585   185.643700                2004.000000   \n",
       "max      21.350000         0.328391   266.888400                2009.000000   \n",
       "\n",
       "       Item_Outlet_Sales  \n",
       "count        8523.000000  \n",
       "mean         2181.288914  \n",
       "std          1706.499616  \n",
       "min            33.290000  \n",
       "25%           834.247400  \n",
       "50%          1794.331000  \n",
       "75%          3101.296400  \n",
       "max         13086.964800  "
      ]
     },
     "execution_count": 5,
     "metadata": {},
     "output_type": "execute_result"
    }
   ],
   "source": [
    "df.describe()"
   ]
  },
  {
   "cell_type": "markdown",
   "id": "c7b9a9eb",
   "metadata": {},
   "source": [
    "#### 1.Item_Identifier"
   ]
  },
  {
   "cell_type": "code",
   "execution_count": 6,
   "id": "9b8af49a",
   "metadata": {},
   "outputs": [
    {
     "data": {
      "text/plain": [
       "0       FDA15\n",
       "1       DRC01\n",
       "2       FDN15\n",
       "3       FDX07\n",
       "4       NCD19\n",
       "        ...  \n",
       "8518    FDF22\n",
       "8519    FDS36\n",
       "8520    NCJ29\n",
       "8521    FDN46\n",
       "8522    DRG01\n",
       "Name: Item_Identifier, Length: 8523, dtype: object"
      ]
     },
     "execution_count": 6,
     "metadata": {},
     "output_type": "execute_result"
    }
   ],
   "source": [
    "df[\"Item_Identifier\"]"
   ]
  },
  {
   "cell_type": "code",
   "execution_count": 7,
   "id": "dadb3b6c",
   "metadata": {},
   "outputs": [
    {
     "data": {
      "text/plain": [
       "array(['FDA15', 'DRC01', 'FDN15', ..., 'NCF55', 'NCW30', 'NCW05'],\n",
       "      dtype=object)"
      ]
     },
     "execution_count": 7,
     "metadata": {},
     "output_type": "execute_result"
    }
   ],
   "source": [
    "df[\"Item_Identifier\"].unique()"
   ]
  },
  {
   "cell_type": "code",
   "execution_count": 8,
   "id": "068ae890",
   "metadata": {},
   "outputs": [
    {
     "data": {
      "text/plain": [
       "FDW13    10\n",
       "FDG33    10\n",
       "NCY18     9\n",
       "FDD38     9\n",
       "DRE49     9\n",
       "         ..\n",
       "FDY43     1\n",
       "FDQ60     1\n",
       "FDO33     1\n",
       "DRF48     1\n",
       "FDC23     1\n",
       "Name: Item_Identifier, Length: 1559, dtype: int64"
      ]
     },
     "execution_count": 8,
     "metadata": {},
     "output_type": "execute_result"
    }
   ],
   "source": [
    "df[\"Item_Identifier\"].value_counts()"
   ]
  },
  {
   "cell_type": "markdown",
   "id": "b9c32adb",
   "metadata": {},
   "source": [
    "#### 2.Item_Weight"
   ]
  },
  {
   "cell_type": "code",
   "execution_count": 9,
   "id": "cd701301",
   "metadata": {},
   "outputs": [
    {
     "data": {
      "text/plain": [
       "0        9.300\n",
       "1        5.920\n",
       "2       17.500\n",
       "3       19.200\n",
       "4        8.930\n",
       "         ...  \n",
       "8518     6.865\n",
       "8519     8.380\n",
       "8520    10.600\n",
       "8521     7.210\n",
       "8522    14.800\n",
       "Name: Item_Weight, Length: 8523, dtype: float64"
      ]
     },
     "execution_count": 9,
     "metadata": {},
     "output_type": "execute_result"
    }
   ],
   "source": [
    "df[\"Item_Weight\"]"
   ]
  },
  {
   "cell_type": "code",
   "execution_count": 10,
   "id": "4c465160",
   "metadata": {},
   "outputs": [
    {
     "data": {
      "text/plain": [
       "array([ 9.3  ,  5.92 , 17.5  , 19.2  ,  8.93 , 10.395, 13.65 ,    nan,\n",
       "       16.2  , 11.8  , 18.5  , 15.1  , 17.6  , 16.35 ,  9.   , 13.35 ,\n",
       "       18.85 , 14.6  , 13.85 , 13.   ,  7.645, 11.65 ,  5.925, 19.25 ,\n",
       "       18.6  , 18.7  , 17.85 , 10.   ,  8.85 ,  9.8  , 13.6  , 21.35 ,\n",
       "       12.15 ,  6.42 , 19.6  , 15.85 ,  7.39 , 10.195,  9.895, 10.895,\n",
       "        7.905,  9.195,  8.365,  7.97 , 17.7  , 19.35 ,  8.645, 15.6  ,\n",
       "       18.25 ,  7.855,  7.825,  8.39 , 12.85 , 19.   ,  5.905,  7.76 ,\n",
       "       16.75 , 15.5  ,  6.055,  6.305, 20.85 , 20.75 ,  8.895, 19.7  ,\n",
       "        8.75 , 13.3  ,  8.31 , 19.75 , 17.1  , 10.5  ,  6.635, 14.15 ,\n",
       "        8.89 ,  9.1  ,  7.5  , 16.85 ,  7.485, 11.6  , 12.65 , 20.25 ,\n",
       "        8.6  , 12.6  ,  8.88 , 20.5  , 13.5  ,  7.235,  6.92 ,  8.02 ,\n",
       "       12.8  , 16.6  , 14.   , 16.   , 21.25 ,  7.365, 18.35 ,  5.465,\n",
       "        7.27 ,  6.155, 19.5  , 15.2  , 14.5  , 13.1  , 12.3  , 11.1  ,\n",
       "       11.3  ,  5.75 , 11.35 ,  6.525, 10.3  ,  5.78 , 11.85 , 18.75 ,\n",
       "        5.26 , 16.1  ,  9.5  , 13.8  , 14.65 ,  6.67 ,  6.11 , 17.2  ,\n",
       "        6.32 ,  4.88 ,  5.425, 14.1  ,  7.55 , 17.25 , 12.   , 10.1  ,\n",
       "        7.785, 13.15 ,  8.5  ,  7.63 ,  9.285,  7.975, 15.7  ,  8.985,\n",
       "       20.35 ,  6.59 , 19.85 ,  6.26 , 18.2  ,  8.695,  7.075,  8.195,\n",
       "        7.09 ,  6.095,  6.15 ,  9.395, 15.75 ,  7.475,  6.445, 19.1  ,\n",
       "       15.   , 16.7  ,  7.07 ,  6.48 ,  9.695, 11.15 ,  9.6  , 20.7  ,\n",
       "        5.5  ,  7.895, 17.35 ,  7.285,  6.17 , 11.395,  7.71 , 12.1  ,\n",
       "       14.35 ,  8.1  ,  8.05 , 16.5  ,  6.785,  7.575,  7.47 , 15.25 ,\n",
       "        7.605, 18.   , 21.2  ,  8.97 , 10.6  ,  6.865, 10.8  , 15.15 ,\n",
       "       18.1  ,  6.655, 20.1  ,  7.935, 15.35 , 12.35 ,  6.85 ,  8.775,\n",
       "       14.85 ,  7.84 , 12.5  ,  8.325,  5.765,  5.985, 14.3  ,  6.135,\n",
       "        8.51 ,  6.65 ,  5.695,  6.36 ,  8.3  ,  7.56 ,  8.71 ,  6.695,\n",
       "       14.8  , 17.75 ,  8.575,  6.57 ,  8.68 ,  5.63 ,  9.13 ,  6.715,\n",
       "        5.82 ,  7.93 ,  5.   ,  7.445,  6.675,  8.18 ,  6.98 ,  7.435,\n",
       "       20.6  ,  8.355,  8.975, 20.2  ,  5.655,  5.175, 20.   ,  7.67 ,\n",
       "        4.785,  8.395,  6.175,  8.21 ,  5.845,  7.17 ,  8.785,  7.89 ,\n",
       "        5.32 ,  5.03 ,  8.945,  6.28 ,  7.565,  9.31 ,  7.02 ,  5.46 ,\n",
       "        6.13 ,  6.55 , 17.   , 16.25 ,  5.15 ,  7.865,  6.575,  7.06 ,\n",
       "        5.785,  7.42 ,  6.235,  6.75 ,  5.86 ,  5.035,  6.38 ,  5.675,\n",
       "       11.5  , 21.   , 21.1  ,  4.61 ,  7.   ,  6.405, 14.7  ,  7.68 ,\n",
       "        8.185,  8.655, 10.85 ,  8.42 ,  7.85 ,  4.59 ,  7.51 , 11.   ,\n",
       "        6.71 , 14.75 ,  7.59 ,  5.155,  6.365,  8.235,  5.365,  8.485,\n",
       "        7.535,  4.92 ,  6.385,  8.26 ,  7.945,  8.63 ,  9.21 ,  6.965,\n",
       "        8.905,  7.21 ,  7.3  ,  9.27 , 10.695,  6.215,  7.405,  7.72 ,\n",
       "        6.115,  6.035,  6.78 , 15.3  ,  7.105,  7.52 ,  4.805,  6.425,\n",
       "        7.6  ,  6.61 ,  7.325,  8.115,  5.94 ,  5.635,  7.35 ,  5.825,\n",
       "        6.63 ,  7.05 ,  8.315,  6.8  ,  7.035,  8.96 ,  5.51 ,  8.43 ,\n",
       "        8.27 ,  7.81 ,  6.885,  5.44 ,  5.405,  4.635, 10.65 ,  5.735,\n",
       "        6.465,  8.84 ,  7.75 ,  6.765,  9.065,  7.655,  4.615,  8.76 ,\n",
       "        7.1  ,  6.195,  5.615,  8.52 ,  7.26 ,  6.825,  5.325,  5.59 ,\n",
       "        5.88 ,  5.19 ,  6.985,  9.06 ,  6.69 ,  8.615,  7.275,  6.96 ,\n",
       "        9.17 ,  8.155,  5.73 ,  8.935,  8.92 ,  7.36 ,  7.64 ,  5.34 ,\n",
       "        7.22 ,  6.615,  6.76 ,  6.3  ,  5.98 ,  8.06 ,  6.44 ,  5.095,\n",
       "        8.8  ,  6.325,  7.31 ,  9.035,  9.105,  7.145,  4.905,  4.555,\n",
       "        8.   ,  7.315,  6.89 ,  5.945,  6.86 ,  6.935,  6.03 ,  7.725,\n",
       "        5.885,  7.155,  6.46 ,  5.48 ,  8.01 ,  5.8  ,  5.305,  6.905,\n",
       "        7.96 ,  5.11 ,  8.77 ,  7.685,  8.275,  8.38 ,  8.35 ,  9.42 ,\n",
       "        6.775,  6.4  ,  6.895,  5.485,  6.52 ,  8.67 ,  5.21 ,  5.4  ])"
      ]
     },
     "execution_count": 10,
     "metadata": {},
     "output_type": "execute_result"
    }
   ],
   "source": [
    "df[\"Item_Weight\"].unique()"
   ]
  },
  {
   "cell_type": "code",
   "execution_count": 11,
   "id": "b3c7e866",
   "metadata": {},
   "outputs": [
    {
     "data": {
      "text/plain": [
       "1463"
      ]
     },
     "execution_count": 11,
     "metadata": {},
     "output_type": "execute_result"
    }
   ],
   "source": [
    "df[\"Item_Weight\"].isna().sum()"
   ]
  },
  {
   "cell_type": "code",
   "execution_count": 12,
   "id": "3dbf656c",
   "metadata": {},
   "outputs": [
    {
     "data": {
      "text/plain": [
       "count    7060.000000\n",
       "mean       12.857645\n",
       "std         4.643456\n",
       "min         4.555000\n",
       "25%         8.773750\n",
       "50%        12.600000\n",
       "75%        16.850000\n",
       "max        21.350000\n",
       "Name: Item_Weight, dtype: float64"
      ]
     },
     "execution_count": 12,
     "metadata": {},
     "output_type": "execute_result"
    }
   ],
   "source": [
    "df[\"Item_Weight\"].describe()"
   ]
  },
  {
   "cell_type": "code",
   "execution_count": 13,
   "id": "c755d141",
   "metadata": {},
   "outputs": [
    {
     "data": {
      "text/plain": [
       "<AxesSubplot:>"
      ]
     },
     "execution_count": 13,
     "metadata": {},
     "output_type": "execute_result"
    },
    {
     "data": {
      "image/png": "[encoded data removed]",
      "text/plain": [
       "<Figure size 432x288 with 1 Axes>"
      ]
     },
     "metadata": {
      "needs_background": "light"
     },
     "output_type": "display_data"
    }
   ],
   "source": [
    "df[[\"Item_Weight\"]].boxplot()"
   ]
  },
  {
   "cell_type": "code",
   "execution_count": 14,
   "id": "5879cb77",
   "metadata": {},
   "outputs": [],
   "source": [
    "df[\"Item_Weight\"]=df[\"Item_Weight\"].fillna(df[\"Item_Weight\"].mean())"
   ]
  },
  {
   "cell_type": "code",
   "execution_count": 15,
   "id": "a14a4aca",
   "metadata": {},
   "outputs": [
    {
     "data": {
      "text/plain": [
       "0"
      ]
     },
     "execution_count": 15,
     "metadata": {},
     "output_type": "execute_result"
    }
   ],
   "source": [
    "df[\"Item_Weight\"].isna().sum()"
   ]
  },
  {
   "cell_type": "code",
   "execution_count": 16,
   "id": "23f0a99f",
   "metadata": {},
   "outputs": [],
   "source": [
    "#### using around function to reduce the memory size of dataset\n",
    "#df[\"Item_Weight\"]=df[\"Item_Weight\"].apply(lambda x:round(x,2))"
   ]
  },
  {
   "cell_type": "markdown",
   "id": "b4fd93ad",
   "metadata": {},
   "source": [
    "#### 3.Item_Fat_Content "
   ]
  },
  {
   "cell_type": "code",
   "execution_count": 17,
   "id": "f22906c0",
   "metadata": {},
   "outputs": [
    {
     "data": {
      "text/plain": [
       "0       Low Fat\n",
       "1       Regular\n",
       "2       Low Fat\n",
       "3       Regular\n",
       "4       Low Fat\n",
       "         ...   \n",
       "8518    Low Fat\n",
       "8519    Regular\n",
       "8520    Low Fat\n",
       "8521    Regular\n",
       "8522    Low Fat\n",
       "Name: Item_Fat_Content, Length: 8523, dtype: object"
      ]
     },
     "execution_count": 17,
     "metadata": {},
     "output_type": "execute_result"
    }
   ],
   "source": [
    "df[\"Item_Fat_Content\"]"
   ]
  },
  {
   "cell_type": "code",
   "execution_count": 18,
   "id": "8291477f",
   "metadata": {},
   "outputs": [
    {
     "data": {
      "text/plain": [
       "array(['Low Fat', 'Regular', 'low fat', 'LF', 'reg'], dtype=object)"
      ]
     },
     "execution_count": 18,
     "metadata": {},
     "output_type": "execute_result"
    }
   ],
   "source": [
    "df[\"Item_Fat_Content\"].unique()"
   ]
  },
  {
   "cell_type": "code",
   "execution_count": 19,
   "id": "0f37ba95",
   "metadata": {},
   "outputs": [
    {
     "data": {
      "text/plain": [
       "Low Fat    5089\n",
       "Regular    2889\n",
       "LF          316\n",
       "reg         117\n",
       "low fat     112\n",
       "Name: Item_Fat_Content, dtype: int64"
      ]
     },
     "execution_count": 19,
     "metadata": {},
     "output_type": "execute_result"
    }
   ],
   "source": [
    "df[\"Item_Fat_Content\"].value_counts()"
   ]
  },
  {
   "cell_type": "code",
   "execution_count": 20,
   "id": "de6bb128",
   "metadata": {},
   "outputs": [
    {
     "data": {
      "text/plain": [
       "{'Low Fat': 5089, 'Regular': 2889, 'LF': 316, 'reg': 117, 'low fat': 112}"
      ]
     },
     "execution_count": 20,
     "metadata": {},
     "output_type": "execute_result"
    }
   ],
   "source": [
    "df[\"Item_Fat_Content\"].value_counts().to_dict()"
   ]
  },
  {
   "cell_type": "code",
   "execution_count": 21,
   "id": "eb589f9d",
   "metadata": {},
   "outputs": [
    {
     "data": {
      "text/plain": [
       "0"
      ]
     },
     "execution_count": 21,
     "metadata": {},
     "output_type": "execute_result"
    }
   ],
   "source": [
    "df[\"Item_Fat_Content\"].isna().sum()"
   ]
  },
  {
   "cell_type": "code",
   "execution_count": 22,
   "id": "d5b1cbc7",
   "metadata": {},
   "outputs": [],
   "source": [
    "## here done the lable encoding\n",
    "df[\"Item_Fat_Content\"].replace({'Low Fat': 1, 'Regular': 0, 'LF': 1, 'reg': 0, 'low fat': 1},inplace=True)"
   ]
  },
  {
   "cell_type": "code",
   "execution_count": 23,
   "id": "cd3f2cff",
   "metadata": {},
   "outputs": [
    {
     "data": {
      "text/plain": [
       "1    5517\n",
       "0    3006\n",
       "Name: Item_Fat_Content, dtype: int64"
      ]
     },
     "execution_count": 23,
     "metadata": {},
     "output_type": "execute_result"
    }
   ],
   "source": [
    "df[\"Item_Fat_Content\"].value_counts()"
   ]
  },
  {
   "cell_type": "code",
   "execution_count": 24,
   "id": "f054ed2c",
   "metadata": {},
   "outputs": [],
   "source": [
    "Item_Fat_Content_value={'Low Fat': 1, 'Regular': 0, 'LF': 1, 'reg': 0, 'low fat': 1}"
   ]
  },
  {
   "cell_type": "markdown",
   "id": "6dbb1edc",
   "metadata": {},
   "source": [
    "#### 4.Item_Visibility"
   ]
  },
  {
   "cell_type": "code",
   "execution_count": 25,
   "id": "04fea9b4",
   "metadata": {},
   "outputs": [
    {
     "data": {
      "text/plain": [
       "0       0.016047\n",
       "1       0.019278\n",
       "2       0.016760\n",
       "3       0.000000\n",
       "4       0.000000\n",
       "          ...   \n",
       "8518    0.056783\n",
       "8519    0.046982\n",
       "8520    0.035186\n",
       "8521    0.145221\n",
       "8522    0.044878\n",
       "Name: Item_Visibility, Length: 8523, dtype: float64"
      ]
     },
     "execution_count": 25,
     "metadata": {},
     "output_type": "execute_result"
    }
   ],
   "source": [
    "df[\"Item_Visibility\"]"
   ]
  },
  {
   "cell_type": "code",
   "execution_count": 26,
   "id": "693a1c04",
   "metadata": {},
   "outputs": [
    {
     "data": {
      "text/plain": [
       "array([0.0160473 , 0.01927822, 0.01676007, ..., 0.03518627, 0.14522065,\n",
       "       0.04487828])"
      ]
     },
     "execution_count": 26,
     "metadata": {},
     "output_type": "execute_result"
    }
   ],
   "source": [
    "df[\"Item_Visibility\"].unique()"
   ]
  },
  {
   "cell_type": "code",
   "execution_count": 27,
   "id": "0827da9b",
   "metadata": {},
   "outputs": [
    {
     "data": {
      "text/plain": [
       "0.000000    526\n",
       "0.076975      3\n",
       "0.162462      2\n",
       "0.076841      2\n",
       "0.073562      2\n",
       "           ... \n",
       "0.013957      1\n",
       "0.110460      1\n",
       "0.124646      1\n",
       "0.054142      1\n",
       "0.044878      1\n",
       "Name: Item_Visibility, Length: 7880, dtype: int64"
      ]
     },
     "execution_count": 27,
     "metadata": {},
     "output_type": "execute_result"
    }
   ],
   "source": [
    "df[\"Item_Visibility\"].value_counts()"
   ]
  },
  {
   "cell_type": "code",
   "execution_count": 28,
   "id": "00dd8d5f",
   "metadata": {},
   "outputs": [
    {
     "data": {
      "text/plain": [
       "0"
      ]
     },
     "execution_count": 28,
     "metadata": {},
     "output_type": "execute_result"
    }
   ],
   "source": [
    "df[\"Item_Visibility\"].isna().sum()"
   ]
  },
  {
   "cell_type": "markdown",
   "id": "81bdafe5",
   "metadata": {},
   "source": [
    "#### 5.Item_Type"
   ]
  },
  {
   "cell_type": "code",
   "execution_count": 29,
   "id": "cc4f652f",
   "metadata": {},
   "outputs": [
    {
     "data": {
      "text/plain": [
       "0                       Dairy\n",
       "1                 Soft Drinks\n",
       "2                        Meat\n",
       "3       Fruits and Vegetables\n",
       "4                   Household\n",
       "                ...          \n",
       "8518              Snack Foods\n",
       "8519             Baking Goods\n",
       "8520       Health and Hygiene\n",
       "8521              Snack Foods\n",
       "8522              Soft Drinks\n",
       "Name: Item_Type, Length: 8523, dtype: object"
      ]
     },
     "execution_count": 29,
     "metadata": {},
     "output_type": "execute_result"
    }
   ],
   "source": [
    "df[\"Item_Type\"]"
   ]
  },
  {
   "cell_type": "code",
   "execution_count": 30,
   "id": "697c1c3f",
   "metadata": {},
   "outputs": [
    {
     "data": {
      "text/plain": [
       "array(['Dairy', 'Soft Drinks', 'Meat', 'Fruits and Vegetables',\n",
       "       'Household', 'Baking Goods', 'Snack Foods', 'Frozen Foods',\n",
       "       'Breakfast', 'Health and Hygiene', 'Hard Drinks', 'Canned',\n",
       "       'Breads', 'Starchy Foods', 'Others', 'Seafood'], dtype=object)"
      ]
     },
     "execution_count": 30,
     "metadata": {},
     "output_type": "execute_result"
    }
   ],
   "source": [
    "df[\"Item_Type\"].unique()"
   ]
  },
  {
   "cell_type": "code",
   "execution_count": 31,
   "id": "33b5de37",
   "metadata": {},
   "outputs": [
    {
     "data": {
      "text/plain": [
       "Fruits and Vegetables    1232\n",
       "Snack Foods              1200\n",
       "Household                 910\n",
       "Frozen Foods              856\n",
       "Dairy                     682\n",
       "Canned                    649\n",
       "Baking Goods              648\n",
       "Health and Hygiene        520\n",
       "Soft Drinks               445\n",
       "Meat                      425\n",
       "Breads                    251\n",
       "Hard Drinks               214\n",
       "Others                    169\n",
       "Starchy Foods             148\n",
       "Breakfast                 110\n",
       "Seafood                    64\n",
       "Name: Item_Type, dtype: int64"
      ]
     },
     "execution_count": 31,
     "metadata": {},
     "output_type": "execute_result"
    }
   ],
   "source": [
    "df[\"Item_Type\"].value_counts()"
   ]
  },
  {
   "cell_type": "code",
   "execution_count": 32,
   "id": "6fb543c5",
   "metadata": {},
   "outputs": [
    {
     "data": {
      "text/plain": [
       "{'Fruits and Vegetables': 1232,\n",
       " 'Snack Foods': 1200,\n",
       " 'Household': 910,\n",
       " 'Frozen Foods': 856,\n",
       " 'Dairy': 682,\n",
       " 'Canned': 649,\n",
       " 'Baking Goods': 648,\n",
       " 'Health and Hygiene': 520,\n",
       " 'Soft Drinks': 445,\n",
       " 'Meat': 425,\n",
       " 'Breads': 251,\n",
       " 'Hard Drinks': 214,\n",
       " 'Others': 169,\n",
       " 'Starchy Foods': 148,\n",
       " 'Breakfast': 110,\n",
       " 'Seafood': 64}"
      ]
     },
     "execution_count": 32,
     "metadata": {},
     "output_type": "execute_result"
    }
   ],
   "source": [
    "df[\"Item_Type\"].value_counts().to_dict()"
   ]
  },
  {
   "cell_type": "code",
   "execution_count": 33,
   "id": "2c920cd9",
   "metadata": {},
   "outputs": [],
   "source": [
    "df[\"Item_Type\"].replace({'Fruits and Vegetables': 1,\n",
    " 'Snack Foods': 2,\n",
    " 'Household': 3,\n",
    " 'Frozen Foods': 4,\n",
    " 'Dairy': 5,\n",
    " 'Canned': 6,\n",
    " 'Baking Goods': 7,\n",
    " 'Health and Hygiene': 8,\n",
    " 'Soft Drinks': 9,\n",
    " 'Meat': 10,\n",
    " 'Breads': 11,\n",
    " 'Hard Drinks': 12,\n",
    " 'Others': 13,\n",
    " 'Starchy Foods': 14,\n",
    " 'Breakfast': 15,\n",
    " 'Seafood': 16},inplace=True)"
   ]
  },
  {
   "cell_type": "code",
   "execution_count": 34,
   "id": "4166a718",
   "metadata": {},
   "outputs": [],
   "source": [
    "Item_Type_value={'Fruits and Vegetables': 1,\n",
    " 'Snack Foods': 2,\n",
    " 'Household': 3,\n",
    " 'Frozen Foods': 4,\n",
    " 'Dairy': 5,\n",
    " 'Canned': 6,\n",
    " 'Baking Goods': 7,\n",
    " 'Health and Hygiene': 8,\n",
    " 'Soft Drinks': 9,\n",
    " 'Meat': 10,\n",
    " 'Breads': 11,\n",
    " 'Hard Drinks': 12,\n",
    " 'Others': 13,\n",
    " 'Starchy Foods': 14,\n",
    " 'Breakfast': 15,\n",
    " 'Seafood': 16}"
   ]
  },
  {
   "cell_type": "code",
   "execution_count": 35,
   "id": "f0465e94",
   "metadata": {},
   "outputs": [
    {
     "data": {
      "text/plain": [
       "1     1232\n",
       "2     1200\n",
       "3      910\n",
       "4      856\n",
       "5      682\n",
       "6      649\n",
       "7      648\n",
       "8      520\n",
       "9      445\n",
       "10     425\n",
       "11     251\n",
       "12     214\n",
       "13     169\n",
       "14     148\n",
       "15     110\n",
       "16      64\n",
       "Name: Item_Type, dtype: int64"
      ]
     },
     "execution_count": 35,
     "metadata": {},
     "output_type": "execute_result"
    }
   ],
   "source": [
    "df[\"Item_Type\"].value_counts()"
   ]
  },
  {
   "cell_type": "markdown",
   "id": "d31774a4",
   "metadata": {},
   "source": [
    "#### 6.Item_MRP"
   ]
  },
  {
   "cell_type": "code",
   "execution_count": 36,
   "id": "08bdd5db",
   "metadata": {},
   "outputs": [
    {
     "data": {
      "text/plain": [
       "0       249.8092\n",
       "1        48.2692\n",
       "2       141.6180\n",
       "3       182.0950\n",
       "4        53.8614\n",
       "          ...   \n",
       "8518    214.5218\n",
       "8519    108.1570\n",
       "8520     85.1224\n",
       "8521    103.1332\n",
       "8522     75.4670\n",
       "Name: Item_MRP, Length: 8523, dtype: float64"
      ]
     },
     "execution_count": 36,
     "metadata": {},
     "output_type": "execute_result"
    }
   ],
   "source": [
    "df[\"Item_MRP\"]"
   ]
  },
  {
   "cell_type": "code",
   "execution_count": 37,
   "id": "158d81ca",
   "metadata": {},
   "outputs": [
    {
     "data": {
      "text/plain": [
       "array([249.8092,  48.2692, 141.618 , ...,  57.5904, 214.5218,  75.467 ])"
      ]
     },
     "execution_count": 37,
     "metadata": {},
     "output_type": "execute_result"
    }
   ],
   "source": [
    "df[\"Item_MRP\"].unique()"
   ]
  },
  {
   "cell_type": "code",
   "execution_count": 38,
   "id": "c87c7e1b",
   "metadata": {},
   "outputs": [
    {
     "data": {
      "text/plain": [
       "172.0422    7\n",
       "170.5422    6\n",
       "196.5084    6\n",
       "188.1872    6\n",
       "142.0154    6\n",
       "           ..\n",
       "97.3384     1\n",
       "83.1934     1\n",
       "96.6752     1\n",
       "152.6682    1\n",
       "75.4670     1\n",
       "Name: Item_MRP, Length: 5938, dtype: int64"
      ]
     },
     "execution_count": 38,
     "metadata": {},
     "output_type": "execute_result"
    }
   ],
   "source": [
    "df[\"Item_MRP\"].value_counts()"
   ]
  },
  {
   "cell_type": "code",
   "execution_count": 39,
   "id": "1e4d60ed",
   "metadata": {},
   "outputs": [
    {
     "data": {
      "text/plain": [
       "0"
      ]
     },
     "execution_count": 39,
     "metadata": {},
     "output_type": "execute_result"
    }
   ],
   "source": [
    "df[\"Item_MRP\"].isna().sum()"
   ]
  },
  {
   "cell_type": "markdown",
   "id": "e57eb17d",
   "metadata": {},
   "source": [
    "#### 7.Outlet_Identifier"
   ]
  },
  {
   "cell_type": "code",
   "execution_count": 40,
   "id": "48b21564",
   "metadata": {},
   "outputs": [
    {
     "data": {
      "text/plain": [
       "0       OUT049\n",
       "1       OUT018\n",
       "2       OUT049\n",
       "3       OUT010\n",
       "4       OUT013\n",
       "         ...  \n",
       "8518    OUT013\n",
       "8519    OUT045\n",
       "8520    OUT035\n",
       "8521    OUT018\n",
       "8522    OUT046\n",
       "Name: Outlet_Identifier, Length: 8523, dtype: object"
      ]
     },
     "execution_count": 40,
     "metadata": {},
     "output_type": "execute_result"
    }
   ],
   "source": [
    "df[\"Outlet_Identifier\"]"
   ]
  },
  {
   "cell_type": "code",
   "execution_count": 41,
   "id": "50692315",
   "metadata": {},
   "outputs": [
    {
     "data": {
      "text/plain": [
       "array(['OUT049', 'OUT018', 'OUT010', 'OUT013', 'OUT027', 'OUT045',\n",
       "       'OUT017', 'OUT046', 'OUT035', 'OUT019'], dtype=object)"
      ]
     },
     "execution_count": 41,
     "metadata": {},
     "output_type": "execute_result"
    }
   ],
   "source": [
    "df[\"Outlet_Identifier\"].unique()"
   ]
  },
  {
   "cell_type": "code",
   "execution_count": 42,
   "id": "ad7f0a61",
   "metadata": {},
   "outputs": [
    {
     "data": {
      "text/plain": [
       "OUT027    935\n",
       "OUT013    932\n",
       "OUT049    930\n",
       "OUT046    930\n",
       "OUT035    930\n",
       "OUT045    929\n",
       "OUT018    928\n",
       "OUT017    926\n",
       "OUT010    555\n",
       "OUT019    528\n",
       "Name: Outlet_Identifier, dtype: int64"
      ]
     },
     "execution_count": 42,
     "metadata": {},
     "output_type": "execute_result"
    }
   ],
   "source": [
    "df[\"Outlet_Identifier\"].value_counts()"
   ]
  },
  {
   "cell_type": "code",
   "execution_count": 43,
   "id": "bcb992ea",
   "metadata": {},
   "outputs": [],
   "source": [
    "df=pd.get_dummies(df,columns=[\"Outlet_Identifier\"])"
   ]
  },
  {
   "cell_type": "markdown",
   "id": "370afe06",
   "metadata": {},
   "source": [
    "#### 8.Outlet_Size"
   ]
  },
  {
   "cell_type": "code",
   "execution_count": 44,
   "id": "928e5791",
   "metadata": {},
   "outputs": [
    {
     "data": {
      "text/plain": [
       "0       Medium\n",
       "1       Medium\n",
       "2       Medium\n",
       "3          NaN\n",
       "4         High\n",
       "         ...  \n",
       "8518      High\n",
       "8519       NaN\n",
       "8520     Small\n",
       "8521    Medium\n",
       "8522     Small\n",
       "Name: Outlet_Size, Length: 8523, dtype: object"
      ]
     },
     "execution_count": 44,
     "metadata": {},
     "output_type": "execute_result"
    }
   ],
   "source": [
    "df[\"Outlet_Size\"]"
   ]
  },
  {
   "cell_type": "code",
   "execution_count": 45,
   "id": "d021c0df",
   "metadata": {},
   "outputs": [
    {
     "data": {
      "text/plain": [
       "array(['Medium', nan, 'High', 'Small'], dtype=object)"
      ]
     },
     "execution_count": 45,
     "metadata": {},
     "output_type": "execute_result"
    }
   ],
   "source": [
    "df[\"Outlet_Size\"].unique()"
   ]
  },
  {
   "cell_type": "code",
   "execution_count": 46,
   "id": "44e217ab",
   "metadata": {},
   "outputs": [
    {
     "data": {
      "text/plain": [
       "Medium    2793\n",
       "Small     2388\n",
       "High       932\n",
       "Name: Outlet_Size, dtype: int64"
      ]
     },
     "execution_count": 46,
     "metadata": {},
     "output_type": "execute_result"
    }
   ],
   "source": [
    "df[\"Outlet_Size\"].value_counts()"
   ]
  },
  {
   "cell_type": "code",
   "execution_count": 47,
   "id": "ec6def19",
   "metadata": {},
   "outputs": [
    {
     "data": {
      "text/plain": [
       "{'Medium': 2793, 'Small': 2388, 'High': 932}"
      ]
     },
     "execution_count": 47,
     "metadata": {},
     "output_type": "execute_result"
    }
   ],
   "source": [
    "df[\"Outlet_Size\"].value_counts().to_dict()"
   ]
  },
  {
   "cell_type": "code",
   "execution_count": 48,
   "id": "b1beabe8",
   "metadata": {},
   "outputs": [
    {
     "data": {
      "text/plain": [
       "2410"
      ]
     },
     "execution_count": 48,
     "metadata": {},
     "output_type": "execute_result"
    }
   ],
   "source": [
    "df[\"Outlet_Size\"].isna().sum()"
   ]
  },
  {
   "cell_type": "code",
   "execution_count": 49,
   "id": "5a29688b",
   "metadata": {},
   "outputs": [],
   "source": [
    "df[\"Outlet_Size\"].fillna(df[\"Outlet_Size\"].mode()[0],inplace=True)"
   ]
  },
  {
   "cell_type": "code",
   "execution_count": 50,
   "id": "6f5f4ca7",
   "metadata": {},
   "outputs": [],
   "source": [
    "df[\"Outlet_Size\"].replace({'Medium': 1, 'Small': 2, 'High': 3},inplace=True)"
   ]
  },
  {
   "cell_type": "code",
   "execution_count": 51,
   "id": "73a938e4",
   "metadata": {},
   "outputs": [],
   "source": [
    "Outlet_Size_value={'Medium': 1, 'Small': 2, 'High': 3}"
   ]
  },
  {
   "cell_type": "markdown",
   "id": "e8cf4516",
   "metadata": {},
   "source": [
    "#### 9.Outlet_Location_Type"
   ]
  },
  {
   "cell_type": "code",
   "execution_count": 52,
   "id": "7a6d4d5b",
   "metadata": {},
   "outputs": [
    {
     "data": {
      "text/plain": [
       "0       Tier 1\n",
       "1       Tier 3\n",
       "2       Tier 1\n",
       "3       Tier 3\n",
       "4       Tier 3\n",
       "         ...  \n",
       "8518    Tier 3\n",
       "8519    Tier 2\n",
       "8520    Tier 2\n",
       "8521    Tier 3\n",
       "8522    Tier 1\n",
       "Name: Outlet_Location_Type, Length: 8523, dtype: object"
      ]
     },
     "execution_count": 52,
     "metadata": {},
     "output_type": "execute_result"
    }
   ],
   "source": [
    "df[\"Outlet_Location_Type\"]"
   ]
  },
  {
   "cell_type": "code",
   "execution_count": 53,
   "id": "087c8bf8",
   "metadata": {},
   "outputs": [
    {
     "data": {
      "text/plain": [
       "array(['Tier 1', 'Tier 3', 'Tier 2'], dtype=object)"
      ]
     },
     "execution_count": 53,
     "metadata": {},
     "output_type": "execute_result"
    }
   ],
   "source": [
    "df[\"Outlet_Location_Type\"].unique()"
   ]
  },
  {
   "cell_type": "code",
   "execution_count": 54,
   "id": "5e5322a5",
   "metadata": {},
   "outputs": [
    {
     "data": {
      "text/plain": [
       "Tier 3    3350\n",
       "Tier 2    2785\n",
       "Tier 1    2388\n",
       "Name: Outlet_Location_Type, dtype: int64"
      ]
     },
     "execution_count": 54,
     "metadata": {},
     "output_type": "execute_result"
    }
   ],
   "source": [
    "df[\"Outlet_Location_Type\"].value_counts()"
   ]
  },
  {
   "cell_type": "code",
   "execution_count": 55,
   "id": "845952f4",
   "metadata": {},
   "outputs": [
    {
     "data": {
      "text/plain": [
       "{'Tier 3': 3350, 'Tier 2': 2785, 'Tier 1': 2388}"
      ]
     },
     "execution_count": 55,
     "metadata": {},
     "output_type": "execute_result"
    }
   ],
   "source": [
    "df[\"Outlet_Location_Type\"].value_counts().to_dict()"
   ]
  },
  {
   "cell_type": "code",
   "execution_count": 56,
   "id": "1b8fe6c9",
   "metadata": {},
   "outputs": [
    {
     "data": {
      "text/plain": [
       "0"
      ]
     },
     "execution_count": 56,
     "metadata": {},
     "output_type": "execute_result"
    }
   ],
   "source": [
    "df[\"Outlet_Location_Type\"].isna().sum()"
   ]
  },
  {
   "cell_type": "code",
   "execution_count": 57,
   "id": "e32718c0",
   "metadata": {},
   "outputs": [],
   "source": [
    "df[\"Outlet_Location_Type\"].replace({'Tier 3': 1, 'Tier 2': 2, 'Tier 1': 3},inplace=True)"
   ]
  },
  {
   "cell_type": "code",
   "execution_count": 58,
   "id": "64d26a52",
   "metadata": {},
   "outputs": [],
   "source": [
    "Outlet_Location_Type_value={'Tier 3': 1, 'Tier 2': 2, 'Tier 1': 3}"
   ]
  },
  {
   "cell_type": "code",
   "execution_count": 59,
   "id": "962f15bf",
   "metadata": {},
   "outputs": [
    {
     "data": {
      "text/plain": [
       "1    3350\n",
       "2    2785\n",
       "3    2388\n",
       "Name: Outlet_Location_Type, dtype: int64"
      ]
     },
     "execution_count": 59,
     "metadata": {},
     "output_type": "execute_result"
    }
   ],
   "source": [
    "df[\"Outlet_Location_Type\"].value_counts()"
   ]
  },
  {
   "cell_type": "markdown",
   "id": "1671af7d",
   "metadata": {},
   "source": [
    "#### 9.Outlet_Type"
   ]
  },
  {
   "cell_type": "code",
   "execution_count": 60,
   "id": "85af4a8c",
   "metadata": {},
   "outputs": [
    {
     "data": {
      "text/plain": [
       "0       Supermarket Type1\n",
       "1       Supermarket Type2\n",
       "2       Supermarket Type1\n",
       "3           Grocery Store\n",
       "4       Supermarket Type1\n",
       "              ...        \n",
       "8518    Supermarket Type1\n",
       "8519    Supermarket Type1\n",
       "8520    Supermarket Type1\n",
       "8521    Supermarket Type2\n",
       "8522    Supermarket Type1\n",
       "Name: Outlet_Type, Length: 8523, dtype: object"
      ]
     },
     "execution_count": 60,
     "metadata": {},
     "output_type": "execute_result"
    }
   ],
   "source": [
    "df[\"Outlet_Type\"]"
   ]
  },
  {
   "cell_type": "code",
   "execution_count": 61,
   "id": "803cbd6b",
   "metadata": {},
   "outputs": [
    {
     "data": {
      "text/plain": [
       "array(['Supermarket Type1', 'Supermarket Type2', 'Grocery Store',\n",
       "       'Supermarket Type3'], dtype=object)"
      ]
     },
     "execution_count": 61,
     "metadata": {},
     "output_type": "execute_result"
    }
   ],
   "source": [
    "df[\"Outlet_Type\"].unique()"
   ]
  },
  {
   "cell_type": "code",
   "execution_count": 62,
   "id": "7ec97708",
   "metadata": {},
   "outputs": [
    {
     "data": {
      "text/plain": [
       "Supermarket Type1    5577\n",
       "Grocery Store        1083\n",
       "Supermarket Type3     935\n",
       "Supermarket Type2     928\n",
       "Name: Outlet_Type, dtype: int64"
      ]
     },
     "execution_count": 62,
     "metadata": {},
     "output_type": "execute_result"
    }
   ],
   "source": [
    "df[\"Outlet_Type\"].value_counts()"
   ]
  },
  {
   "cell_type": "code",
   "execution_count": 63,
   "id": "e6d06c76",
   "metadata": {},
   "outputs": [
    {
     "data": {
      "text/plain": [
       "{'Supermarket Type1': 5577,\n",
       " 'Grocery Store': 1083,\n",
       " 'Supermarket Type3': 935,\n",
       " 'Supermarket Type2': 928}"
      ]
     },
     "execution_count": 63,
     "metadata": {},
     "output_type": "execute_result"
    }
   ],
   "source": [
    "df[\"Outlet_Type\"].value_counts().to_dict()"
   ]
  },
  {
   "cell_type": "code",
   "execution_count": 64,
   "id": "953e64c1",
   "metadata": {},
   "outputs": [],
   "source": [
    "df[\"Outlet_Type\"].replace({'Supermarket Type1': 1,\n",
    " 'Grocery Store': 2,\n",
    " 'Supermarket Type3': 3,\n",
    " 'Supermarket Type2': 4},inplace=True)"
   ]
  },
  {
   "cell_type": "code",
   "execution_count": 65,
   "id": "85e541ed",
   "metadata": {},
   "outputs": [],
   "source": [
    "Outlet_Type_value={'Supermarket Type1': 1,\n",
    " 'Grocery Store': 2,\n",
    " 'Supermarket Type3': 3,\n",
    " 'Supermarket Type2': 4}"
   ]
  },
  {
   "cell_type": "markdown",
   "id": "23b3f1b3",
   "metadata": {},
   "source": [
    "#### 10.Item_Outlet_Sales"
   ]
  },
  {
   "cell_type": "code",
   "execution_count": 66,
   "id": "f709ed89",
   "metadata": {},
   "outputs": [
    {
     "data": {
      "text/plain": [
       "0       3735.1380\n",
       "1        443.4228\n",
       "2       2097.2700\n",
       "3        732.3800\n",
       "4        994.7052\n",
       "          ...    \n",
       "8518    2778.3834\n",
       "8519     549.2850\n",
       "8520    1193.1136\n",
       "8521    1845.5976\n",
       "8522     765.6700\n",
       "Name: Item_Outlet_Sales, Length: 8523, dtype: float64"
      ]
     },
     "execution_count": 66,
     "metadata": {},
     "output_type": "execute_result"
    }
   ],
   "source": [
    "df[\"Item_Outlet_Sales\"]"
   ]
  },
  {
   "cell_type": "code",
   "execution_count": 67,
   "id": "4cd1a84f",
   "metadata": {},
   "outputs": [
    {
     "data": {
      "text/plain": [
       "958.7520     17\n",
       "1342.2528    16\n",
       "703.0848     15\n",
       "1845.5976    15\n",
       "1278.3360    14\n",
       "             ..\n",
       "4124.6310     1\n",
       "6622.7126     1\n",
       "1614.5650     1\n",
       "5602.7070     1\n",
       "2778.3834     1\n",
       "Name: Item_Outlet_Sales, Length: 3493, dtype: int64"
      ]
     },
     "execution_count": 67,
     "metadata": {},
     "output_type": "execute_result"
    }
   ],
   "source": [
    "df[\"Item_Outlet_Sales\"].value_counts()"
   ]
  },
  {
   "cell_type": "code",
   "execution_count": null,
   "id": "4969f593",
   "metadata": {},
   "outputs": [
    {
     "data": {
      "text/plain": [
       "<AxesSubplot:>"
      ]
     },
     "execution_count": 68,
     "metadata": {},
     "output_type": "execute_result"
    }
   ],
   "source": [
    "df[[\"Item_Outlet_Sales\"]].boxplot()"
   ]
  },
  {
   "cell_type": "code",
   "execution_count": null,
   "id": "5a54bfc3",
   "metadata": {},
   "outputs": [],
   "source": []
  },
  {
   "cell_type": "code",
   "execution_count": 65,
   "id": "6846c6d6",
   "metadata": {},
   "outputs": [
    {
     "name": "stdout",
     "output_type": "stream",
     "text": [
      "<class 'pandas.core.frame.DataFrame'>\n",
      "RangeIndex: 8523 entries, 0 to 8522\n",
      "Data columns (total 21 columns):\n",
      " #   Column                     Non-Null Count  Dtype  \n",
      "---  ------                     --------------  -----  \n",
      " 0   Item_Identifier            8523 non-null   object \n",
      " 1   Item_Weight                8523 non-null   float64\n",
      " 2   Item_Fat_Content           8523 non-null   int64  \n",
      " 3   Item_Visibility            8523 non-null   float64\n",
      " 4   Item_Type                  8523 non-null   int64  \n",
      " 5   Item_MRP                   8523 non-null   float64\n",
      " 6   Outlet_Establishment_Year  8523 non-null   int64  \n",
      " 7   Outlet_Size                8523 non-null   int64  \n",
      " 8   Outlet_Location_Type       8523 non-null   int64  \n",
      " 9   Outlet_Type                8523 non-null   int64  \n",
      " 10  Item_Outlet_Sales          8523 non-null   float64\n",
      " 11  Outlet_Identifier_OUT010   8523 non-null   uint8  \n",
      " 12  Outlet_Identifier_OUT013   8523 non-null   uint8  \n",
      " 13  Outlet_Identifier_OUT017   8523 non-null   uint8  \n",
      " 14  Outlet_Identifier_OUT018   8523 non-null   uint8  \n",
      " 15  Outlet_Identifier_OUT019   8523 non-null   uint8  \n",
      " 16  Outlet_Identifier_OUT027   8523 non-null   uint8  \n",
      " 17  Outlet_Identifier_OUT035   8523 non-null   uint8  \n",
      " 18  Outlet_Identifier_OUT045   8523 non-null   uint8  \n",
      " 19  Outlet_Identifier_OUT046   8523 non-null   uint8  \n",
      " 20  Outlet_Identifier_OUT049   8523 non-null   uint8  \n",
      "dtypes: float64(4), int64(6), object(1), uint8(10)\n",
      "memory usage: 815.8+ KB\n"
     ]
    }
   ],
   "source": [
    "df.info()\n"
   ]
  },
  {
   "cell_type": "code",
   "execution_count": 66,
   "id": "9497e69d",
   "metadata": {},
   "outputs": [
    {
     "data": {
      "text/plain": [
       "<AxesSubplot:>"
      ]
     },
     "execution_count": 66,
     "metadata": {},
     "output_type": "execute_result"
    },
    {
     "data": {
      "image/png": "[encoded data removed]",
      "text/plain": [
       "<Figure size 2500x1500 with 1 Axes>"
      ]
     },
     "metadata": {},
     "output_type": "display_data"
    }
   ],
   "source": [
    "plt.figure(figsize=(25,15))\n",
    "df.boxplot()"
   ]
  },
  {
   "cell_type": "markdown",
   "id": "9afeb407",
   "metadata": {},
   "source": [
    "## Features engineering "
   ]
  },
  {
   "cell_type": "markdown",
   "id": "f66d91c0",
   "metadata": {},
   "source": [
    "## features selections"
   ]
  },
  {
   "cell_type": "markdown",
   "id": "cb54da65",
   "metadata": {},
   "source": [
    "### linerity"
   ]
  },
  {
   "cell_type": "code",
   "execution_count": 67,
   "id": "db8da016",
   "metadata": {},
   "outputs": [
    {
     "data": {
      "text/html": [
       "<div>\n",
       "<style scoped>\n",
       "    .dataframe tbody tr th:only-of-type {\n",
       "        vertical-align: middle;\n",
       "    }\n",
       "\n",
       "    .dataframe tbody tr th {\n",
       "        vertical-align: top;\n",
       "    }\n",
       "\n",
       "    .dataframe thead th {\n",
       "        text-align: right;\n",
       "    }\n",
       "</style>\n",
       "<table border=\"1\" class=\"dataframe\">\n",
       "  <thead>\n",
       "    <tr style=\"text-align: right;\">\n",
       "      <th></th>\n",
       "      <th>Item_Weight</th>\n",
       "      <th>Item_Fat_Content</th>\n",
       "      <th>Item_Visibility</th>\n",
       "      <th>Item_Type</th>\n",
       "      <th>Item_MRP</th>\n",
       "      <th>Outlet_Establishment_Year</th>\n",
       "      <th>Outlet_Size</th>\n",
       "      <th>Outlet_Location_Type</th>\n",
       "      <th>Outlet_Type</th>\n",
       "      <th>Item_Outlet_Sales</th>\n",
       "      <th>Outlet_Identifier_OUT010</th>\n",
       "      <th>Outlet_Identifier_OUT013</th>\n",
       "      <th>Outlet_Identifier_OUT017</th>\n",
       "      <th>Outlet_Identifier_OUT018</th>\n",
       "      <th>Outlet_Identifier_OUT019</th>\n",
       "      <th>Outlet_Identifier_OUT027</th>\n",
       "      <th>Outlet_Identifier_OUT035</th>\n",
       "      <th>Outlet_Identifier_OUT045</th>\n",
       "      <th>Outlet_Identifier_OUT046</th>\n",
       "      <th>Outlet_Identifier_OUT049</th>\n",
       "    </tr>\n",
       "  </thead>\n",
       "  <tbody>\n",
       "    <tr>\n",
       "      <th>Item_Weight</th>\n",
       "      <td>1.000000</td>\n",
       "      <td>0.021161</td>\n",
       "      <td>-0.012020</td>\n",
       "      <td>-0.049726</td>\n",
       "      <td>0.024771</td>\n",
       "      <td>-0.008438</td>\n",
       "      <td>0.010485</td>\n",
       "      <td>-0.004107</td>\n",
       "      <td>0.002064</td>\n",
       "      <td>0.011573</td>\n",
       "      <td>0.003449</td>\n",
       "      <td>0.012278</td>\n",
       "      <td>-0.002592</td>\n",
       "      <td>0.001267</td>\n",
       "      <td>0.000112</td>\n",
       "      <td>0.000153</td>\n",
       "      <td>-0.002368</td>\n",
       "      <td>-0.017224</td>\n",
       "      <td>0.000725</td>\n",
       "      <td>0.004922</td>\n",
       "    </tr>\n",
       "    <tr>\n",
       "      <th>Item_Fat_Content</th>\n",
       "      <td>0.021161</td>\n",
       "      <td>1.000000</td>\n",
       "      <td>-0.047314</td>\n",
       "      <td>0.058227</td>\n",
       "      <td>-0.006063</td>\n",
       "      <td>-0.003151</td>\n",
       "      <td>0.003461</td>\n",
       "      <td>-0.001598</td>\n",
       "      <td>-0.001081</td>\n",
       "      <td>-0.018719</td>\n",
       "      <td>-0.000254</td>\n",
       "      <td>0.002132</td>\n",
       "      <td>-0.004266</td>\n",
       "      <td>-0.002129</td>\n",
       "      <td>0.004300</td>\n",
       "      <td>-0.000183</td>\n",
       "      <td>0.003154</td>\n",
       "      <td>0.006029</td>\n",
       "      <td>-0.003147</td>\n",
       "      <td>-0.004722</td>\n",
       "    </tr>\n",
       "    <tr>\n",
       "      <th>Item_Visibility</th>\n",
       "      <td>-0.012020</td>\n",
       "      <td>-0.047314</td>\n",
       "      <td>1.000000</td>\n",
       "      <td>-0.005357</td>\n",
       "      <td>-0.001315</td>\n",
       "      <td>-0.074834</td>\n",
       "      <td>0.003422</td>\n",
       "      <td>0.028099</td>\n",
       "      <td>0.029674</td>\n",
       "      <td>-0.128625</td>\n",
       "      <td>0.180697</td>\n",
       "      <td>-0.041937</td>\n",
       "      <td>-0.032179</td>\n",
       "      <td>-0.034671</td>\n",
       "      <td>0.210736</td>\n",
       "      <td>-0.051144</td>\n",
       "      <td>-0.033025</td>\n",
       "      <td>-0.038353</td>\n",
       "      <td>-0.038444</td>\n",
       "      <td>-0.036130</td>\n",
       "    </tr>\n",
       "    <tr>\n",
       "      <th>Item_Type</th>\n",
       "      <td>-0.049726</td>\n",
       "      <td>0.058227</td>\n",
       "      <td>-0.005357</td>\n",
       "      <td>1.000000</td>\n",
       "      <td>-0.055627</td>\n",
       "      <td>0.000152</td>\n",
       "      <td>-0.003601</td>\n",
       "      <td>0.002207</td>\n",
       "      <td>0.002595</td>\n",
       "      <td>-0.035899</td>\n",
       "      <td>0.008004</td>\n",
       "      <td>-0.005546</td>\n",
       "      <td>-0.000480</td>\n",
       "      <td>0.000738</td>\n",
       "      <td>0.008933</td>\n",
       "      <td>-0.003368</td>\n",
       "      <td>-0.003259</td>\n",
       "      <td>0.001697</td>\n",
       "      <td>-0.000452</td>\n",
       "      <td>-0.002557</td>\n",
       "    </tr>\n",
       "    <tr>\n",
       "      <th>Item_MRP</th>\n",
       "      <td>0.024771</td>\n",
       "      <td>-0.006063</td>\n",
       "      <td>-0.001315</td>\n",
       "      <td>-0.055627</td>\n",
       "      <td>1.000000</td>\n",
       "      <td>0.005020</td>\n",
       "      <td>0.008646</td>\n",
       "      <td>-0.000232</td>\n",
       "      <td>-0.001935</td>\n",
       "      <td>0.567574</td>\n",
       "      <td>-0.000912</td>\n",
       "      <td>0.002438</td>\n",
       "      <td>-0.008812</td>\n",
       "      <td>0.003850</td>\n",
       "      <td>-0.004976</td>\n",
       "      <td>-0.006714</td>\n",
       "      <td>0.011969</td>\n",
       "      <td>-0.000239</td>\n",
       "      <td>0.005983</td>\n",
       "      <td>-0.003906</td>\n",
       "    </tr>\n",
       "    <tr>\n",
       "      <th>Outlet_Establishment_Year</th>\n",
       "      <td>-0.008438</td>\n",
       "      <td>-0.003151</td>\n",
       "      <td>-0.074834</td>\n",
       "      <td>0.000152</td>\n",
       "      <td>0.005020</td>\n",
       "      <td>1.000000</td>\n",
       "      <td>-0.450456</td>\n",
       "      <td>0.089216</td>\n",
       "      <td>0.005559</td>\n",
       "      <td>-0.049135</td>\n",
       "      <td>0.005301</td>\n",
       "      <td>-0.453388</td>\n",
       "      <td>0.382361</td>\n",
       "      <td>0.466336</td>\n",
       "      <td>-0.393918</td>\n",
       "      <td>-0.538072</td>\n",
       "      <td>0.257868</td>\n",
       "      <td>0.174150</td>\n",
       "      <td>-0.034777</td>\n",
       "      <td>0.048836</td>\n",
       "    </tr>\n",
       "    <tr>\n",
       "      <th>Outlet_Size</th>\n",
       "      <td>0.010485</td>\n",
       "      <td>0.003461</td>\n",
       "      <td>0.003422</td>\n",
       "      <td>-0.003601</td>\n",
       "      <td>0.008646</td>\n",
       "      <td>-0.450456</td>\n",
       "      <td>1.000000</td>\n",
       "      <td>0.015589</td>\n",
       "      <td>-0.382670</td>\n",
       "      <td>-0.042514</td>\n",
       "      <td>-0.192320</td>\n",
       "      <td>0.768289</td>\n",
       "      <td>-0.254412</td>\n",
       "      <td>-0.254720</td>\n",
       "      <td>0.188103</td>\n",
       "      <td>-0.255797</td>\n",
       "      <td>0.256167</td>\n",
       "      <td>-0.254874</td>\n",
       "      <td>0.256167</td>\n",
       "      <td>-0.255028</td>\n",
       "    </tr>\n",
       "    <tr>\n",
       "      <th>Outlet_Location_Type</th>\n",
       "      <td>-0.004107</td>\n",
       "      <td>-0.001598</td>\n",
       "      <td>0.028099</td>\n",
       "      <td>0.002207</td>\n",
       "      <td>-0.000232</td>\n",
       "      <td>0.089216</td>\n",
       "      <td>0.015589</td>\n",
       "      <td>1.000000</td>\n",
       "      <td>-0.557050</td>\n",
       "      <td>-0.089367</td>\n",
       "      <td>-0.288087</td>\n",
       "      <td>-0.382481</td>\n",
       "      <td>0.048488</td>\n",
       "      <td>-0.381559</td>\n",
       "      <td>0.351898</td>\n",
       "      <td>-0.383172</td>\n",
       "      <td>0.048605</td>\n",
       "      <td>0.048576</td>\n",
       "      <td>0.479230</td>\n",
       "      <td>0.479230</td>\n",
       "    </tr>\n",
       "    <tr>\n",
       "      <th>Outlet_Type</th>\n",
       "      <td>0.002064</td>\n",
       "      <td>-0.001081</td>\n",
       "      <td>0.029674</td>\n",
       "      <td>0.002595</td>\n",
       "      <td>-0.001935</td>\n",
       "      <td>0.005559</td>\n",
       "      <td>-0.382670</td>\n",
       "      <td>-0.557050</td>\n",
       "      <td>1.000000</td>\n",
       "      <td>0.020871</td>\n",
       "      <td>0.082529</td>\n",
       "      <td>-0.225629</td>\n",
       "      <td>-0.224813</td>\n",
       "      <td>0.778087</td>\n",
       "      <td>0.080360</td>\n",
       "      <td>0.445572</td>\n",
       "      <td>-0.225357</td>\n",
       "      <td>-0.225221</td>\n",
       "      <td>-0.225357</td>\n",
       "      <td>-0.225357</td>\n",
       "    </tr>\n",
       "    <tr>\n",
       "      <th>Item_Outlet_Sales</th>\n",
       "      <td>0.011573</td>\n",
       "      <td>-0.018719</td>\n",
       "      <td>-0.128625</td>\n",
       "      <td>-0.035899</td>\n",
       "      <td>0.567574</td>\n",
       "      <td>-0.049135</td>\n",
       "      <td>-0.042514</td>\n",
       "      <td>-0.089367</td>\n",
       "      <td>0.020871</td>\n",
       "      <td>1.000000</td>\n",
       "      <td>-0.284883</td>\n",
       "      <td>0.024170</td>\n",
       "      <td>0.032610</td>\n",
       "      <td>-0.038059</td>\n",
       "      <td>-0.277250</td>\n",
       "      <td>0.311192</td>\n",
       "      <td>0.052823</td>\n",
       "      <td>0.002274</td>\n",
       "      <td>0.019803</td>\n",
       "      <td>0.034264</td>\n",
       "    </tr>\n",
       "    <tr>\n",
       "      <th>Outlet_Identifier_OUT010</th>\n",
       "      <td>0.003449</td>\n",
       "      <td>-0.000254</td>\n",
       "      <td>0.180697</td>\n",
       "      <td>0.008004</td>\n",
       "      <td>-0.000912</td>\n",
       "      <td>0.005301</td>\n",
       "      <td>-0.192320</td>\n",
       "      <td>-0.288087</td>\n",
       "      <td>0.082529</td>\n",
       "      <td>-0.284883</td>\n",
       "      <td>1.000000</td>\n",
       "      <td>-0.092476</td>\n",
       "      <td>-0.092142</td>\n",
       "      <td>-0.092253</td>\n",
       "      <td>-0.067823</td>\n",
       "      <td>-0.092643</td>\n",
       "      <td>-0.092365</td>\n",
       "      <td>-0.092309</td>\n",
       "      <td>-0.092365</td>\n",
       "      <td>-0.092365</td>\n",
       "    </tr>\n",
       "    <tr>\n",
       "      <th>Outlet_Identifier_OUT013</th>\n",
       "      <td>0.012278</td>\n",
       "      <td>0.002132</td>\n",
       "      <td>-0.041937</td>\n",
       "      <td>-0.005546</td>\n",
       "      <td>0.002438</td>\n",
       "      <td>-0.453388</td>\n",
       "      <td>0.768289</td>\n",
       "      <td>-0.382481</td>\n",
       "      <td>-0.225629</td>\n",
       "      <td>0.024170</td>\n",
       "      <td>-0.092476</td>\n",
       "      <td>1.000000</td>\n",
       "      <td>-0.122333</td>\n",
       "      <td>-0.122481</td>\n",
       "      <td>-0.090046</td>\n",
       "      <td>-0.122999</td>\n",
       "      <td>-0.122629</td>\n",
       "      <td>-0.122555</td>\n",
       "      <td>-0.122629</td>\n",
       "      <td>-0.122629</td>\n",
       "    </tr>\n",
       "    <tr>\n",
       "      <th>Outlet_Identifier_OUT017</th>\n",
       "      <td>-0.002592</td>\n",
       "      <td>-0.004266</td>\n",
       "      <td>-0.032179</td>\n",
       "      <td>-0.000480</td>\n",
       "      <td>-0.008812</td>\n",
       "      <td>0.382361</td>\n",
       "      <td>-0.254412</td>\n",
       "      <td>0.048488</td>\n",
       "      <td>-0.224813</td>\n",
       "      <td>0.032610</td>\n",
       "      <td>-0.092142</td>\n",
       "      <td>-0.122333</td>\n",
       "      <td>1.000000</td>\n",
       "      <td>-0.122038</td>\n",
       "      <td>-0.089721</td>\n",
       "      <td>-0.122554</td>\n",
       "      <td>-0.122185</td>\n",
       "      <td>-0.122112</td>\n",
       "      <td>-0.122185</td>\n",
       "      <td>-0.122185</td>\n",
       "    </tr>\n",
       "    <tr>\n",
       "      <th>Outlet_Identifier_OUT018</th>\n",
       "      <td>0.001267</td>\n",
       "      <td>-0.002129</td>\n",
       "      <td>-0.034671</td>\n",
       "      <td>0.000738</td>\n",
       "      <td>0.003850</td>\n",
       "      <td>0.466336</td>\n",
       "      <td>-0.254720</td>\n",
       "      <td>-0.381559</td>\n",
       "      <td>0.778087</td>\n",
       "      <td>-0.038059</td>\n",
       "      <td>-0.092253</td>\n",
       "      <td>-0.122481</td>\n",
       "      <td>-0.122038</td>\n",
       "      <td>1.000000</td>\n",
       "      <td>-0.089829</td>\n",
       "      <td>-0.122702</td>\n",
       "      <td>-0.122333</td>\n",
       "      <td>-0.122260</td>\n",
       "      <td>-0.122333</td>\n",
       "      <td>-0.122333</td>\n",
       "    </tr>\n",
       "    <tr>\n",
       "      <th>Outlet_Identifier_OUT019</th>\n",
       "      <td>0.000112</td>\n",
       "      <td>0.004300</td>\n",
       "      <td>0.210736</td>\n",
       "      <td>0.008933</td>\n",
       "      <td>-0.004976</td>\n",
       "      <td>-0.393918</td>\n",
       "      <td>0.188103</td>\n",
       "      <td>0.351898</td>\n",
       "      <td>0.080360</td>\n",
       "      <td>-0.277250</td>\n",
       "      <td>-0.067823</td>\n",
       "      <td>-0.090046</td>\n",
       "      <td>-0.089721</td>\n",
       "      <td>-0.089829</td>\n",
       "      <td>1.000000</td>\n",
       "      <td>-0.090209</td>\n",
       "      <td>-0.089938</td>\n",
       "      <td>-0.089884</td>\n",
       "      <td>-0.089938</td>\n",
       "      <td>-0.089938</td>\n",
       "    </tr>\n",
       "    <tr>\n",
       "      <th>Outlet_Identifier_OUT027</th>\n",
       "      <td>0.000153</td>\n",
       "      <td>-0.000183</td>\n",
       "      <td>-0.051144</td>\n",
       "      <td>-0.003368</td>\n",
       "      <td>-0.006714</td>\n",
       "      <td>-0.538072</td>\n",
       "      <td>-0.255797</td>\n",
       "      <td>-0.383172</td>\n",
       "      <td>0.445572</td>\n",
       "      <td>0.311192</td>\n",
       "      <td>-0.092643</td>\n",
       "      <td>-0.122999</td>\n",
       "      <td>-0.122554</td>\n",
       "      <td>-0.122702</td>\n",
       "      <td>-0.090209</td>\n",
       "      <td>1.000000</td>\n",
       "      <td>-0.122850</td>\n",
       "      <td>-0.122776</td>\n",
       "      <td>-0.122850</td>\n",
       "      <td>-0.122850</td>\n",
       "    </tr>\n",
       "    <tr>\n",
       "      <th>Outlet_Identifier_OUT035</th>\n",
       "      <td>-0.002368</td>\n",
       "      <td>0.003154</td>\n",
       "      <td>-0.033025</td>\n",
       "      <td>-0.003259</td>\n",
       "      <td>0.011969</td>\n",
       "      <td>0.257868</td>\n",
       "      <td>0.256167</td>\n",
       "      <td>0.048605</td>\n",
       "      <td>-0.225357</td>\n",
       "      <td>0.052823</td>\n",
       "      <td>-0.092365</td>\n",
       "      <td>-0.122629</td>\n",
       "      <td>-0.122185</td>\n",
       "      <td>-0.122333</td>\n",
       "      <td>-0.089938</td>\n",
       "      <td>-0.122850</td>\n",
       "      <td>1.000000</td>\n",
       "      <td>-0.122407</td>\n",
       "      <td>-0.122481</td>\n",
       "      <td>-0.122481</td>\n",
       "    </tr>\n",
       "    <tr>\n",
       "      <th>Outlet_Identifier_OUT045</th>\n",
       "      <td>-0.017224</td>\n",
       "      <td>0.006029</td>\n",
       "      <td>-0.038353</td>\n",
       "      <td>0.001697</td>\n",
       "      <td>-0.000239</td>\n",
       "      <td>0.174150</td>\n",
       "      <td>-0.254874</td>\n",
       "      <td>0.048576</td>\n",
       "      <td>-0.225221</td>\n",
       "      <td>0.002274</td>\n",
       "      <td>-0.092309</td>\n",
       "      <td>-0.122555</td>\n",
       "      <td>-0.122112</td>\n",
       "      <td>-0.122260</td>\n",
       "      <td>-0.089884</td>\n",
       "      <td>-0.122776</td>\n",
       "      <td>-0.122407</td>\n",
       "      <td>1.000000</td>\n",
       "      <td>-0.122407</td>\n",
       "      <td>-0.122407</td>\n",
       "    </tr>\n",
       "    <tr>\n",
       "      <th>Outlet_Identifier_OUT046</th>\n",
       "      <td>0.000725</td>\n",
       "      <td>-0.003147</td>\n",
       "      <td>-0.038444</td>\n",
       "      <td>-0.000452</td>\n",
       "      <td>0.005983</td>\n",
       "      <td>-0.034777</td>\n",
       "      <td>0.256167</td>\n",
       "      <td>0.479230</td>\n",
       "      <td>-0.225357</td>\n",
       "      <td>0.019803</td>\n",
       "      <td>-0.092365</td>\n",
       "      <td>-0.122629</td>\n",
       "      <td>-0.122185</td>\n",
       "      <td>-0.122333</td>\n",
       "      <td>-0.089938</td>\n",
       "      <td>-0.122850</td>\n",
       "      <td>-0.122481</td>\n",
       "      <td>-0.122407</td>\n",
       "      <td>1.000000</td>\n",
       "      <td>-0.122481</td>\n",
       "    </tr>\n",
       "    <tr>\n",
       "      <th>Outlet_Identifier_OUT049</th>\n",
       "      <td>0.004922</td>\n",
       "      <td>-0.004722</td>\n",
       "      <td>-0.036130</td>\n",
       "      <td>-0.002557</td>\n",
       "      <td>-0.003906</td>\n",
       "      <td>0.048836</td>\n",
       "      <td>-0.255028</td>\n",
       "      <td>0.479230</td>\n",
       "      <td>-0.225357</td>\n",
       "      <td>0.034264</td>\n",
       "      <td>-0.092365</td>\n",
       "      <td>-0.122629</td>\n",
       "      <td>-0.122185</td>\n",
       "      <td>-0.122333</td>\n",
       "      <td>-0.089938</td>\n",
       "      <td>-0.122850</td>\n",
       "      <td>-0.122481</td>\n",
       "      <td>-0.122407</td>\n",
       "      <td>-0.122481</td>\n",
       "      <td>1.000000</td>\n",
       "    </tr>\n",
       "  </tbody>\n",
       "</table>\n",
       "</div>"
      ],
      "text/plain": [
       "                           Item_Weight  Item_Fat_Content  Item_Visibility  \\\n",
       "Item_Weight                   1.000000          0.021161        -0.012020   \n",
       "Item_Fat_Content              0.021161          1.000000        -0.047314   \n",
       "Item_Visibility              -0.012020         -0.047314         1.000000   \n",
       "Item_Type                    -0.049726          0.058227        -0.005357   \n",
       "Item_MRP                      0.024771         -0.006063        -0.001315   \n",
       "Outlet_Establishment_Year    -0.008438         -0.003151        -0.074834   \n",
       "Outlet_Size                   0.010485          0.003461         0.003422   \n",
       "Outlet_Location_Type         -0.004107         -0.001598         0.028099   \n",
       "Outlet_Type                   0.002064         -0.001081         0.029674   \n",
       "Item_Outlet_Sales             0.011573         -0.018719        -0.128625   \n",
       "Outlet_Identifier_OUT010      0.003449         -0.000254         0.180697   \n",
       "Outlet_Identifier_OUT013      0.012278          0.002132        -0.041937   \n",
       "Outlet_Identifier_OUT017     -0.002592         -0.004266        -0.032179   \n",
       "Outlet_Identifier_OUT018      0.001267         -0.002129        -0.034671   \n",
       "Outlet_Identifier_OUT019      0.000112          0.004300         0.210736   \n",
       "Outlet_Identifier_OUT027      0.000153         -0.000183        -0.051144   \n",
       "Outlet_Identifier_OUT035     -0.002368          0.003154        -0.033025   \n",
       "Outlet_Identifier_OUT045     -0.017224          0.006029        -0.038353   \n",
       "Outlet_Identifier_OUT046      0.000725         -0.003147        -0.038444   \n",
       "Outlet_Identifier_OUT049      0.004922         -0.004722        -0.036130   \n",
       "\n",
       "                           Item_Type  Item_MRP  Outlet_Establishment_Year  \\\n",
       "Item_Weight                -0.049726  0.024771                  -0.008438   \n",
       "Item_Fat_Content            0.058227 -0.006063                  -0.003151   \n",
       "Item_Visibility            -0.005357 -0.001315                  -0.074834   \n",
       "Item_Type                   1.000000 -0.055627                   0.000152   \n",
       "Item_MRP                   -0.055627  1.000000                   0.005020   \n",
       "Outlet_Establishment_Year   0.000152  0.005020                   1.000000   \n",
       "Outlet_Size                -0.003601  0.008646                  -0.450456   \n",
       "Outlet_Location_Type        0.002207 -0.000232                   0.089216   \n",
       "Outlet_Type                 0.002595 -0.001935                   0.005559   \n",
       "Item_Outlet_Sales          -0.035899  0.567574                  -0.049135   \n",
       "Outlet_Identifier_OUT010    0.008004 -0.000912                   0.005301   \n",
       "Outlet_Identifier_OUT013   -0.005546  0.002438                  -0.453388   \n",
       "Outlet_Identifier_OUT017   -0.000480 -0.008812                   0.382361   \n",
       "Outlet_Identifier_OUT018    0.000738  0.003850                   0.466336   \n",
       "Outlet_Identifier_OUT019    0.008933 -0.004976                  -0.393918   \n",
       "Outlet_Identifier_OUT027   -0.003368 -0.006714                  -0.538072   \n",
       "Outlet_Identifier_OUT035   -0.003259  0.011969                   0.257868   \n",
       "Outlet_Identifier_OUT045    0.001697 -0.000239                   0.174150   \n",
       "Outlet_Identifier_OUT046   -0.000452  0.005983                  -0.034777   \n",
       "Outlet_Identifier_OUT049   -0.002557 -0.003906                   0.048836   \n",
       "\n",
       "                           Outlet_Size  Outlet_Location_Type  Outlet_Type  \\\n",
       "Item_Weight                   0.010485             -0.004107     0.002064   \n",
       "Item_Fat_Content              0.003461             -0.001598    -0.001081   \n",
       "Item_Visibility               0.003422              0.028099     0.029674   \n",
       "Item_Type                    -0.003601              0.002207     0.002595   \n",
       "Item_MRP                      0.008646             -0.000232    -0.001935   \n",
       "Outlet_Establishment_Year    -0.450456              0.089216     0.005559   \n",
       "Outlet_Size                   1.000000              0.015589    -0.382670   \n",
       "Outlet_Location_Type          0.015589              1.000000    -0.557050   \n",
       "Outlet_Type                  -0.382670             -0.557050     1.000000   \n",
       "Item_Outlet_Sales            -0.042514             -0.089367     0.020871   \n",
       "Outlet_Identifier_OUT010     -0.192320             -0.288087     0.082529   \n",
       "Outlet_Identifier_OUT013      0.768289             -0.382481    -0.225629   \n",
       "Outlet_Identifier_OUT017     -0.254412              0.048488    -0.224813   \n",
       "Outlet_Identifier_OUT018     -0.254720             -0.381559     0.778087   \n",
       "Outlet_Identifier_OUT019      0.188103              0.351898     0.080360   \n",
       "Outlet_Identifier_OUT027     -0.255797             -0.383172     0.445572   \n",
       "Outlet_Identifier_OUT035      0.256167              0.048605    -0.225357   \n",
       "Outlet_Identifier_OUT045     -0.254874              0.048576    -0.225221   \n",
       "Outlet_Identifier_OUT046      0.256167              0.479230    -0.225357   \n",
       "Outlet_Identifier_OUT049     -0.255028              0.479230    -0.225357   \n",
       "\n",
       "                           Item_Outlet_Sales  Outlet_Identifier_OUT010  \\\n",
       "Item_Weight                         0.011573                  0.003449   \n",
       "Item_Fat_Content                   -0.018719                 -0.000254   \n",
       "Item_Visibility                    -0.128625                  0.180697   \n",
       "Item_Type                          -0.035899                  0.008004   \n",
       "Item_MRP                            0.567574                 -0.000912   \n",
       "Outlet_Establishment_Year          -0.049135                  0.005301   \n",
       "Outlet_Size                        -0.042514                 -0.192320   \n",
       "Outlet_Location_Type               -0.089367                 -0.288087   \n",
       "Outlet_Type                         0.020871                  0.082529   \n",
       "Item_Outlet_Sales                   1.000000                 -0.284883   \n",
       "Outlet_Identifier_OUT010           -0.284883                  1.000000   \n",
       "Outlet_Identifier_OUT013            0.024170                 -0.092476   \n",
       "Outlet_Identifier_OUT017            0.032610                 -0.092142   \n",
       "Outlet_Identifier_OUT018           -0.038059                 -0.092253   \n",
       "Outlet_Identifier_OUT019           -0.277250                 -0.067823   \n",
       "Outlet_Identifier_OUT027            0.311192                 -0.092643   \n",
       "Outlet_Identifier_OUT035            0.052823                 -0.092365   \n",
       "Outlet_Identifier_OUT045            0.002274                 -0.092309   \n",
       "Outlet_Identifier_OUT046            0.019803                 -0.092365   \n",
       "Outlet_Identifier_OUT049            0.034264                 -0.092365   \n",
       "\n",
       "                           Outlet_Identifier_OUT013  Outlet_Identifier_OUT017  \\\n",
       "Item_Weight                                0.012278                 -0.002592   \n",
       "Item_Fat_Content                           0.002132                 -0.004266   \n",
       "Item_Visibility                           -0.041937                 -0.032179   \n",
       "Item_Type                                 -0.005546                 -0.000480   \n",
       "Item_MRP                                   0.002438                 -0.008812   \n",
       "Outlet_Establishment_Year                 -0.453388                  0.382361   \n",
       "Outlet_Size                                0.768289                 -0.254412   \n",
       "Outlet_Location_Type                      -0.382481                  0.048488   \n",
       "Outlet_Type                               -0.225629                 -0.224813   \n",
       "Item_Outlet_Sales                          0.024170                  0.032610   \n",
       "Outlet_Identifier_OUT010                  -0.092476                 -0.092142   \n",
       "Outlet_Identifier_OUT013                   1.000000                 -0.122333   \n",
       "Outlet_Identifier_OUT017                  -0.122333                  1.000000   \n",
       "Outlet_Identifier_OUT018                  -0.122481                 -0.122038   \n",
       "Outlet_Identifier_OUT019                  -0.090046                 -0.089721   \n",
       "Outlet_Identifier_OUT027                  -0.122999                 -0.122554   \n",
       "Outlet_Identifier_OUT035                  -0.122629                 -0.122185   \n",
       "Outlet_Identifier_OUT045                  -0.122555                 -0.122112   \n",
       "Outlet_Identifier_OUT046                  -0.122629                 -0.122185   \n",
       "Outlet_Identifier_OUT049                  -0.122629                 -0.122185   \n",
       "\n",
       "                           Outlet_Identifier_OUT018  Outlet_Identifier_OUT019  \\\n",
       "Item_Weight                                0.001267                  0.000112   \n",
       "Item_Fat_Content                          -0.002129                  0.004300   \n",
       "Item_Visibility                           -0.034671                  0.210736   \n",
       "Item_Type                                  0.000738                  0.008933   \n",
       "Item_MRP                                   0.003850                 -0.004976   \n",
       "Outlet_Establishment_Year                  0.466336                 -0.393918   \n",
       "Outlet_Size                               -0.254720                  0.188103   \n",
       "Outlet_Location_Type                      -0.381559                  0.351898   \n",
       "Outlet_Type                                0.778087                  0.080360   \n",
       "Item_Outlet_Sales                         -0.038059                 -0.277250   \n",
       "Outlet_Identifier_OUT010                  -0.092253                 -0.067823   \n",
       "Outlet_Identifier_OUT013                  -0.122481                 -0.090046   \n",
       "Outlet_Identifier_OUT017                  -0.122038                 -0.089721   \n",
       "Outlet_Identifier_OUT018                   1.000000                 -0.089829   \n",
       "Outlet_Identifier_OUT019                  -0.089829                  1.000000   \n",
       "Outlet_Identifier_OUT027                  -0.122702                 -0.090209   \n",
       "Outlet_Identifier_OUT035                  -0.122333                 -0.089938   \n",
       "Outlet_Identifier_OUT045                  -0.122260                 -0.089884   \n",
       "Outlet_Identifier_OUT046                  -0.122333                 -0.089938   \n",
       "Outlet_Identifier_OUT049                  -0.122333                 -0.089938   \n",
       "\n",
       "                           Outlet_Identifier_OUT027  Outlet_Identifier_OUT035  \\\n",
       "Item_Weight                                0.000153                 -0.002368   \n",
       "Item_Fat_Content                          -0.000183                  0.003154   \n",
       "Item_Visibility                           -0.051144                 -0.033025   \n",
       "Item_Type                                 -0.003368                 -0.003259   \n",
       "Item_MRP                                  -0.006714                  0.011969   \n",
       "Outlet_Establishment_Year                 -0.538072                  0.257868   \n",
       "Outlet_Size                               -0.255797                  0.256167   \n",
       "Outlet_Location_Type                      -0.383172                  0.048605   \n",
       "Outlet_Type                                0.445572                 -0.225357   \n",
       "Item_Outlet_Sales                          0.311192                  0.052823   \n",
       "Outlet_Identifier_OUT010                  -0.092643                 -0.092365   \n",
       "Outlet_Identifier_OUT013                  -0.122999                 -0.122629   \n",
       "Outlet_Identifier_OUT017                  -0.122554                 -0.122185   \n",
       "Outlet_Identifier_OUT018                  -0.122702                 -0.122333   \n",
       "Outlet_Identifier_OUT019                  -0.090209                 -0.089938   \n",
       "Outlet_Identifier_OUT027                   1.000000                 -0.122850   \n",
       "Outlet_Identifier_OUT035                  -0.122850                  1.000000   \n",
       "Outlet_Identifier_OUT045                  -0.122776                 -0.122407   \n",
       "Outlet_Identifier_OUT046                  -0.122850                 -0.122481   \n",
       "Outlet_Identifier_OUT049                  -0.122850                 -0.122481   \n",
       "\n",
       "                           Outlet_Identifier_OUT045  Outlet_Identifier_OUT046  \\\n",
       "Item_Weight                               -0.017224                  0.000725   \n",
       "Item_Fat_Content                           0.006029                 -0.003147   \n",
       "Item_Visibility                           -0.038353                 -0.038444   \n",
       "Item_Type                                  0.001697                 -0.000452   \n",
       "Item_MRP                                  -0.000239                  0.005983   \n",
       "Outlet_Establishment_Year                  0.174150                 -0.034777   \n",
       "Outlet_Size                               -0.254874                  0.256167   \n",
       "Outlet_Location_Type                       0.048576                  0.479230   \n",
       "Outlet_Type                               -0.225221                 -0.225357   \n",
       "Item_Outlet_Sales                          0.002274                  0.019803   \n",
       "Outlet_Identifier_OUT010                  -0.092309                 -0.092365   \n",
       "Outlet_Identifier_OUT013                  -0.122555                 -0.122629   \n",
       "Outlet_Identifier_OUT017                  -0.122112                 -0.122185   \n",
       "Outlet_Identifier_OUT018                  -0.122260                 -0.122333   \n",
       "Outlet_Identifier_OUT019                  -0.089884                 -0.089938   \n",
       "Outlet_Identifier_OUT027                  -0.122776                 -0.122850   \n",
       "Outlet_Identifier_OUT035                  -0.122407                 -0.122481   \n",
       "Outlet_Identifier_OUT045                   1.000000                 -0.122407   \n",
       "Outlet_Identifier_OUT046                  -0.122407                  1.000000   \n",
       "Outlet_Identifier_OUT049                  -0.122407                 -0.122481   \n",
       "\n",
       "                           Outlet_Identifier_OUT049  \n",
       "Item_Weight                                0.004922  \n",
       "Item_Fat_Content                          -0.004722  \n",
       "Item_Visibility                           -0.036130  \n",
       "Item_Type                                 -0.002557  \n",
       "Item_MRP                                  -0.003906  \n",
       "Outlet_Establishment_Year                  0.048836  \n",
       "Outlet_Size                               -0.255028  \n",
       "Outlet_Location_Type                       0.479230  \n",
       "Outlet_Type                               -0.225357  \n",
       "Item_Outlet_Sales                          0.034264  \n",
       "Outlet_Identifier_OUT010                  -0.092365  \n",
       "Outlet_Identifier_OUT013                  -0.122629  \n",
       "Outlet_Identifier_OUT017                  -0.122185  \n",
       "Outlet_Identifier_OUT018                  -0.122333  \n",
       "Outlet_Identifier_OUT019                  -0.089938  \n",
       "Outlet_Identifier_OUT027                  -0.122850  \n",
       "Outlet_Identifier_OUT035                  -0.122481  \n",
       "Outlet_Identifier_OUT045                  -0.122407  \n",
       "Outlet_Identifier_OUT046                  -0.122481  \n",
       "Outlet_Identifier_OUT049                   1.000000  "
      ]
     },
     "execution_count": 67,
     "metadata": {},
     "output_type": "execute_result"
    }
   ],
   "source": [
    "## in which we rae chekinf the co realtion betwwe te dependent varaiable and te indeplendent variable\n",
    "df.corr()"
   ]
  },
  {
   "cell_type": "code",
   "execution_count": 68,
   "id": "6e6f3e98",
   "metadata": {},
   "outputs": [
    {
     "data": {
      "text/html": [
       "<div>\n",
       "<style scoped>\n",
       "    .dataframe tbody tr th:only-of-type {\n",
       "        vertical-align: middle;\n",
       "    }\n",
       "\n",
       "    .dataframe tbody tr th {\n",
       "        vertical-align: top;\n",
       "    }\n",
       "\n",
       "    .dataframe thead th {\n",
       "        text-align: right;\n",
       "    }\n",
       "</style>\n",
       "<table border=\"1\" class=\"dataframe\">\n",
       "  <thead>\n",
       "    <tr style=\"text-align: right;\">\n",
       "      <th></th>\n",
       "      <th>0</th>\n",
       "      <th>1</th>\n",
       "      <th>2</th>\n",
       "      <th>3</th>\n",
       "      <th>4</th>\n",
       "      <th>5</th>\n",
       "      <th>6</th>\n",
       "      <th>7</th>\n",
       "      <th>8</th>\n",
       "      <th>9</th>\n",
       "      <th>...</th>\n",
       "      <th>8513</th>\n",
       "      <th>8514</th>\n",
       "      <th>8515</th>\n",
       "      <th>8516</th>\n",
       "      <th>8517</th>\n",
       "      <th>8518</th>\n",
       "      <th>8519</th>\n",
       "      <th>8520</th>\n",
       "      <th>8521</th>\n",
       "      <th>8522</th>\n",
       "    </tr>\n",
       "  </thead>\n",
       "  <tbody>\n",
       "    <tr>\n",
       "      <th>Item_Identifier</th>\n",
       "      <td>FDA15</td>\n",
       "      <td>DRC01</td>\n",
       "      <td>FDN15</td>\n",
       "      <td>FDX07</td>\n",
       "      <td>NCD19</td>\n",
       "      <td>FDP36</td>\n",
       "      <td>FDO10</td>\n",
       "      <td>FDP10</td>\n",
       "      <td>FDH17</td>\n",
       "      <td>FDU28</td>\n",
       "      <td>...</td>\n",
       "      <td>FDH31</td>\n",
       "      <td>FDA01</td>\n",
       "      <td>FDH24</td>\n",
       "      <td>NCJ19</td>\n",
       "      <td>FDF53</td>\n",
       "      <td>FDF22</td>\n",
       "      <td>FDS36</td>\n",
       "      <td>NCJ29</td>\n",
       "      <td>FDN46</td>\n",
       "      <td>DRG01</td>\n",
       "    </tr>\n",
       "    <tr>\n",
       "      <th>Item_Weight</th>\n",
       "      <td>9.3</td>\n",
       "      <td>5.92</td>\n",
       "      <td>17.5</td>\n",
       "      <td>19.2</td>\n",
       "      <td>8.93</td>\n",
       "      <td>10.39</td>\n",
       "      <td>13.65</td>\n",
       "      <td>12.86</td>\n",
       "      <td>16.2</td>\n",
       "      <td>19.2</td>\n",
       "      <td>...</td>\n",
       "      <td>12.0</td>\n",
       "      <td>15.0</td>\n",
       "      <td>20.7</td>\n",
       "      <td>18.6</td>\n",
       "      <td>20.75</td>\n",
       "      <td>6.87</td>\n",
       "      <td>8.38</td>\n",
       "      <td>10.6</td>\n",
       "      <td>7.21</td>\n",
       "      <td>14.8</td>\n",
       "    </tr>\n",
       "    <tr>\n",
       "      <th>Item_Fat_Content</th>\n",
       "      <td>1</td>\n",
       "      <td>0</td>\n",
       "      <td>1</td>\n",
       "      <td>0</td>\n",
       "      <td>1</td>\n",
       "      <td>0</td>\n",
       "      <td>0</td>\n",
       "      <td>1</td>\n",
       "      <td>0</td>\n",
       "      <td>0</td>\n",
       "      <td>...</td>\n",
       "      <td>0</td>\n",
       "      <td>0</td>\n",
       "      <td>1</td>\n",
       "      <td>1</td>\n",
       "      <td>0</td>\n",
       "      <td>1</td>\n",
       "      <td>0</td>\n",
       "      <td>1</td>\n",
       "      <td>0</td>\n",
       "      <td>1</td>\n",
       "    </tr>\n",
       "    <tr>\n",
       "      <th>Item_Visibility</th>\n",
       "      <td>0.016047</td>\n",
       "      <td>0.019278</td>\n",
       "      <td>0.01676</td>\n",
       "      <td>0.0</td>\n",
       "      <td>0.0</td>\n",
       "      <td>0.0</td>\n",
       "      <td>0.012741</td>\n",
       "      <td>0.12747</td>\n",
       "      <td>0.016687</td>\n",
       "      <td>0.09445</td>\n",
       "      <td>...</td>\n",
       "      <td>0.020407</td>\n",
       "      <td>0.054489</td>\n",
       "      <td>0.021518</td>\n",
       "      <td>0.118661</td>\n",
       "      <td>0.083607</td>\n",
       "      <td>0.056783</td>\n",
       "      <td>0.046982</td>\n",
       "      <td>0.035186</td>\n",
       "      <td>0.145221</td>\n",
       "      <td>0.044878</td>\n",
       "    </tr>\n",
       "    <tr>\n",
       "      <th>Item_Type</th>\n",
       "      <td>5</td>\n",
       "      <td>9</td>\n",
       "      <td>10</td>\n",
       "      <td>1</td>\n",
       "      <td>3</td>\n",
       "      <td>7</td>\n",
       "      <td>2</td>\n",
       "      <td>2</td>\n",
       "      <td>4</td>\n",
       "      <td>4</td>\n",
       "      <td>...</td>\n",
       "      <td>10</td>\n",
       "      <td>6</td>\n",
       "      <td>7</td>\n",
       "      <td>13</td>\n",
       "      <td>4</td>\n",
       "      <td>2</td>\n",
       "      <td>7</td>\n",
       "      <td>8</td>\n",
       "      <td>2</td>\n",
       "      <td>9</td>\n",
       "    </tr>\n",
       "    <tr>\n",
       "      <th>Item_MRP</th>\n",
       "      <td>249.8092</td>\n",
       "      <td>48.2692</td>\n",
       "      <td>141.618</td>\n",
       "      <td>182.095</td>\n",
       "      <td>53.8614</td>\n",
       "      <td>51.4008</td>\n",
       "      <td>57.6588</td>\n",
       "      <td>107.7622</td>\n",
       "      <td>96.9726</td>\n",
       "      <td>187.8214</td>\n",
       "      <td>...</td>\n",
       "      <td>99.9042</td>\n",
       "      <td>57.5904</td>\n",
       "      <td>157.5288</td>\n",
       "      <td>58.7588</td>\n",
       "      <td>178.8318</td>\n",
       "      <td>214.5218</td>\n",
       "      <td>108.157</td>\n",
       "      <td>85.1224</td>\n",
       "      <td>103.1332</td>\n",
       "      <td>75.467</td>\n",
       "    </tr>\n",
       "    <tr>\n",
       "      <th>Outlet_Establishment_Year</th>\n",
       "      <td>1999</td>\n",
       "      <td>2009</td>\n",
       "      <td>1999</td>\n",
       "      <td>1998</td>\n",
       "      <td>1987</td>\n",
       "      <td>2009</td>\n",
       "      <td>1987</td>\n",
       "      <td>1985</td>\n",
       "      <td>2002</td>\n",
       "      <td>2007</td>\n",
       "      <td>...</td>\n",
       "      <td>2004</td>\n",
       "      <td>2002</td>\n",
       "      <td>2009</td>\n",
       "      <td>2009</td>\n",
       "      <td>1997</td>\n",
       "      <td>1987</td>\n",
       "      <td>2002</td>\n",
       "      <td>2004</td>\n",
       "      <td>2009</td>\n",
       "      <td>1997</td>\n",
       "    </tr>\n",
       "    <tr>\n",
       "      <th>Outlet_Size</th>\n",
       "      <td>1</td>\n",
       "      <td>1</td>\n",
       "      <td>1</td>\n",
       "      <td>1</td>\n",
       "      <td>3</td>\n",
       "      <td>1</td>\n",
       "      <td>3</td>\n",
       "      <td>1</td>\n",
       "      <td>1</td>\n",
       "      <td>1</td>\n",
       "      <td>...</td>\n",
       "      <td>2</td>\n",
       "      <td>1</td>\n",
       "      <td>1</td>\n",
       "      <td>1</td>\n",
       "      <td>2</td>\n",
       "      <td>3</td>\n",
       "      <td>1</td>\n",
       "      <td>2</td>\n",
       "      <td>1</td>\n",
       "      <td>2</td>\n",
       "    </tr>\n",
       "    <tr>\n",
       "      <th>Outlet_Location_Type</th>\n",
       "      <td>3</td>\n",
       "      <td>1</td>\n",
       "      <td>3</td>\n",
       "      <td>1</td>\n",
       "      <td>1</td>\n",
       "      <td>1</td>\n",
       "      <td>1</td>\n",
       "      <td>1</td>\n",
       "      <td>2</td>\n",
       "      <td>2</td>\n",
       "      <td>...</td>\n",
       "      <td>2</td>\n",
       "      <td>2</td>\n",
       "      <td>1</td>\n",
       "      <td>1</td>\n",
       "      <td>3</td>\n",
       "      <td>1</td>\n",
       "      <td>2</td>\n",
       "      <td>2</td>\n",
       "      <td>1</td>\n",
       "      <td>3</td>\n",
       "    </tr>\n",
       "    <tr>\n",
       "      <th>Outlet_Type</th>\n",
       "      <td>1</td>\n",
       "      <td>4</td>\n",
       "      <td>1</td>\n",
       "      <td>2</td>\n",
       "      <td>1</td>\n",
       "      <td>4</td>\n",
       "      <td>1</td>\n",
       "      <td>3</td>\n",
       "      <td>1</td>\n",
       "      <td>1</td>\n",
       "      <td>...</td>\n",
       "      <td>1</td>\n",
       "      <td>1</td>\n",
       "      <td>4</td>\n",
       "      <td>4</td>\n",
       "      <td>1</td>\n",
       "      <td>1</td>\n",
       "      <td>1</td>\n",
       "      <td>1</td>\n",
       "      <td>4</td>\n",
       "      <td>1</td>\n",
       "    </tr>\n",
       "    <tr>\n",
       "      <th>Item_Outlet_Sales</th>\n",
       "      <td>3735.138</td>\n",
       "      <td>443.4228</td>\n",
       "      <td>2097.27</td>\n",
       "      <td>732.38</td>\n",
       "      <td>994.7052</td>\n",
       "      <td>556.6088</td>\n",
       "      <td>343.5528</td>\n",
       "      <td>4022.7636</td>\n",
       "      <td>1076.5986</td>\n",
       "      <td>4710.535</td>\n",
       "      <td>...</td>\n",
       "      <td>595.2252</td>\n",
       "      <td>468.7232</td>\n",
       "      <td>1571.288</td>\n",
       "      <td>858.882</td>\n",
       "      <td>3608.636</td>\n",
       "      <td>2778.3834</td>\n",
       "      <td>549.285</td>\n",
       "      <td>1193.1136</td>\n",
       "      <td>1845.5976</td>\n",
       "      <td>765.67</td>\n",
       "    </tr>\n",
       "    <tr>\n",
       "      <th>Outlet_Identifier_OUT010</th>\n",
       "      <td>0</td>\n",
       "      <td>0</td>\n",
       "      <td>0</td>\n",
       "      <td>1</td>\n",
       "      <td>0</td>\n",
       "      <td>0</td>\n",
       "      <td>0</td>\n",
       "      <td>0</td>\n",
       "      <td>0</td>\n",
       "      <td>0</td>\n",
       "      <td>...</td>\n",
       "      <td>0</td>\n",
       "      <td>0</td>\n",
       "      <td>0</td>\n",
       "      <td>0</td>\n",
       "      <td>0</td>\n",
       "      <td>0</td>\n",
       "      <td>0</td>\n",
       "      <td>0</td>\n",
       "      <td>0</td>\n",
       "      <td>0</td>\n",
       "    </tr>\n",
       "    <tr>\n",
       "      <th>Outlet_Identifier_OUT013</th>\n",
       "      <td>0</td>\n",
       "      <td>0</td>\n",
       "      <td>0</td>\n",
       "      <td>0</td>\n",
       "      <td>1</td>\n",
       "      <td>0</td>\n",
       "      <td>1</td>\n",
       "      <td>0</td>\n",
       "      <td>0</td>\n",
       "      <td>0</td>\n",
       "      <td>...</td>\n",
       "      <td>0</td>\n",
       "      <td>0</td>\n",
       "      <td>0</td>\n",
       "      <td>0</td>\n",
       "      <td>0</td>\n",
       "      <td>1</td>\n",
       "      <td>0</td>\n",
       "      <td>0</td>\n",
       "      <td>0</td>\n",
       "      <td>0</td>\n",
       "    </tr>\n",
       "    <tr>\n",
       "      <th>Outlet_Identifier_OUT017</th>\n",
       "      <td>0</td>\n",
       "      <td>0</td>\n",
       "      <td>0</td>\n",
       "      <td>0</td>\n",
       "      <td>0</td>\n",
       "      <td>0</td>\n",
       "      <td>0</td>\n",
       "      <td>0</td>\n",
       "      <td>0</td>\n",
       "      <td>1</td>\n",
       "      <td>...</td>\n",
       "      <td>0</td>\n",
       "      <td>0</td>\n",
       "      <td>0</td>\n",
       "      <td>0</td>\n",
       "      <td>0</td>\n",
       "      <td>0</td>\n",
       "      <td>0</td>\n",
       "      <td>0</td>\n",
       "      <td>0</td>\n",
       "      <td>0</td>\n",
       "    </tr>\n",
       "    <tr>\n",
       "      <th>Outlet_Identifier_OUT018</th>\n",
       "      <td>0</td>\n",
       "      <td>1</td>\n",
       "      <td>0</td>\n",
       "      <td>0</td>\n",
       "      <td>0</td>\n",
       "      <td>1</td>\n",
       "      <td>0</td>\n",
       "      <td>0</td>\n",
       "      <td>0</td>\n",
       "      <td>0</td>\n",
       "      <td>...</td>\n",
       "      <td>0</td>\n",
       "      <td>0</td>\n",
       "      <td>1</td>\n",
       "      <td>1</td>\n",
       "      <td>0</td>\n",
       "      <td>0</td>\n",
       "      <td>0</td>\n",
       "      <td>0</td>\n",
       "      <td>1</td>\n",
       "      <td>0</td>\n",
       "    </tr>\n",
       "    <tr>\n",
       "      <th>Outlet_Identifier_OUT019</th>\n",
       "      <td>0</td>\n",
       "      <td>0</td>\n",
       "      <td>0</td>\n",
       "      <td>0</td>\n",
       "      <td>0</td>\n",
       "      <td>0</td>\n",
       "      <td>0</td>\n",
       "      <td>0</td>\n",
       "      <td>0</td>\n",
       "      <td>0</td>\n",
       "      <td>...</td>\n",
       "      <td>0</td>\n",
       "      <td>0</td>\n",
       "      <td>0</td>\n",
       "      <td>0</td>\n",
       "      <td>0</td>\n",
       "      <td>0</td>\n",
       "      <td>0</td>\n",
       "      <td>0</td>\n",
       "      <td>0</td>\n",
       "      <td>0</td>\n",
       "    </tr>\n",
       "    <tr>\n",
       "      <th>Outlet_Identifier_OUT027</th>\n",
       "      <td>0</td>\n",
       "      <td>0</td>\n",
       "      <td>0</td>\n",
       "      <td>0</td>\n",
       "      <td>0</td>\n",
       "      <td>0</td>\n",
       "      <td>0</td>\n",
       "      <td>1</td>\n",
       "      <td>0</td>\n",
       "      <td>0</td>\n",
       "      <td>...</td>\n",
       "      <td>0</td>\n",
       "      <td>0</td>\n",
       "      <td>0</td>\n",
       "      <td>0</td>\n",
       "      <td>0</td>\n",
       "      <td>0</td>\n",
       "      <td>0</td>\n",
       "      <td>0</td>\n",
       "      <td>0</td>\n",
       "      <td>0</td>\n",
       "    </tr>\n",
       "    <tr>\n",
       "      <th>Outlet_Identifier_OUT035</th>\n",
       "      <td>0</td>\n",
       "      <td>0</td>\n",
       "      <td>0</td>\n",
       "      <td>0</td>\n",
       "      <td>0</td>\n",
       "      <td>0</td>\n",
       "      <td>0</td>\n",
       "      <td>0</td>\n",
       "      <td>0</td>\n",
       "      <td>0</td>\n",
       "      <td>...</td>\n",
       "      <td>1</td>\n",
       "      <td>0</td>\n",
       "      <td>0</td>\n",
       "      <td>0</td>\n",
       "      <td>0</td>\n",
       "      <td>0</td>\n",
       "      <td>0</td>\n",
       "      <td>1</td>\n",
       "      <td>0</td>\n",
       "      <td>0</td>\n",
       "    </tr>\n",
       "    <tr>\n",
       "      <th>Outlet_Identifier_OUT045</th>\n",
       "      <td>0</td>\n",
       "      <td>0</td>\n",
       "      <td>0</td>\n",
       "      <td>0</td>\n",
       "      <td>0</td>\n",
       "      <td>0</td>\n",
       "      <td>0</td>\n",
       "      <td>0</td>\n",
       "      <td>1</td>\n",
       "      <td>0</td>\n",
       "      <td>...</td>\n",
       "      <td>0</td>\n",
       "      <td>1</td>\n",
       "      <td>0</td>\n",
       "      <td>0</td>\n",
       "      <td>0</td>\n",
       "      <td>0</td>\n",
       "      <td>1</td>\n",
       "      <td>0</td>\n",
       "      <td>0</td>\n",
       "      <td>0</td>\n",
       "    </tr>\n",
       "    <tr>\n",
       "      <th>Outlet_Identifier_OUT046</th>\n",
       "      <td>0</td>\n",
       "      <td>0</td>\n",
       "      <td>0</td>\n",
       "      <td>0</td>\n",
       "      <td>0</td>\n",
       "      <td>0</td>\n",
       "      <td>0</td>\n",
       "      <td>0</td>\n",
       "      <td>0</td>\n",
       "      <td>0</td>\n",
       "      <td>...</td>\n",
       "      <td>0</td>\n",
       "      <td>0</td>\n",
       "      <td>0</td>\n",
       "      <td>0</td>\n",
       "      <td>1</td>\n",
       "      <td>0</td>\n",
       "      <td>0</td>\n",
       "      <td>0</td>\n",
       "      <td>0</td>\n",
       "      <td>1</td>\n",
       "    </tr>\n",
       "    <tr>\n",
       "      <th>Outlet_Identifier_OUT049</th>\n",
       "      <td>1</td>\n",
       "      <td>0</td>\n",
       "      <td>1</td>\n",
       "      <td>0</td>\n",
       "      <td>0</td>\n",
       "      <td>0</td>\n",
       "      <td>0</td>\n",
       "      <td>0</td>\n",
       "      <td>0</td>\n",
       "      <td>0</td>\n",
       "      <td>...</td>\n",
       "      <td>0</td>\n",
       "      <td>0</td>\n",
       "      <td>0</td>\n",
       "      <td>0</td>\n",
       "      <td>0</td>\n",
       "      <td>0</td>\n",
       "      <td>0</td>\n",
       "      <td>0</td>\n",
       "      <td>0</td>\n",
       "      <td>0</td>\n",
       "    </tr>\n",
       "  </tbody>\n",
       "</table>\n",
       "<p>21 rows × 8523 columns</p>\n",
       "</div>"
      ],
      "text/plain": [
       "                               0         1        2        3         4     \\\n",
       "Item_Identifier               FDA15     DRC01    FDN15    FDX07     NCD19   \n",
       "Item_Weight                     9.3      5.92     17.5     19.2      8.93   \n",
       "Item_Fat_Content                  1         0        1        0         1   \n",
       "Item_Visibility            0.016047  0.019278  0.01676      0.0       0.0   \n",
       "Item_Type                         5         9       10        1         3   \n",
       "Item_MRP                   249.8092   48.2692  141.618  182.095   53.8614   \n",
       "Outlet_Establishment_Year      1999      2009     1999     1998      1987   \n",
       "Outlet_Size                       1         1        1        1         3   \n",
       "Outlet_Location_Type              3         1        3        1         1   \n",
       "Outlet_Type                       1         4        1        2         1   \n",
       "Item_Outlet_Sales          3735.138  443.4228  2097.27   732.38  994.7052   \n",
       "Outlet_Identifier_OUT010          0         0        0        1         0   \n",
       "Outlet_Identifier_OUT013          0         0        0        0         1   \n",
       "Outlet_Identifier_OUT017          0         0        0        0         0   \n",
       "Outlet_Identifier_OUT018          0         1        0        0         0   \n",
       "Outlet_Identifier_OUT019          0         0        0        0         0   \n",
       "Outlet_Identifier_OUT027          0         0        0        0         0   \n",
       "Outlet_Identifier_OUT035          0         0        0        0         0   \n",
       "Outlet_Identifier_OUT045          0         0        0        0         0   \n",
       "Outlet_Identifier_OUT046          0         0        0        0         0   \n",
       "Outlet_Identifier_OUT049          1         0        1        0         0   \n",
       "\n",
       "                               5         6          7          8         9     \\\n",
       "Item_Identifier               FDP36     FDO10      FDP10      FDH17     FDU28   \n",
       "Item_Weight                   10.39     13.65      12.86       16.2      19.2   \n",
       "Item_Fat_Content                  0         0          1          0         0   \n",
       "Item_Visibility                 0.0  0.012741    0.12747   0.016687   0.09445   \n",
       "Item_Type                         7         2          2          4         4   \n",
       "Item_MRP                    51.4008   57.6588   107.7622    96.9726  187.8214   \n",
       "Outlet_Establishment_Year      2009      1987       1985       2002      2007   \n",
       "Outlet_Size                       1         3          1          1         1   \n",
       "Outlet_Location_Type              1         1          1          2         2   \n",
       "Outlet_Type                       4         1          3          1         1   \n",
       "Item_Outlet_Sales          556.6088  343.5528  4022.7636  1076.5986  4710.535   \n",
       "Outlet_Identifier_OUT010          0         0          0          0         0   \n",
       "Outlet_Identifier_OUT013          0         1          0          0         0   \n",
       "Outlet_Identifier_OUT017          0         0          0          0         1   \n",
       "Outlet_Identifier_OUT018          1         0          0          0         0   \n",
       "Outlet_Identifier_OUT019          0         0          0          0         0   \n",
       "Outlet_Identifier_OUT027          0         0          1          0         0   \n",
       "Outlet_Identifier_OUT035          0         0          0          0         0   \n",
       "Outlet_Identifier_OUT045          0         0          0          1         0   \n",
       "Outlet_Identifier_OUT046          0         0          0          0         0   \n",
       "Outlet_Identifier_OUT049          0         0          0          0         0   \n",
       "\n",
       "                           ...      8513      8514      8515      8516  \\\n",
       "Item_Identifier            ...     FDH31     FDA01     FDH24     NCJ19   \n",
       "Item_Weight                ...      12.0      15.0      20.7      18.6   \n",
       "Item_Fat_Content           ...         0         0         1         1   \n",
       "Item_Visibility            ...  0.020407  0.054489  0.021518  0.118661   \n",
       "Item_Type                  ...        10         6         7        13   \n",
       "Item_MRP                   ...   99.9042   57.5904  157.5288   58.7588   \n",
       "Outlet_Establishment_Year  ...      2004      2002      2009      2009   \n",
       "Outlet_Size                ...         2         1         1         1   \n",
       "Outlet_Location_Type       ...         2         2         1         1   \n",
       "Outlet_Type                ...         1         1         4         4   \n",
       "Item_Outlet_Sales          ...  595.2252  468.7232  1571.288   858.882   \n",
       "Outlet_Identifier_OUT010   ...         0         0         0         0   \n",
       "Outlet_Identifier_OUT013   ...         0         0         0         0   \n",
       "Outlet_Identifier_OUT017   ...         0         0         0         0   \n",
       "Outlet_Identifier_OUT018   ...         0         0         1         1   \n",
       "Outlet_Identifier_OUT019   ...         0         0         0         0   \n",
       "Outlet_Identifier_OUT027   ...         0         0         0         0   \n",
       "Outlet_Identifier_OUT035   ...         1         0         0         0   \n",
       "Outlet_Identifier_OUT045   ...         0         1         0         0   \n",
       "Outlet_Identifier_OUT046   ...         0         0         0         0   \n",
       "Outlet_Identifier_OUT049   ...         0         0         0         0   \n",
       "\n",
       "                               8517       8518      8519       8520  \\\n",
       "Item_Identifier               FDF53      FDF22     FDS36      NCJ29   \n",
       "Item_Weight                   20.75       6.87      8.38       10.6   \n",
       "Item_Fat_Content                  0          1         0          1   \n",
       "Item_Visibility            0.083607   0.056783  0.046982   0.035186   \n",
       "Item_Type                         4          2         7          8   \n",
       "Item_MRP                   178.8318   214.5218   108.157    85.1224   \n",
       "Outlet_Establishment_Year      1997       1987      2002       2004   \n",
       "Outlet_Size                       2          3         1          2   \n",
       "Outlet_Location_Type              3          1         2          2   \n",
       "Outlet_Type                       1          1         1          1   \n",
       "Item_Outlet_Sales          3608.636  2778.3834   549.285  1193.1136   \n",
       "Outlet_Identifier_OUT010          0          0         0          0   \n",
       "Outlet_Identifier_OUT013          0          1         0          0   \n",
       "Outlet_Identifier_OUT017          0          0         0          0   \n",
       "Outlet_Identifier_OUT018          0          0         0          0   \n",
       "Outlet_Identifier_OUT019          0          0         0          0   \n",
       "Outlet_Identifier_OUT027          0          0         0          0   \n",
       "Outlet_Identifier_OUT035          0          0         0          1   \n",
       "Outlet_Identifier_OUT045          0          0         1          0   \n",
       "Outlet_Identifier_OUT046          1          0         0          0   \n",
       "Outlet_Identifier_OUT049          0          0         0          0   \n",
       "\n",
       "                                8521      8522  \n",
       "Item_Identifier                FDN46     DRG01  \n",
       "Item_Weight                     7.21      14.8  \n",
       "Item_Fat_Content                   0         1  \n",
       "Item_Visibility             0.145221  0.044878  \n",
       "Item_Type                          2         9  \n",
       "Item_MRP                    103.1332    75.467  \n",
       "Outlet_Establishment_Year       2009      1997  \n",
       "Outlet_Size                        1         2  \n",
       "Outlet_Location_Type               1         3  \n",
       "Outlet_Type                        4         1  \n",
       "Item_Outlet_Sales          1845.5976    765.67  \n",
       "Outlet_Identifier_OUT010           0         0  \n",
       "Outlet_Identifier_OUT013           0         0  \n",
       "Outlet_Identifier_OUT017           0         0  \n",
       "Outlet_Identifier_OUT018           1         0  \n",
       "Outlet_Identifier_OUT019           0         0  \n",
       "Outlet_Identifier_OUT027           0         0  \n",
       "Outlet_Identifier_OUT035           0         0  \n",
       "Outlet_Identifier_OUT045           0         0  \n",
       "Outlet_Identifier_OUT046           0         1  \n",
       "Outlet_Identifier_OUT049           0         0  \n",
       "\n",
       "[21 rows x 8523 columns]"
      ]
     },
     "execution_count": 68,
     "metadata": {},
     "output_type": "execute_result"
    }
   ],
   "source": [
    "df.T"
   ]
  },
  {
   "cell_type": "code",
   "execution_count": 69,
   "id": "7b5b0d74",
   "metadata": {},
   "outputs": [
    {
     "data": {
      "text/html": [
       "<div>\n",
       "<style scoped>\n",
       "    .dataframe tbody tr th:only-of-type {\n",
       "        vertical-align: middle;\n",
       "    }\n",
       "\n",
       "    .dataframe tbody tr th {\n",
       "        vertical-align: top;\n",
       "    }\n",
       "\n",
       "    .dataframe thead th {\n",
       "        text-align: right;\n",
       "    }\n",
       "</style>\n",
       "<table border=\"1\" class=\"dataframe\">\n",
       "  <thead>\n",
       "    <tr style=\"text-align: right;\">\n",
       "      <th></th>\n",
       "      <th>Item_Weight</th>\n",
       "      <th>Item_Fat_Content</th>\n",
       "      <th>Item_Visibility</th>\n",
       "      <th>Item_Type</th>\n",
       "      <th>Item_MRP</th>\n",
       "      <th>Outlet_Establishment_Year</th>\n",
       "      <th>Outlet_Size</th>\n",
       "      <th>Outlet_Location_Type</th>\n",
       "      <th>Outlet_Type</th>\n",
       "      <th>Item_Outlet_Sales</th>\n",
       "      <th>Outlet_Identifier_OUT010</th>\n",
       "      <th>Outlet_Identifier_OUT013</th>\n",
       "      <th>Outlet_Identifier_OUT017</th>\n",
       "      <th>Outlet_Identifier_OUT018</th>\n",
       "      <th>Outlet_Identifier_OUT019</th>\n",
       "      <th>Outlet_Identifier_OUT027</th>\n",
       "      <th>Outlet_Identifier_OUT035</th>\n",
       "      <th>Outlet_Identifier_OUT045</th>\n",
       "      <th>Outlet_Identifier_OUT046</th>\n",
       "      <th>Outlet_Identifier_OUT049</th>\n",
       "    </tr>\n",
       "  </thead>\n",
       "  <tbody>\n",
       "    <tr>\n",
       "      <th>0</th>\n",
       "      <td>9.30</td>\n",
       "      <td>1</td>\n",
       "      <td>0.016047</td>\n",
       "      <td>5</td>\n",
       "      <td>249.8092</td>\n",
       "      <td>1999</td>\n",
       "      <td>1</td>\n",
       "      <td>3</td>\n",
       "      <td>1</td>\n",
       "      <td>3735.1380</td>\n",
       "      <td>0</td>\n",
       "      <td>0</td>\n",
       "      <td>0</td>\n",
       "      <td>0</td>\n",
       "      <td>0</td>\n",
       "      <td>0</td>\n",
       "      <td>0</td>\n",
       "      <td>0</td>\n",
       "      <td>0</td>\n",
       "      <td>1</td>\n",
       "    </tr>\n",
       "    <tr>\n",
       "      <th>1</th>\n",
       "      <td>5.92</td>\n",
       "      <td>0</td>\n",
       "      <td>0.019278</td>\n",
       "      <td>9</td>\n",
       "      <td>48.2692</td>\n",
       "      <td>2009</td>\n",
       "      <td>1</td>\n",
       "      <td>1</td>\n",
       "      <td>4</td>\n",
       "      <td>443.4228</td>\n",
       "      <td>0</td>\n",
       "      <td>0</td>\n",
       "      <td>0</td>\n",
       "      <td>1</td>\n",
       "      <td>0</td>\n",
       "      <td>0</td>\n",
       "      <td>0</td>\n",
       "      <td>0</td>\n",
       "      <td>0</td>\n",
       "      <td>0</td>\n",
       "    </tr>\n",
       "    <tr>\n",
       "      <th>2</th>\n",
       "      <td>17.50</td>\n",
       "      <td>1</td>\n",
       "      <td>0.016760</td>\n",
       "      <td>10</td>\n",
       "      <td>141.6180</td>\n",
       "      <td>1999</td>\n",
       "      <td>1</td>\n",
       "      <td>3</td>\n",
       "      <td>1</td>\n",
       "      <td>2097.2700</td>\n",
       "      <td>0</td>\n",
       "      <td>0</td>\n",
       "      <td>0</td>\n",
       "      <td>0</td>\n",
       "      <td>0</td>\n",
       "      <td>0</td>\n",
       "      <td>0</td>\n",
       "      <td>0</td>\n",
       "      <td>0</td>\n",
       "      <td>1</td>\n",
       "    </tr>\n",
       "    <tr>\n",
       "      <th>3</th>\n",
       "      <td>19.20</td>\n",
       "      <td>0</td>\n",
       "      <td>0.000000</td>\n",
       "      <td>1</td>\n",
       "      <td>182.0950</td>\n",
       "      <td>1998</td>\n",
       "      <td>1</td>\n",
       "      <td>1</td>\n",
       "      <td>2</td>\n",
       "      <td>732.3800</td>\n",
       "      <td>1</td>\n",
       "      <td>0</td>\n",
       "      <td>0</td>\n",
       "      <td>0</td>\n",
       "      <td>0</td>\n",
       "      <td>0</td>\n",
       "      <td>0</td>\n",
       "      <td>0</td>\n",
       "      <td>0</td>\n",
       "      <td>0</td>\n",
       "    </tr>\n",
       "    <tr>\n",
       "      <th>4</th>\n",
       "      <td>8.93</td>\n",
       "      <td>1</td>\n",
       "      <td>0.000000</td>\n",
       "      <td>3</td>\n",
       "      <td>53.8614</td>\n",
       "      <td>1987</td>\n",
       "      <td>3</td>\n",
       "      <td>1</td>\n",
       "      <td>1</td>\n",
       "      <td>994.7052</td>\n",
       "      <td>0</td>\n",
       "      <td>1</td>\n",
       "      <td>0</td>\n",
       "      <td>0</td>\n",
       "      <td>0</td>\n",
       "      <td>0</td>\n",
       "      <td>0</td>\n",
       "      <td>0</td>\n",
       "      <td>0</td>\n",
       "      <td>0</td>\n",
       "    </tr>\n",
       "    <tr>\n",
       "      <th>...</th>\n",
       "      <td>...</td>\n",
       "      <td>...</td>\n",
       "      <td>...</td>\n",
       "      <td>...</td>\n",
       "      <td>...</td>\n",
       "      <td>...</td>\n",
       "      <td>...</td>\n",
       "      <td>...</td>\n",
       "      <td>...</td>\n",
       "      <td>...</td>\n",
       "      <td>...</td>\n",
       "      <td>...</td>\n",
       "      <td>...</td>\n",
       "      <td>...</td>\n",
       "      <td>...</td>\n",
       "      <td>...</td>\n",
       "      <td>...</td>\n",
       "      <td>...</td>\n",
       "      <td>...</td>\n",
       "      <td>...</td>\n",
       "    </tr>\n",
       "    <tr>\n",
       "      <th>8518</th>\n",
       "      <td>6.87</td>\n",
       "      <td>1</td>\n",
       "      <td>0.056783</td>\n",
       "      <td>2</td>\n",
       "      <td>214.5218</td>\n",
       "      <td>1987</td>\n",
       "      <td>3</td>\n",
       "      <td>1</td>\n",
       "      <td>1</td>\n",
       "      <td>2778.3834</td>\n",
       "      <td>0</td>\n",
       "      <td>1</td>\n",
       "      <td>0</td>\n",
       "      <td>0</td>\n",
       "      <td>0</td>\n",
       "      <td>0</td>\n",
       "      <td>0</td>\n",
       "      <td>0</td>\n",
       "      <td>0</td>\n",
       "      <td>0</td>\n",
       "    </tr>\n",
       "    <tr>\n",
       "      <th>8519</th>\n",
       "      <td>8.38</td>\n",
       "      <td>0</td>\n",
       "      <td>0.046982</td>\n",
       "      <td>7</td>\n",
       "      <td>108.1570</td>\n",
       "      <td>2002</td>\n",
       "      <td>1</td>\n",
       "      <td>2</td>\n",
       "      <td>1</td>\n",
       "      <td>549.2850</td>\n",
       "      <td>0</td>\n",
       "      <td>0</td>\n",
       "      <td>0</td>\n",
       "      <td>0</td>\n",
       "      <td>0</td>\n",
       "      <td>0</td>\n",
       "      <td>0</td>\n",
       "      <td>1</td>\n",
       "      <td>0</td>\n",
       "      <td>0</td>\n",
       "    </tr>\n",
       "    <tr>\n",
       "      <th>8520</th>\n",
       "      <td>10.60</td>\n",
       "      <td>1</td>\n",
       "      <td>0.035186</td>\n",
       "      <td>8</td>\n",
       "      <td>85.1224</td>\n",
       "      <td>2004</td>\n",
       "      <td>2</td>\n",
       "      <td>2</td>\n",
       "      <td>1</td>\n",
       "      <td>1193.1136</td>\n",
       "      <td>0</td>\n",
       "      <td>0</td>\n",
       "      <td>0</td>\n",
       "      <td>0</td>\n",
       "      <td>0</td>\n",
       "      <td>0</td>\n",
       "      <td>1</td>\n",
       "      <td>0</td>\n",
       "      <td>0</td>\n",
       "      <td>0</td>\n",
       "    </tr>\n",
       "    <tr>\n",
       "      <th>8521</th>\n",
       "      <td>7.21</td>\n",
       "      <td>0</td>\n",
       "      <td>0.145221</td>\n",
       "      <td>2</td>\n",
       "      <td>103.1332</td>\n",
       "      <td>2009</td>\n",
       "      <td>1</td>\n",
       "      <td>1</td>\n",
       "      <td>4</td>\n",
       "      <td>1845.5976</td>\n",
       "      <td>0</td>\n",
       "      <td>0</td>\n",
       "      <td>0</td>\n",
       "      <td>1</td>\n",
       "      <td>0</td>\n",
       "      <td>0</td>\n",
       "      <td>0</td>\n",
       "      <td>0</td>\n",
       "      <td>0</td>\n",
       "      <td>0</td>\n",
       "    </tr>\n",
       "    <tr>\n",
       "      <th>8522</th>\n",
       "      <td>14.80</td>\n",
       "      <td>1</td>\n",
       "      <td>0.044878</td>\n",
       "      <td>9</td>\n",
       "      <td>75.4670</td>\n",
       "      <td>1997</td>\n",
       "      <td>2</td>\n",
       "      <td>3</td>\n",
       "      <td>1</td>\n",
       "      <td>765.6700</td>\n",
       "      <td>0</td>\n",
       "      <td>0</td>\n",
       "      <td>0</td>\n",
       "      <td>0</td>\n",
       "      <td>0</td>\n",
       "      <td>0</td>\n",
       "      <td>0</td>\n",
       "      <td>0</td>\n",
       "      <td>1</td>\n",
       "      <td>0</td>\n",
       "    </tr>\n",
       "  </tbody>\n",
       "</table>\n",
       "<p>8523 rows × 20 columns</p>\n",
       "</div>"
      ],
      "text/plain": [
       "      Item_Weight  Item_Fat_Content  Item_Visibility  Item_Type  Item_MRP  \\\n",
       "0            9.30                 1         0.016047          5  249.8092   \n",
       "1            5.92                 0         0.019278          9   48.2692   \n",
       "2           17.50                 1         0.016760         10  141.6180   \n",
       "3           19.20                 0         0.000000          1  182.0950   \n",
       "4            8.93                 1         0.000000          3   53.8614   \n",
       "...           ...               ...              ...        ...       ...   \n",
       "8518         6.87                 1         0.056783          2  214.5218   \n",
       "8519         8.38                 0         0.046982          7  108.1570   \n",
       "8520        10.60                 1         0.035186          8   85.1224   \n",
       "8521         7.21                 0         0.145221          2  103.1332   \n",
       "8522        14.80                 1         0.044878          9   75.4670   \n",
       "\n",
       "      Outlet_Establishment_Year  Outlet_Size  Outlet_Location_Type  \\\n",
       "0                          1999            1                     3   \n",
       "1                          2009            1                     1   \n",
       "2                          1999            1                     3   \n",
       "3                          1998            1                     1   \n",
       "4                          1987            3                     1   \n",
       "...                         ...          ...                   ...   \n",
       "8518                       1987            3                     1   \n",
       "8519                       2002            1                     2   \n",
       "8520                       2004            2                     2   \n",
       "8521                       2009            1                     1   \n",
       "8522                       1997            2                     3   \n",
       "\n",
       "      Outlet_Type  Item_Outlet_Sales  Outlet_Identifier_OUT010  \\\n",
       "0               1          3735.1380                         0   \n",
       "1               4           443.4228                         0   \n",
       "2               1          2097.2700                         0   \n",
       "3               2           732.3800                         1   \n",
       "4               1           994.7052                         0   \n",
       "...           ...                ...                       ...   \n",
       "8518            1          2778.3834                         0   \n",
       "8519            1           549.2850                         0   \n",
       "8520            1          1193.1136                         0   \n",
       "8521            4          1845.5976                         0   \n",
       "8522            1           765.6700                         0   \n",
       "\n",
       "      Outlet_Identifier_OUT013  Outlet_Identifier_OUT017  \\\n",
       "0                            0                         0   \n",
       "1                            0                         0   \n",
       "2                            0                         0   \n",
       "3                            0                         0   \n",
       "4                            1                         0   \n",
       "...                        ...                       ...   \n",
       "8518                         1                         0   \n",
       "8519                         0                         0   \n",
       "8520                         0                         0   \n",
       "8521                         0                         0   \n",
       "8522                         0                         0   \n",
       "\n",
       "      Outlet_Identifier_OUT018  Outlet_Identifier_OUT019  \\\n",
       "0                            0                         0   \n",
       "1                            1                         0   \n",
       "2                            0                         0   \n",
       "3                            0                         0   \n",
       "4                            0                         0   \n",
       "...                        ...                       ...   \n",
       "8518                         0                         0   \n",
       "8519                         0                         0   \n",
       "8520                         0                         0   \n",
       "8521                         1                         0   \n",
       "8522                         0                         0   \n",
       "\n",
       "      Outlet_Identifier_OUT027  Outlet_Identifier_OUT035  \\\n",
       "0                            0                         0   \n",
       "1                            0                         0   \n",
       "2                            0                         0   \n",
       "3                            0                         0   \n",
       "4                            0                         0   \n",
       "...                        ...                       ...   \n",
       "8518                         0                         0   \n",
       "8519                         0                         0   \n",
       "8520                         0                         1   \n",
       "8521                         0                         0   \n",
       "8522                         0                         0   \n",
       "\n",
       "      Outlet_Identifier_OUT045  Outlet_Identifier_OUT046  \\\n",
       "0                            0                         0   \n",
       "1                            0                         0   \n",
       "2                            0                         0   \n",
       "3                            0                         0   \n",
       "4                            0                         0   \n",
       "...                        ...                       ...   \n",
       "8518                         0                         0   \n",
       "8519                         1                         0   \n",
       "8520                         0                         0   \n",
       "8521                         0                         0   \n",
       "8522                         0                         1   \n",
       "\n",
       "      Outlet_Identifier_OUT049  \n",
       "0                            1  \n",
       "1                            0  \n",
       "2                            1  \n",
       "3                            0  \n",
       "4                            0  \n",
       "...                        ...  \n",
       "8518                         0  \n",
       "8519                         0  \n",
       "8520                         0  \n",
       "8521                         0  \n",
       "8522                         0  \n",
       "\n",
       "[8523 rows x 20 columns]"
      ]
     },
     "execution_count": 69,
     "metadata": {},
     "output_type": "execute_result"
    }
   ],
   "source": [
    "df=df.select_dtypes(exclude=\"object\")\n",
    "df"
   ]
  },
  {
   "cell_type": "code",
   "execution_count": 70,
   "id": "07d3123d",
   "metadata": {},
   "outputs": [
    {
     "data": {
      "text/plain": [
       "<AxesSubplot:>"
      ]
     },
     "execution_count": 70,
     "metadata": {},
     "output_type": "execute_result"
    },
    {
     "data": {
      "image/png": "[encoded data removed]",
      "text/plain": [
       "<Figure size 2000x2000 with 2 Axes>"
      ]
     },
     "metadata": {},
     "output_type": "display_data"
    }
   ],
   "source": [
    "plt.figure(figsize=(20,20))\n",
    "sns.heatmap(df.corr(),annot=True)"
   ]
  },
  {
   "cell_type": "markdown",
   "id": "2dd22a4d",
   "metadata": {},
   "source": [
    "### model training"
   ]
  },
  {
   "cell_type": "code",
   "execution_count": 71,
   "id": "c77fb1a1",
   "metadata": {},
   "outputs": [
    {
     "data": {
      "text/html": [
       "<div>\n",
       "<style scoped>\n",
       "    .dataframe tbody tr th:only-of-type {\n",
       "        vertical-align: middle;\n",
       "    }\n",
       "\n",
       "    .dataframe tbody tr th {\n",
       "        vertical-align: top;\n",
       "    }\n",
       "\n",
       "    .dataframe thead th {\n",
       "        text-align: right;\n",
       "    }\n",
       "</style>\n",
       "<table border=\"1\" class=\"dataframe\">\n",
       "  <thead>\n",
       "    <tr style=\"text-align: right;\">\n",
       "      <th></th>\n",
       "      <th>Item_Weight</th>\n",
       "      <th>Item_Fat_Content</th>\n",
       "      <th>Item_Visibility</th>\n",
       "      <th>Item_Type</th>\n",
       "      <th>Item_MRP</th>\n",
       "      <th>Outlet_Establishment_Year</th>\n",
       "      <th>Outlet_Size</th>\n",
       "      <th>Outlet_Location_Type</th>\n",
       "      <th>Outlet_Type</th>\n",
       "      <th>Outlet_Identifier_OUT010</th>\n",
       "      <th>Outlet_Identifier_OUT013</th>\n",
       "      <th>Outlet_Identifier_OUT017</th>\n",
       "      <th>Outlet_Identifier_OUT018</th>\n",
       "      <th>Outlet_Identifier_OUT019</th>\n",
       "      <th>Outlet_Identifier_OUT027</th>\n",
       "      <th>Outlet_Identifier_OUT035</th>\n",
       "      <th>Outlet_Identifier_OUT045</th>\n",
       "      <th>Outlet_Identifier_OUT046</th>\n",
       "      <th>Outlet_Identifier_OUT049</th>\n",
       "    </tr>\n",
       "  </thead>\n",
       "  <tbody>\n",
       "    <tr>\n",
       "      <th>0</th>\n",
       "      <td>9.30</td>\n",
       "      <td>1</td>\n",
       "      <td>0.016047</td>\n",
       "      <td>5</td>\n",
       "      <td>249.8092</td>\n",
       "      <td>1999</td>\n",
       "      <td>1</td>\n",
       "      <td>3</td>\n",
       "      <td>1</td>\n",
       "      <td>0</td>\n",
       "      <td>0</td>\n",
       "      <td>0</td>\n",
       "      <td>0</td>\n",
       "      <td>0</td>\n",
       "      <td>0</td>\n",
       "      <td>0</td>\n",
       "      <td>0</td>\n",
       "      <td>0</td>\n",
       "      <td>1</td>\n",
       "    </tr>\n",
       "    <tr>\n",
       "      <th>1</th>\n",
       "      <td>5.92</td>\n",
       "      <td>0</td>\n",
       "      <td>0.019278</td>\n",
       "      <td>9</td>\n",
       "      <td>48.2692</td>\n",
       "      <td>2009</td>\n",
       "      <td>1</td>\n",
       "      <td>1</td>\n",
       "      <td>4</td>\n",
       "      <td>0</td>\n",
       "      <td>0</td>\n",
       "      <td>0</td>\n",
       "      <td>1</td>\n",
       "      <td>0</td>\n",
       "      <td>0</td>\n",
       "      <td>0</td>\n",
       "      <td>0</td>\n",
       "      <td>0</td>\n",
       "      <td>0</td>\n",
       "    </tr>\n",
       "    <tr>\n",
       "      <th>2</th>\n",
       "      <td>17.50</td>\n",
       "      <td>1</td>\n",
       "      <td>0.016760</td>\n",
       "      <td>10</td>\n",
       "      <td>141.6180</td>\n",
       "      <td>1999</td>\n",
       "      <td>1</td>\n",
       "      <td>3</td>\n",
       "      <td>1</td>\n",
       "      <td>0</td>\n",
       "      <td>0</td>\n",
       "      <td>0</td>\n",
       "      <td>0</td>\n",
       "      <td>0</td>\n",
       "      <td>0</td>\n",
       "      <td>0</td>\n",
       "      <td>0</td>\n",
       "      <td>0</td>\n",
       "      <td>1</td>\n",
       "    </tr>\n",
       "    <tr>\n",
       "      <th>3</th>\n",
       "      <td>19.20</td>\n",
       "      <td>0</td>\n",
       "      <td>0.000000</td>\n",
       "      <td>1</td>\n",
       "      <td>182.0950</td>\n",
       "      <td>1998</td>\n",
       "      <td>1</td>\n",
       "      <td>1</td>\n",
       "      <td>2</td>\n",
       "      <td>1</td>\n",
       "      <td>0</td>\n",
       "      <td>0</td>\n",
       "      <td>0</td>\n",
       "      <td>0</td>\n",
       "      <td>0</td>\n",
       "      <td>0</td>\n",
       "      <td>0</td>\n",
       "      <td>0</td>\n",
       "      <td>0</td>\n",
       "    </tr>\n",
       "    <tr>\n",
       "      <th>4</th>\n",
       "      <td>8.93</td>\n",
       "      <td>1</td>\n",
       "      <td>0.000000</td>\n",
       "      <td>3</td>\n",
       "      <td>53.8614</td>\n",
       "      <td>1987</td>\n",
       "      <td>3</td>\n",
       "      <td>1</td>\n",
       "      <td>1</td>\n",
       "      <td>0</td>\n",
       "      <td>1</td>\n",
       "      <td>0</td>\n",
       "      <td>0</td>\n",
       "      <td>0</td>\n",
       "      <td>0</td>\n",
       "      <td>0</td>\n",
       "      <td>0</td>\n",
       "      <td>0</td>\n",
       "      <td>0</td>\n",
       "    </tr>\n",
       "    <tr>\n",
       "      <th>...</th>\n",
       "      <td>...</td>\n",
       "      <td>...</td>\n",
       "      <td>...</td>\n",
       "      <td>...</td>\n",
       "      <td>...</td>\n",
       "      <td>...</td>\n",
       "      <td>...</td>\n",
       "      <td>...</td>\n",
       "      <td>...</td>\n",
       "      <td>...</td>\n",
       "      <td>...</td>\n",
       "      <td>...</td>\n",
       "      <td>...</td>\n",
       "      <td>...</td>\n",
       "      <td>...</td>\n",
       "      <td>...</td>\n",
       "      <td>...</td>\n",
       "      <td>...</td>\n",
       "      <td>...</td>\n",
       "    </tr>\n",
       "    <tr>\n",
       "      <th>8518</th>\n",
       "      <td>6.87</td>\n",
       "      <td>1</td>\n",
       "      <td>0.056783</td>\n",
       "      <td>2</td>\n",
       "      <td>214.5218</td>\n",
       "      <td>1987</td>\n",
       "      <td>3</td>\n",
       "      <td>1</td>\n",
       "      <td>1</td>\n",
       "      <td>0</td>\n",
       "      <td>1</td>\n",
       "      <td>0</td>\n",
       "      <td>0</td>\n",
       "      <td>0</td>\n",
       "      <td>0</td>\n",
       "      <td>0</td>\n",
       "      <td>0</td>\n",
       "      <td>0</td>\n",
       "      <td>0</td>\n",
       "    </tr>\n",
       "    <tr>\n",
       "      <th>8519</th>\n",
       "      <td>8.38</td>\n",
       "      <td>0</td>\n",
       "      <td>0.046982</td>\n",
       "      <td>7</td>\n",
       "      <td>108.1570</td>\n",
       "      <td>2002</td>\n",
       "      <td>1</td>\n",
       "      <td>2</td>\n",
       "      <td>1</td>\n",
       "      <td>0</td>\n",
       "      <td>0</td>\n",
       "      <td>0</td>\n",
       "      <td>0</td>\n",
       "      <td>0</td>\n",
       "      <td>0</td>\n",
       "      <td>0</td>\n",
       "      <td>1</td>\n",
       "      <td>0</td>\n",
       "      <td>0</td>\n",
       "    </tr>\n",
       "    <tr>\n",
       "      <th>8520</th>\n",
       "      <td>10.60</td>\n",
       "      <td>1</td>\n",
       "      <td>0.035186</td>\n",
       "      <td>8</td>\n",
       "      <td>85.1224</td>\n",
       "      <td>2004</td>\n",
       "      <td>2</td>\n",
       "      <td>2</td>\n",
       "      <td>1</td>\n",
       "      <td>0</td>\n",
       "      <td>0</td>\n",
       "      <td>0</td>\n",
       "      <td>0</td>\n",
       "      <td>0</td>\n",
       "      <td>0</td>\n",
       "      <td>1</td>\n",
       "      <td>0</td>\n",
       "      <td>0</td>\n",
       "      <td>0</td>\n",
       "    </tr>\n",
       "    <tr>\n",
       "      <th>8521</th>\n",
       "      <td>7.21</td>\n",
       "      <td>0</td>\n",
       "      <td>0.145221</td>\n",
       "      <td>2</td>\n",
       "      <td>103.1332</td>\n",
       "      <td>2009</td>\n",
       "      <td>1</td>\n",
       "      <td>1</td>\n",
       "      <td>4</td>\n",
       "      <td>0</td>\n",
       "      <td>0</td>\n",
       "      <td>0</td>\n",
       "      <td>1</td>\n",
       "      <td>0</td>\n",
       "      <td>0</td>\n",
       "      <td>0</td>\n",
       "      <td>0</td>\n",
       "      <td>0</td>\n",
       "      <td>0</td>\n",
       "    </tr>\n",
       "    <tr>\n",
       "      <th>8522</th>\n",
       "      <td>14.80</td>\n",
       "      <td>1</td>\n",
       "      <td>0.044878</td>\n",
       "      <td>9</td>\n",
       "      <td>75.4670</td>\n",
       "      <td>1997</td>\n",
       "      <td>2</td>\n",
       "      <td>3</td>\n",
       "      <td>1</td>\n",
       "      <td>0</td>\n",
       "      <td>0</td>\n",
       "      <td>0</td>\n",
       "      <td>0</td>\n",
       "      <td>0</td>\n",
       "      <td>0</td>\n",
       "      <td>0</td>\n",
       "      <td>0</td>\n",
       "      <td>1</td>\n",
       "      <td>0</td>\n",
       "    </tr>\n",
       "  </tbody>\n",
       "</table>\n",
       "<p>8523 rows × 19 columns</p>\n",
       "</div>"
      ],
      "text/plain": [
       "      Item_Weight  Item_Fat_Content  Item_Visibility  Item_Type  Item_MRP  \\\n",
       "0            9.30                 1         0.016047          5  249.8092   \n",
       "1            5.92                 0         0.019278          9   48.2692   \n",
       "2           17.50                 1         0.016760         10  141.6180   \n",
       "3           19.20                 0         0.000000          1  182.0950   \n",
       "4            8.93                 1         0.000000          3   53.8614   \n",
       "...           ...               ...              ...        ...       ...   \n",
       "8518         6.87                 1         0.056783          2  214.5218   \n",
       "8519         8.38                 0         0.046982          7  108.1570   \n",
       "8520        10.60                 1         0.035186          8   85.1224   \n",
       "8521         7.21                 0         0.145221          2  103.1332   \n",
       "8522        14.80                 1         0.044878          9   75.4670   \n",
       "\n",
       "      Outlet_Establishment_Year  Outlet_Size  Outlet_Location_Type  \\\n",
       "0                          1999            1                     3   \n",
       "1                          2009            1                     1   \n",
       "2                          1999            1                     3   \n",
       "3                          1998            1                     1   \n",
       "4                          1987            3                     1   \n",
       "...                         ...          ...                   ...   \n",
       "8518                       1987            3                     1   \n",
       "8519                       2002            1                     2   \n",
       "8520                       2004            2                     2   \n",
       "8521                       2009            1                     1   \n",
       "8522                       1997            2                     3   \n",
       "\n",
       "      Outlet_Type  Outlet_Identifier_OUT010  Outlet_Identifier_OUT013  \\\n",
       "0               1                         0                         0   \n",
       "1               4                         0                         0   \n",
       "2               1                         0                         0   \n",
       "3               2                         1                         0   \n",
       "4               1                         0                         1   \n",
       "...           ...                       ...                       ...   \n",
       "8518            1                         0                         1   \n",
       "8519            1                         0                         0   \n",
       "8520            1                         0                         0   \n",
       "8521            4                         0                         0   \n",
       "8522            1                         0                         0   \n",
       "\n",
       "      Outlet_Identifier_OUT017  Outlet_Identifier_OUT018  \\\n",
       "0                            0                         0   \n",
       "1                            0                         1   \n",
       "2                            0                         0   \n",
       "3                            0                         0   \n",
       "4                            0                         0   \n",
       "...                        ...                       ...   \n",
       "8518                         0                         0   \n",
       "8519                         0                         0   \n",
       "8520                         0                         0   \n",
       "8521                         0                         1   \n",
       "8522                         0                         0   \n",
       "\n",
       "      Outlet_Identifier_OUT019  Outlet_Identifier_OUT027  \\\n",
       "0                            0                         0   \n",
       "1                            0                         0   \n",
       "2                            0                         0   \n",
       "3                            0                         0   \n",
       "4                            0                         0   \n",
       "...                        ...                       ...   \n",
       "8518                         0                         0   \n",
       "8519                         0                         0   \n",
       "8520                         0                         0   \n",
       "8521                         0                         0   \n",
       "8522                         0                         0   \n",
       "\n",
       "      Outlet_Identifier_OUT035  Outlet_Identifier_OUT045  \\\n",
       "0                            0                         0   \n",
       "1                            0                         0   \n",
       "2                            0                         0   \n",
       "3                            0                         0   \n",
       "4                            0                         0   \n",
       "...                        ...                       ...   \n",
       "8518                         0                         0   \n",
       "8519                         0                         1   \n",
       "8520                         1                         0   \n",
       "8521                         0                         0   \n",
       "8522                         0                         0   \n",
       "\n",
       "      Outlet_Identifier_OUT046  Outlet_Identifier_OUT049  \n",
       "0                            0                         1  \n",
       "1                            0                         0  \n",
       "2                            0                         1  \n",
       "3                            0                         0  \n",
       "4                            0                         0  \n",
       "...                        ...                       ...  \n",
       "8518                         0                         0  \n",
       "8519                         0                         0  \n",
       "8520                         0                         0  \n",
       "8521                         0                         0  \n",
       "8522                         1                         0  \n",
       "\n",
       "[8523 rows x 19 columns]"
      ]
     },
     "execution_count": 71,
     "metadata": {},
     "output_type": "execute_result"
    }
   ],
   "source": [
    "\n",
    "x=df.drop(\"Item_Outlet_Sales\",axis=1)\n",
    "y=df[\"Item_Outlet_Sales\"]\n",
    "x"
   ]
  },
  {
   "cell_type": "code",
   "execution_count": 72,
   "id": "1bb4bed6",
   "metadata": {},
   "outputs": [
    {
     "data": {
      "text/plain": [
       "0       3735.1380\n",
       "1        443.4228\n",
       "2       2097.2700\n",
       "3        732.3800\n",
       "4        994.7052\n",
       "          ...    \n",
       "8518    2778.3834\n",
       "8519     549.2850\n",
       "8520    1193.1136\n",
       "8521    1845.5976\n",
       "8522     765.6700\n",
       "Name: Item_Outlet_Sales, Length: 8523, dtype: float64"
      ]
     },
     "execution_count": 72,
     "metadata": {},
     "output_type": "execute_result"
    }
   ],
   "source": [
    "y"
   ]
  },
  {
   "cell_type": "code",
   "execution_count": 73,
   "id": "1fa47441",
   "metadata": {},
   "outputs": [],
   "source": [
    "# train and test split\n",
    "x_train,x_test,y_train,y_test=train_test_split(x,y,test_size=0.20,random_state=12)"
   ]
  },
  {
   "cell_type": "code",
   "execution_count": 74,
   "id": "ee20476b",
   "metadata": {},
   "outputs": [
    {
     "data": {
      "text/html": [
       "<div>\n",
       "<style scoped>\n",
       "    .dataframe tbody tr th:only-of-type {\n",
       "        vertical-align: middle;\n",
       "    }\n",
       "\n",
       "    .dataframe tbody tr th {\n",
       "        vertical-align: top;\n",
       "    }\n",
       "\n",
       "    .dataframe thead th {\n",
       "        text-align: right;\n",
       "    }\n",
       "</style>\n",
       "<table border=\"1\" class=\"dataframe\">\n",
       "  <thead>\n",
       "    <tr style=\"text-align: right;\">\n",
       "      <th></th>\n",
       "      <th>Item_Weight</th>\n",
       "      <th>Item_Fat_Content</th>\n",
       "      <th>Item_Visibility</th>\n",
       "      <th>Item_Type</th>\n",
       "      <th>Item_MRP</th>\n",
       "      <th>Outlet_Establishment_Year</th>\n",
       "      <th>Outlet_Size</th>\n",
       "      <th>Outlet_Location_Type</th>\n",
       "      <th>Outlet_Type</th>\n",
       "      <th>Outlet_Identifier_OUT010</th>\n",
       "      <th>Outlet_Identifier_OUT013</th>\n",
       "      <th>Outlet_Identifier_OUT017</th>\n",
       "      <th>Outlet_Identifier_OUT018</th>\n",
       "      <th>Outlet_Identifier_OUT019</th>\n",
       "      <th>Outlet_Identifier_OUT027</th>\n",
       "      <th>Outlet_Identifier_OUT035</th>\n",
       "      <th>Outlet_Identifier_OUT045</th>\n",
       "      <th>Outlet_Identifier_OUT046</th>\n",
       "      <th>Outlet_Identifier_OUT049</th>\n",
       "    </tr>\n",
       "  </thead>\n",
       "  <tbody>\n",
       "    <tr>\n",
       "      <th>913</th>\n",
       "      <td>15.35</td>\n",
       "      <td>1</td>\n",
       "      <td>0.161350</td>\n",
       "      <td>9</td>\n",
       "      <td>196.6768</td>\n",
       "      <td>1998</td>\n",
       "      <td>1</td>\n",
       "      <td>1</td>\n",
       "      <td>2</td>\n",
       "      <td>1</td>\n",
       "      <td>0</td>\n",
       "      <td>0</td>\n",
       "      <td>0</td>\n",
       "      <td>0</td>\n",
       "      <td>0</td>\n",
       "      <td>0</td>\n",
       "      <td>0</td>\n",
       "      <td>0</td>\n",
       "      <td>0</td>\n",
       "    </tr>\n",
       "    <tr>\n",
       "      <th>3334</th>\n",
       "      <td>20.35</td>\n",
       "      <td>1</td>\n",
       "      <td>0.039236</td>\n",
       "      <td>3</td>\n",
       "      <td>127.2678</td>\n",
       "      <td>1987</td>\n",
       "      <td>3</td>\n",
       "      <td>1</td>\n",
       "      <td>1</td>\n",
       "      <td>0</td>\n",
       "      <td>1</td>\n",
       "      <td>0</td>\n",
       "      <td>0</td>\n",
       "      <td>0</td>\n",
       "      <td>0</td>\n",
       "      <td>0</td>\n",
       "      <td>0</td>\n",
       "      <td>0</td>\n",
       "      <td>0</td>\n",
       "    </tr>\n",
       "    <tr>\n",
       "      <th>2476</th>\n",
       "      <td>12.86</td>\n",
       "      <td>1</td>\n",
       "      <td>0.026770</td>\n",
       "      <td>3</td>\n",
       "      <td>77.0354</td>\n",
       "      <td>1985</td>\n",
       "      <td>1</td>\n",
       "      <td>1</td>\n",
       "      <td>3</td>\n",
       "      <td>0</td>\n",
       "      <td>0</td>\n",
       "      <td>0</td>\n",
       "      <td>0</td>\n",
       "      <td>0</td>\n",
       "      <td>1</td>\n",
       "      <td>0</td>\n",
       "      <td>0</td>\n",
       "      <td>0</td>\n",
       "      <td>0</td>\n",
       "    </tr>\n",
       "    <tr>\n",
       "      <th>5502</th>\n",
       "      <td>14.80</td>\n",
       "      <td>1</td>\n",
       "      <td>0.019477</td>\n",
       "      <td>8</td>\n",
       "      <td>193.0794</td>\n",
       "      <td>2004</td>\n",
       "      <td>2</td>\n",
       "      <td>2</td>\n",
       "      <td>1</td>\n",
       "      <td>0</td>\n",
       "      <td>0</td>\n",
       "      <td>0</td>\n",
       "      <td>0</td>\n",
       "      <td>0</td>\n",
       "      <td>0</td>\n",
       "      <td>1</td>\n",
       "      <td>0</td>\n",
       "      <td>0</td>\n",
       "      <td>0</td>\n",
       "    </tr>\n",
       "    <tr>\n",
       "      <th>3291</th>\n",
       "      <td>13.50</td>\n",
       "      <td>0</td>\n",
       "      <td>0.160624</td>\n",
       "      <td>1</td>\n",
       "      <td>147.0102</td>\n",
       "      <td>2007</td>\n",
       "      <td>1</td>\n",
       "      <td>2</td>\n",
       "      <td>1</td>\n",
       "      <td>0</td>\n",
       "      <td>0</td>\n",
       "      <td>1</td>\n",
       "      <td>0</td>\n",
       "      <td>0</td>\n",
       "      <td>0</td>\n",
       "      <td>0</td>\n",
       "      <td>0</td>\n",
       "      <td>0</td>\n",
       "      <td>0</td>\n",
       "    </tr>\n",
       "    <tr>\n",
       "      <th>...</th>\n",
       "      <td>...</td>\n",
       "      <td>...</td>\n",
       "      <td>...</td>\n",
       "      <td>...</td>\n",
       "      <td>...</td>\n",
       "      <td>...</td>\n",
       "      <td>...</td>\n",
       "      <td>...</td>\n",
       "      <td>...</td>\n",
       "      <td>...</td>\n",
       "      <td>...</td>\n",
       "      <td>...</td>\n",
       "      <td>...</td>\n",
       "      <td>...</td>\n",
       "      <td>...</td>\n",
       "      <td>...</td>\n",
       "      <td>...</td>\n",
       "      <td>...</td>\n",
       "      <td>...</td>\n",
       "    </tr>\n",
       "    <tr>\n",
       "      <th>278</th>\n",
       "      <td>7.91</td>\n",
       "      <td>1</td>\n",
       "      <td>0.016759</td>\n",
       "      <td>2</td>\n",
       "      <td>250.4408</td>\n",
       "      <td>1998</td>\n",
       "      <td>1</td>\n",
       "      <td>1</td>\n",
       "      <td>2</td>\n",
       "      <td>1</td>\n",
       "      <td>0</td>\n",
       "      <td>0</td>\n",
       "      <td>0</td>\n",
       "      <td>0</td>\n",
       "      <td>0</td>\n",
       "      <td>0</td>\n",
       "      <td>0</td>\n",
       "      <td>0</td>\n",
       "      <td>0</td>\n",
       "    </tr>\n",
       "    <tr>\n",
       "      <th>3714</th>\n",
       "      <td>6.46</td>\n",
       "      <td>1</td>\n",
       "      <td>0.124403</td>\n",
       "      <td>6</td>\n",
       "      <td>266.1884</td>\n",
       "      <td>1987</td>\n",
       "      <td>3</td>\n",
       "      <td>1</td>\n",
       "      <td>1</td>\n",
       "      <td>0</td>\n",
       "      <td>1</td>\n",
       "      <td>0</td>\n",
       "      <td>0</td>\n",
       "      <td>0</td>\n",
       "      <td>0</td>\n",
       "      <td>0</td>\n",
       "      <td>0</td>\n",
       "      <td>0</td>\n",
       "      <td>0</td>\n",
       "    </tr>\n",
       "    <tr>\n",
       "      <th>7409</th>\n",
       "      <td>19.75</td>\n",
       "      <td>1</td>\n",
       "      <td>0.041449</td>\n",
       "      <td>1</td>\n",
       "      <td>116.5466</td>\n",
       "      <td>2002</td>\n",
       "      <td>1</td>\n",
       "      <td>2</td>\n",
       "      <td>1</td>\n",
       "      <td>0</td>\n",
       "      <td>0</td>\n",
       "      <td>0</td>\n",
       "      <td>0</td>\n",
       "      <td>0</td>\n",
       "      <td>0</td>\n",
       "      <td>0</td>\n",
       "      <td>1</td>\n",
       "      <td>0</td>\n",
       "      <td>0</td>\n",
       "    </tr>\n",
       "    <tr>\n",
       "      <th>3325</th>\n",
       "      <td>16.20</td>\n",
       "      <td>1</td>\n",
       "      <td>0.063017</td>\n",
       "      <td>6</td>\n",
       "      <td>100.3700</td>\n",
       "      <td>2004</td>\n",
       "      <td>2</td>\n",
       "      <td>2</td>\n",
       "      <td>1</td>\n",
       "      <td>0</td>\n",
       "      <td>0</td>\n",
       "      <td>0</td>\n",
       "      <td>0</td>\n",
       "      <td>0</td>\n",
       "      <td>0</td>\n",
       "      <td>1</td>\n",
       "      <td>0</td>\n",
       "      <td>0</td>\n",
       "      <td>0</td>\n",
       "    </tr>\n",
       "    <tr>\n",
       "      <th>5787</th>\n",
       "      <td>10.85</td>\n",
       "      <td>1</td>\n",
       "      <td>0.028674</td>\n",
       "      <td>3</td>\n",
       "      <td>115.1808</td>\n",
       "      <td>2004</td>\n",
       "      <td>2</td>\n",
       "      <td>2</td>\n",
       "      <td>1</td>\n",
       "      <td>0</td>\n",
       "      <td>0</td>\n",
       "      <td>0</td>\n",
       "      <td>0</td>\n",
       "      <td>0</td>\n",
       "      <td>0</td>\n",
       "      <td>1</td>\n",
       "      <td>0</td>\n",
       "      <td>0</td>\n",
       "      <td>0</td>\n",
       "    </tr>\n",
       "  </tbody>\n",
       "</table>\n",
       "<p>6818 rows × 19 columns</p>\n",
       "</div>"
      ],
      "text/plain": [
       "      Item_Weight  Item_Fat_Content  Item_Visibility  Item_Type  Item_MRP  \\\n",
       "913         15.35                 1         0.161350          9  196.6768   \n",
       "3334        20.35                 1         0.039236          3  127.2678   \n",
       "2476        12.86                 1         0.026770          3   77.0354   \n",
       "5502        14.80                 1         0.019477          8  193.0794   \n",
       "3291        13.50                 0         0.160624          1  147.0102   \n",
       "...           ...               ...              ...        ...       ...   \n",
       "278          7.91                 1         0.016759          2  250.4408   \n",
       "3714         6.46                 1         0.124403          6  266.1884   \n",
       "7409        19.75                 1         0.041449          1  116.5466   \n",
       "3325        16.20                 1         0.063017          6  100.3700   \n",
       "5787        10.85                 1         0.028674          3  115.1808   \n",
       "\n",
       "      Outlet_Establishment_Year  Outlet_Size  Outlet_Location_Type  \\\n",
       "913                        1998            1                     1   \n",
       "3334                       1987            3                     1   \n",
       "2476                       1985            1                     1   \n",
       "5502                       2004            2                     2   \n",
       "3291                       2007            1                     2   \n",
       "...                         ...          ...                   ...   \n",
       "278                        1998            1                     1   \n",
       "3714                       1987            3                     1   \n",
       "7409                       2002            1                     2   \n",
       "3325                       2004            2                     2   \n",
       "5787                       2004            2                     2   \n",
       "\n",
       "      Outlet_Type  Outlet_Identifier_OUT010  Outlet_Identifier_OUT013  \\\n",
       "913             2                         1                         0   \n",
       "3334            1                         0                         1   \n",
       "2476            3                         0                         0   \n",
       "5502            1                         0                         0   \n",
       "3291            1                         0                         0   \n",
       "...           ...                       ...                       ...   \n",
       "278             2                         1                         0   \n",
       "3714            1                         0                         1   \n",
       "7409            1                         0                         0   \n",
       "3325            1                         0                         0   \n",
       "5787            1                         0                         0   \n",
       "\n",
       "      Outlet_Identifier_OUT017  Outlet_Identifier_OUT018  \\\n",
       "913                          0                         0   \n",
       "3334                         0                         0   \n",
       "2476                         0                         0   \n",
       "5502                         0                         0   \n",
       "3291                         1                         0   \n",
       "...                        ...                       ...   \n",
       "278                          0                         0   \n",
       "3714                         0                         0   \n",
       "7409                         0                         0   \n",
       "3325                         0                         0   \n",
       "5787                         0                         0   \n",
       "\n",
       "      Outlet_Identifier_OUT019  Outlet_Identifier_OUT027  \\\n",
       "913                          0                         0   \n",
       "3334                         0                         0   \n",
       "2476                         0                         1   \n",
       "5502                         0                         0   \n",
       "3291                         0                         0   \n",
       "...                        ...                       ...   \n",
       "278                          0                         0   \n",
       "3714                         0                         0   \n",
       "7409                         0                         0   \n",
       "3325                         0                         0   \n",
       "5787                         0                         0   \n",
       "\n",
       "      Outlet_Identifier_OUT035  Outlet_Identifier_OUT045  \\\n",
       "913                          0                         0   \n",
       "3334                         0                         0   \n",
       "2476                         0                         0   \n",
       "5502                         1                         0   \n",
       "3291                         0                         0   \n",
       "...                        ...                       ...   \n",
       "278                          0                         0   \n",
       "3714                         0                         0   \n",
       "7409                         0                         1   \n",
       "3325                         1                         0   \n",
       "5787                         1                         0   \n",
       "\n",
       "      Outlet_Identifier_OUT046  Outlet_Identifier_OUT049  \n",
       "913                          0                         0  \n",
       "3334                         0                         0  \n",
       "2476                         0                         0  \n",
       "5502                         0                         0  \n",
       "3291                         0                         0  \n",
       "...                        ...                       ...  \n",
       "278                          0                         0  \n",
       "3714                         0                         0  \n",
       "7409                         0                         0  \n",
       "3325                         0                         0  \n",
       "5787                         0                         0  \n",
       "\n",
       "[6818 rows x 19 columns]"
      ]
     },
     "execution_count": 74,
     "metadata": {},
     "output_type": "execute_result"
    }
   ],
   "source": [
    "x_train"
   ]
  },
  {
   "cell_type": "code",
   "execution_count": 75,
   "id": "057ef785",
   "metadata": {},
   "outputs": [
    {
     "data": {
      "text/plain": [
       "913      591.2304\n",
       "3334    1017.3424\n",
       "2476    2332.2974\n",
       "5502    3901.5880\n",
       "3291    2770.3938\n",
       "          ...    \n",
       "278      500.6816\n",
       "3714    5299.7680\n",
       "7409    2828.3184\n",
       "3325     998.7000\n",
       "5787    3866.9664\n",
       "Name: Item_Outlet_Sales, Length: 6818, dtype: float64"
      ]
     },
     "execution_count": 75,
     "metadata": {},
     "output_type": "execute_result"
    }
   ],
   "source": [
    "y_train"
   ]
  },
  {
   "cell_type": "code",
   "execution_count": 76,
   "id": "77d43bda",
   "metadata": {},
   "outputs": [],
   "source": [
    "# creating instance of model\n",
    "model=LinearRegression()"
   ]
  },
  {
   "cell_type": "code",
   "execution_count": 77,
   "id": "e4b0092b",
   "metadata": {},
   "outputs": [
    {
     "data": {
      "text/html": [
       "<style>#sk-container-id-1 {color: black;background-color: white;}#sk-container-id-1 pre{padding: 0;}#sk-container-id-1 div.sk-toggleable {background-color: white;}#sk-container-id-1 label.sk-toggleable__label {cursor: pointer;display: block;width: 100%;margin-bottom: 0;padding: 0.3em;box-sizing: border-box;text-align: center;}#sk-container-id-1 label.sk-toggleable__label-arrow:before {content: \"▸\";float: left;margin-right: 0.25em;color: #696969;}#sk-container-id-1 label.sk-toggleable__label-arrow:hover:before {color: black;}#sk-container-id-1 div.sk-estimator:hover label.sk-toggleable__label-arrow:before {color: black;}#sk-container-id-1 div.sk-toggleable__content {max-height: 0;max-width: 0;overflow: hidden;text-align: left;background-color: #f0f8ff;}#sk-container-id-1 div.sk-toggleable__content pre {margin: 0.2em;color: black;border-radius: 0.25em;background-color: #f0f8ff;}#sk-container-id-1 input.sk-toggleable__control:checked~div.sk-toggleable__content {max-height: 200px;max-width: 100%;overflow: auto;}#sk-container-id-1 input.sk-toggleable__control:checked~label.sk-toggleable__label-arrow:before {content: \"▾\";}#sk-container-id-1 div.sk-estimator input.sk-toggleable__control:checked~label.sk-toggleable__label {background-color: #d4ebff;}#sk-container-id-1 div.sk-label input.sk-toggleable__control:checked~label.sk-toggleable__label {background-color: #d4ebff;}#sk-container-id-1 input.sk-hidden--visually {border: 0;clip: rect(1px 1px 1px 1px);clip: rect(1px, 1px, 1px, 1px);height: 1px;margin: -1px;overflow: hidden;padding: 0;position: absolute;width: 1px;}#sk-container-id-1 div.sk-estimator {font-family: monospace;background-color: #f0f8ff;border: 1px dotted black;border-radius: 0.25em;box-sizing: border-box;margin-bottom: 0.5em;}#sk-container-id-1 div.sk-estimator:hover {background-color: #d4ebff;}#sk-container-id-1 div.sk-parallel-item::after {content: \"\";width: 100%;border-bottom: 1px solid gray;flex-grow: 1;}#sk-container-id-1 div.sk-label:hover label.sk-toggleable__label {background-color: #d4ebff;}#sk-container-id-1 div.sk-serial::before {content: \"\";position: absolute;border-left: 1px solid gray;box-sizing: border-box;top: 0;bottom: 0;left: 50%;z-index: 0;}#sk-container-id-1 div.sk-serial {display: flex;flex-direction: column;align-items: center;background-color: white;padding-right: 0.2em;padding-left: 0.2em;position: relative;}#sk-container-id-1 div.sk-item {position: relative;z-index: 1;}#sk-container-id-1 div.sk-parallel {display: flex;align-items: stretch;justify-content: center;background-color: white;position: relative;}#sk-container-id-1 div.sk-item::before, #sk-container-id-1 div.sk-parallel-item::before {content: \"\";position: absolute;border-left: 1px solid gray;box-sizing: border-box;top: 0;bottom: 0;left: 50%;z-index: -1;}#sk-container-id-1 div.sk-parallel-item {display: flex;flex-direction: column;z-index: 1;position: relative;background-color: white;}#sk-container-id-1 div.sk-parallel-item:first-child::after {align-self: flex-end;width: 50%;}#sk-container-id-1 div.sk-parallel-item:last-child::after {align-self: flex-start;width: 50%;}#sk-container-id-1 div.sk-parallel-item:only-child::after {width: 0;}#sk-container-id-1 div.sk-dashed-wrapped {border: 1px dashed gray;margin: 0 0.4em 0.5em 0.4em;box-sizing: border-box;padding-bottom: 0.4em;background-color: white;}#sk-container-id-1 div.sk-label label {font-family: monospace;font-weight: bold;display: inline-block;line-height: 1.2em;}#sk-container-id-1 div.sk-label-container {text-align: center;}#sk-container-id-1 div.sk-container {/* jupyter's `normalize.less` sets `[hidden] { display: none; }` but bootstrap.min.css set `[hidden] { display: none !important; }` so we also need the `!important` here to be able to override the default hidden behavior on the sphinx rendered scikit-learn.org. See: https://github.com/scikit-learn/scikit-learn/issues/21755 */display: inline-block !important;position: relative;}#sk-container-id-1 div.sk-text-repr-fallback {display: none;}</style><div id=\"sk-container-id-1\" class=\"sk-top-container\"><div class=\"sk-text-repr-fallback\"><pre>LinearRegression()</pre><b>In a Jupyter environment, please rerun this cell to show the HTML representation or trust the notebook. <br />On GitHub, the HTML representation is unable to render, please try loading this page with nbviewer.org.</b></div><div class=\"sk-container\" hidden><div class=\"sk-item\"><div class=\"sk-estimator sk-toggleable\"><input class=\"sk-toggleable__control sk-hidden--visually\" id=\"sk-estimator-id-1\" type=\"checkbox\" checked><label for=\"sk-estimator-id-1\" class=\"sk-toggleable__label sk-toggleable__label-arrow\">LinearRegression</label><div class=\"sk-toggleable__content\"><pre>LinearRegression()</pre></div></div></div></div></div>"
      ],
      "text/plain": [
       "LinearRegression()"
      ]
     },
     "execution_count": 77,
     "metadata": {},
     "output_type": "execute_result"
    }
   ],
   "source": [
    "# firiing model\n",
    "model.fit(x_train,y_train)"
   ]
  },
  {
   "cell_type": "code",
   "execution_count": 78,
   "id": "9f490440",
   "metadata": {},
   "outputs": [
    {
     "data": {
      "text/plain": [
       "array([2064.61860252, 1772.22621683,  948.04107214, ..., 2059.02897218,\n",
       "       1322.03771982, -435.22110983])"
      ]
     },
     "execution_count": 78,
     "metadata": {},
     "output_type": "execute_result"
    }
   ],
   "source": [
    "y_pre=model.predict(x_test)\n",
    "y_pre"
   ]
  },
  {
   "cell_type": "code",
   "execution_count": 79,
   "id": "7dca6702",
   "metadata": {},
   "outputs": [
    {
     "data": {
      "text/plain": [
       "4294    -117.153603\n",
       "7676    1413.626783\n",
       "364     -765.611872\n",
       "7314     -60.608897\n",
       "6421    -365.392677\n",
       "           ...     \n",
       "3438    -292.769680\n",
       "21       269.822528\n",
       "3448   -1343.959772\n",
       "401     -895.925720\n",
       "7293     613.655510\n",
       "Name: Item_Outlet_Sales, Length: 1705, dtype: float64"
      ]
     },
     "execution_count": 79,
     "metadata": {},
     "output_type": "execute_result"
    }
   ],
   "source": [
    "residule=(y_test-y_pre)\n",
    "residule"
   ]
  },
  {
   "cell_type": "code",
   "execution_count": 80,
   "id": "8ae901c3",
   "metadata": {},
   "outputs": [],
   "source": [
    "### evalution metric "
   ]
  },
  {
   "cell_type": "code",
   "execution_count": 81,
   "id": "82b87056",
   "metadata": {},
   "outputs": [
    {
     "name": "stdout",
     "output_type": "stream",
     "text": [
      "MSE 1231841.5775798461\n",
      "RMSE 1109.8835873999788\n",
      "MAE 825.8803389446739\n",
      "r2 0.267729315666426\n"
     ]
    }
   ],
   "source": [
    "# evalution on the testing data\n",
    "y_pre=model.predict(x_test)\n",
    "MSE=mean_squared_error(y_pre,y_test)\n",
    "print(\"MSE\",MSE)\n",
    "RMSE=np.sqrt(MSE)\n",
    "print(\"RMSE\",RMSE)\n",
    "MAE=mean_absolute_error(y_pre,y_test)\n",
    "print(\"MAE\",MAE)\n",
    "r2=r2_score(y_pre,y_test)\n",
    "print(\"r2\",r2)"
   ]
  },
  {
   "cell_type": "code",
   "execution_count": 82,
   "id": "b01db4f8",
   "metadata": {},
   "outputs": [
    {
     "name": "stdout",
     "output_type": "stream",
     "text": [
      "MSE 1281608.0891091311\n",
      "RMSE 1132.081308523876\n",
      "MAE 838.0271358155279\n",
      "r2 0.21216885099019\n"
     ]
    }
   ],
   "source": [
    "# evalution on the training data\n",
    "y_pre_train=model.predict(x_train)\n",
    "MSE=mean_squared_error(y_pre_train,y_train)\n",
    "print(\"MSE\",MSE)\n",
    "RMSE=np.sqrt(MSE)\n",
    "print(\"RMSE\",RMSE)\n",
    "MAE=mean_absolute_error(y_pre_train,y_train)\n",
    "print(\"MAE\",MAE)\n",
    "r2=r2_score(y_pre_train,y_train)\n",
    "print(\"r2\",r2)"
   ]
  },
  {
   "cell_type": "code",
   "execution_count": 83,
   "id": "c8aef275",
   "metadata": {},
   "outputs": [],
   "source": [
    "## testing on the single user input"
   ]
  },
  {
   "cell_type": "code",
   "execution_count": 98,
   "id": "83147628",
   "metadata": {},
   "outputs": [
    {
     "name": "stdout",
     "output_type": "stream",
     "text": [
      "Index(['Item_Weight', 'Item_Fat_Content', 'Item_Visibility', 'Item_Type',\n",
      "       'Item_MRP', 'Outlet_Establishment_Year', 'Outlet_Size',\n",
      "       'Outlet_Location_Type', 'Outlet_Type', 'Outlet_Identifier_OUT010',\n",
      "       'Outlet_Identifier_OUT013', 'Outlet_Identifier_OUT017',\n",
      "       'Outlet_Identifier_OUT018', 'Outlet_Identifier_OUT019',\n",
      "       'Outlet_Identifier_OUT027', 'Outlet_Identifier_OUT035',\n",
      "       'Outlet_Identifier_OUT045', 'Outlet_Identifier_OUT046',\n",
      "       'Outlet_Identifier_OUT049'],\n",
      "      dtype='object')\n"
     ]
    }
   ],
   "source": [
    "columns=x.columns\n",
    "print(columns)"
   ]
  },
  {
   "cell_type": "code",
   "execution_count": 84,
   "id": "629d4d4e",
   "metadata": {},
   "outputs": [
    {
     "data": {
      "text/html": [
       "<div>\n",
       "<style scoped>\n",
       "    .dataframe tbody tr th:only-of-type {\n",
       "        vertical-align: middle;\n",
       "    }\n",
       "\n",
       "    .dataframe tbody tr th {\n",
       "        vertical-align: top;\n",
       "    }\n",
       "\n",
       "    .dataframe thead th {\n",
       "        text-align: right;\n",
       "    }\n",
       "</style>\n",
       "<table border=\"1\" class=\"dataframe\">\n",
       "  <thead>\n",
       "    <tr style=\"text-align: right;\">\n",
       "      <th></th>\n",
       "      <th>0</th>\n",
       "    </tr>\n",
       "  </thead>\n",
       "  <tbody>\n",
       "    <tr>\n",
       "      <th>Item_Weight</th>\n",
       "      <td>9.300000</td>\n",
       "    </tr>\n",
       "    <tr>\n",
       "      <th>Item_Fat_Content</th>\n",
       "      <td>1.000000</td>\n",
       "    </tr>\n",
       "    <tr>\n",
       "      <th>Item_Visibility</th>\n",
       "      <td>0.016047</td>\n",
       "    </tr>\n",
       "    <tr>\n",
       "      <th>Item_Type</th>\n",
       "      <td>5.000000</td>\n",
       "    </tr>\n",
       "    <tr>\n",
       "      <th>Item_MRP</th>\n",
       "      <td>249.809200</td>\n",
       "    </tr>\n",
       "    <tr>\n",
       "      <th>Outlet_Establishment_Year</th>\n",
       "      <td>1999.000000</td>\n",
       "    </tr>\n",
       "    <tr>\n",
       "      <th>Outlet_Size</th>\n",
       "      <td>1.000000</td>\n",
       "    </tr>\n",
       "    <tr>\n",
       "      <th>Outlet_Location_Type</th>\n",
       "      <td>3.000000</td>\n",
       "    </tr>\n",
       "    <tr>\n",
       "      <th>Outlet_Type</th>\n",
       "      <td>1.000000</td>\n",
       "    </tr>\n",
       "    <tr>\n",
       "      <th>Outlet_Identifier_OUT010</th>\n",
       "      <td>0.000000</td>\n",
       "    </tr>\n",
       "    <tr>\n",
       "      <th>Outlet_Identifier_OUT013</th>\n",
       "      <td>0.000000</td>\n",
       "    </tr>\n",
       "    <tr>\n",
       "      <th>Outlet_Identifier_OUT017</th>\n",
       "      <td>0.000000</td>\n",
       "    </tr>\n",
       "    <tr>\n",
       "      <th>Outlet_Identifier_OUT018</th>\n",
       "      <td>0.000000</td>\n",
       "    </tr>\n",
       "    <tr>\n",
       "      <th>Outlet_Identifier_OUT019</th>\n",
       "      <td>0.000000</td>\n",
       "    </tr>\n",
       "    <tr>\n",
       "      <th>Outlet_Identifier_OUT027</th>\n",
       "      <td>0.000000</td>\n",
       "    </tr>\n",
       "    <tr>\n",
       "      <th>Outlet_Identifier_OUT035</th>\n",
       "      <td>0.000000</td>\n",
       "    </tr>\n",
       "    <tr>\n",
       "      <th>Outlet_Identifier_OUT045</th>\n",
       "      <td>0.000000</td>\n",
       "    </tr>\n",
       "    <tr>\n",
       "      <th>Outlet_Identifier_OUT046</th>\n",
       "      <td>0.000000</td>\n",
       "    </tr>\n",
       "    <tr>\n",
       "      <th>Outlet_Identifier_OUT049</th>\n",
       "      <td>1.000000</td>\n",
       "    </tr>\n",
       "  </tbody>\n",
       "</table>\n",
       "</div>"
      ],
      "text/plain": [
       "                                     0\n",
       "Item_Weight                   9.300000\n",
       "Item_Fat_Content              1.000000\n",
       "Item_Visibility               0.016047\n",
       "Item_Type                     5.000000\n",
       "Item_MRP                    249.809200\n",
       "Outlet_Establishment_Year  1999.000000\n",
       "Outlet_Size                   1.000000\n",
       "Outlet_Location_Type          3.000000\n",
       "Outlet_Type                   1.000000\n",
       "Outlet_Identifier_OUT010      0.000000\n",
       "Outlet_Identifier_OUT013      0.000000\n",
       "Outlet_Identifier_OUT017      0.000000\n",
       "Outlet_Identifier_OUT018      0.000000\n",
       "Outlet_Identifier_OUT019      0.000000\n",
       "Outlet_Identifier_OUT027      0.000000\n",
       "Outlet_Identifier_OUT035      0.000000\n",
       "Outlet_Identifier_OUT045      0.000000\n",
       "Outlet_Identifier_OUT046      0.000000\n",
       "Outlet_Identifier_OUT049      1.000000"
      ]
     },
     "execution_count": 84,
     "metadata": {},
     "output_type": "execute_result"
    }
   ],
   "source": [
    "x.head(1).T"
   ]
  },
  {
   "cell_type": "code",
   "execution_count": 141,
   "id": "2534d509",
   "metadata": {},
   "outputs": [],
   "source": [
    "project_data={\"Item_Fat_Content\":Item_Fat_Content_value,\"Item_Type\":Item_Type_value,\n",
    "             \"Outlet_Size\":Outlet_Size_value,\"Outlet_Location_Type\":Outlet_Location_Type_value,\n",
    "            \"Outlet_Type\":Outlet_Type_value,\"column\":list(columns)}"
   ]
  },
  {
   "cell_type": "code",
   "execution_count": 142,
   "id": "07e6783c",
   "metadata": {},
   "outputs": [
    {
     "data": {
      "text/plain": [
       "{'Fruits and Vegetables': 1,\n",
       " 'Snack Foods': 2,\n",
       " 'Household': 3,\n",
       " 'Frozen Foods': 4,\n",
       " 'Dairy': 5,\n",
       " 'Canned': 6,\n",
       " 'Baking Goods': 7,\n",
       " 'Health and Hygiene': 8,\n",
       " 'Soft Drinks': 9,\n",
       " 'Meat': 10,\n",
       " 'Breads': 11,\n",
       " 'Hard Drinks': 12,\n",
       " 'Others': 13,\n",
       " 'Starchy Foods': 14,\n",
       " 'Breakfast': 15,\n",
       " 'Seafood': 16}"
      ]
     },
     "execution_count": 142,
     "metadata": {},
     "output_type": "execute_result"
    }
   ],
   "source": [
    "Item_Type_value"
   ]
  },
  {
   "cell_type": "code",
   "execution_count": 143,
   "id": "39a3e9e9",
   "metadata": {},
   "outputs": [
    {
     "data": {
      "text/plain": [
       "{'Medium': 1, 'Small': 2, 'High': 3}"
      ]
     },
     "execution_count": 143,
     "metadata": {},
     "output_type": "execute_result"
    }
   ],
   "source": [
    "Outlet_Size_value"
   ]
  },
  {
   "cell_type": "code",
   "execution_count": 144,
   "id": "b63cd4dc",
   "metadata": {},
   "outputs": [
    {
     "data": {
      "text/plain": [
       "{'Tier 3': 1, 'Tier 2': 2, 'Tier 1': 3}"
      ]
     },
     "execution_count": 144,
     "metadata": {},
     "output_type": "execute_result"
    }
   ],
   "source": [
    "Outlet_Location_Type_value"
   ]
  },
  {
   "cell_type": "code",
   "execution_count": 145,
   "id": "14a9811c",
   "metadata": {},
   "outputs": [
    {
     "data": {
      "text/plain": [
       "{'Supermarket Type1': 1,\n",
       " 'Grocery Store': 2,\n",
       " 'Supermarket Type3': 3,\n",
       " 'Supermarket Type2': 4}"
      ]
     },
     "execution_count": 145,
     "metadata": {},
     "output_type": "execute_result"
    }
   ],
   "source": [
    "Outlet_Type_value"
   ]
  },
  {
   "cell_type": "code",
   "execution_count": 146,
   "id": "81897e04",
   "metadata": {},
   "outputs": [
    {
     "data": {
      "text/plain": [
       "{'Low Fat': 1, 'Regular': 0, 'LF': 1, 'reg': 0, 'low fat': 1}"
      ]
     },
     "execution_count": 146,
     "metadata": {},
     "output_type": "execute_result"
    }
   ],
   "source": [
    "Item_Fat_Content_value"
   ]
  },
  {
   "cell_type": "code",
   "execution_count": 148,
   "id": "94ab30a2",
   "metadata": {},
   "outputs": [
    {
     "name": "stdout",
     "output_type": "stream",
     "text": [
      "Outlet_Identifier_OUT049\n"
     ]
    }
   ],
   "source": [
    "Item_Weight=9.300000\n",
    "Item_Fat_Content='Low Fat'\n",
    "Item_Visibility=0.016047\n",
    "Item_Type='Household'\n",
    "Item_MRP=249.809200\n",
    "Outlet_Establishment_Year=1999.000000\n",
    "Outlet_Size='Medium'\n",
    "Outlet_Location_Type='Tier 3'\n",
    "Outlet_Type='Supermarket Type1'\n",
    "Outlet_Identifier=\"OUT049\"\n",
    "Outlet_Identifier_col=\"Outlet_Identifier_\"+Outlet_Identifier\n",
    "print(Outlet_Identifier_col)\n"
   ]
  },
  {
   "cell_type": "code",
   "execution_count": 149,
   "id": "d652346e",
   "metadata": {},
   "outputs": [
    {
     "data": {
      "text/plain": [
       "array([0, 0, 0, 0, 0, 0, 0, 0, 0, 0, 0, 0, 0, 0, 0, 0, 0, 0, 0])"
      ]
     },
     "execution_count": 149,
     "metadata": {},
     "output_type": "execute_result"
    }
   ],
   "source": [
    "array=np.zeros(len(project_data[\"column\"]),dtype=int)\n",
    "array"
   ]
  },
  {
   "cell_type": "code",
   "execution_count": 150,
   "id": "e62d220e",
   "metadata": {},
   "outputs": [],
   "source": [
    "array[0]=Item_Weight\n",
    "array[1]=project_data[\"Item_Fat_Content\"][Item_Fat_Content]\n",
    "array[2]=Item_Visibility\n",
    "array[3]=project_data[\"Item_Type\"][Item_Type]\n",
    "array[4]=Item_MRP\n",
    "array[5]=Outlet_Establishment_Year\n",
    "array[6]=project_data[\"Outlet_Size\"][Outlet_Size]\n",
    "array[7]=project_data[\"Outlet_Location_Type\"][Outlet_Location_Type]\n",
    "array[8]=project_data[\"Outlet_Type\"][Outlet_Type]\n",
    "array[project_data[\"column\"].index(Outlet_Identifier_col)]=1"
   ]
  },
  {
   "cell_type": "code",
   "execution_count": 155,
   "id": "9b749a1a",
   "metadata": {},
   "outputs": [
    {
     "name": "stdout",
     "output_type": "stream",
     "text": [
      " The item outlet sales 4514.34 Rs-\\ only \n"
     ]
    }
   ],
   "source": [
    "item_outlet_sales=model.predict([array])[0]\n",
    "print(f\" The item outlet sales {np.around(item_outlet_sales,2)} Rs-\\ only \")"
   ]
  },
  {
   "cell_type": "code",
   "execution_count": null,
   "id": "ff0ed2b1",
   "metadata": {},
   "outputs": [],
   "source": [
    "## utils file\n",
    "import pickle\n",
    "import json\n",
    "import pandas as pd\n",
    "import numpy as np\n",
    "import config\n",
    "\n",
    "\n",
    "class MedicalInsurance():\n",
    "    def __init__(self, symboling,\n",
    "  normalized-losses,\n",
    "  fuel-type,\n",
    "  aspiration,\n",
    "  num-of-doors,\n",
    "  drive-wheels,\n",
    "  engine-location,\n",
    "  wheel-base,\n",
    "  length,\n",
    "  width,\n",
    "  height,\n",
    "  curb-weight,\n",
    "  num-of-cylinders,\n",
    "  engine-size,\n",
    "  bore,\n",
    "  stroke,\n",
    "  compression-ratio,\n",
    "  horsepower,\n",
    "  peak-rpm,\n",
    "  city-mpg,\n",
    "  highway-mpg,body-style,\n",
    "       engine-type, \n",
    "       fuel-system):\n",
    "        self.symboling = symboling\n",
    "        self.normalized_losses = normalized_losses\n",
    "        self.fuel_type = fuel_type\n",
    "        self.aspiration = aspiration\n",
    "        self.num_of_doors = num_of_doors\n",
    "        self.drive_wheels = drive_wheels\n",
    "        self.engine_location = engine_location\n",
    "        self.wheel_base = wheel_base\n",
    "        self.length = length\n",
    "        self.width = width\n",
    "        self.height = height\n",
    "        self.curb_weight = curb_weight\n",
    "        self.num_of_cylinders = num_of_cylinders\n",
    "        self.engine_size = engine_size\n",
    "        self.bore = bore\n",
    "        self.stroke = stroke\n",
    "        self.compression_ratio = compression_ratio\n",
    "        self.horsepower = horsepower\n",
    "        self.peak_rpm = peak_rpm\n",
    "        self.city_mpg = city_mpg\n",
    "        self.highway_mpg = highway_mpg\n",
    "        self.body_style = \"body-style_\"+body_style\n",
    "        self.engine_type = \"engine-type_\"+engine_type\n",
    "        self.fuel_system = \"fuel-system_\"+fuel_system\n",
    "\n",
    "    def load_model(self):\n",
    "        with open(\"linear_reg.pkl\", \"rb\") as f:\n",
    "            self.model = pickle.load(f)\n",
    "\n",
    "        with open(, \"r\") as f:\n",
    "            self.json_data = json.load(f)\n",
    "\n",
    "    def get_predicted_price(self):\n",
    "\n",
    "        self.load_model()  # Calling load_model method to get model and json_data\n",
    "\n",
    "        body_style_index = self.json_data['column'].index(self.body_style)\n",
    "        engine_type_index = self.json_data['column'].index(self.engine_type)\n",
    "        fuel_system_index = self.json_data['column'].index(self.fuel_system)\n",
    "\n",
    "        array = np.zeros(len(self.json_data['column']))\n",
    "\n",
    "        array[0]=self.symboling\n",
    "        array[1]=self.normalized_losses\n",
    "        array[2]=self.json_data['fuel_type_value'][self.fuel_type]\n",
    "        array[3]=self.json_data['aspiration_value'][self.aspiration]\n",
    "        array[4]=self.json_data['num_of_doors_value'][self.num_of_doors]\n",
    "        array[5]=self.json_data['drive_wheels_value'][self.drive_wheels]\n",
    "        array[6]=self.engine_location\n",
    "        array[7]=self.wheel_base\n",
    "        array[8]=self.length\n",
    "        array[9]=self.width\n",
    "        array[10]=self.curb_weight\n",
    "        array[11]=self.num_of_cylinders\n",
    "        array[12]=self.engine_size\n",
    "        array[13]=self.bore\n",
    "        array[14]=self.stroke\n",
    "        array[15]=self.compression_ratio\n",
    "        array[16]=self.horsepower\n",
    "        array[17]=self.peak_rpm\n",
    "        array[18]=self.city_mpg\n",
    "        array[19]=self.highway_mpg\n",
    "\n",
    "        array[body_style_index]=1\n",
    "        array[engine_type_index]=1\n",
    "        array[fuel_system_index]=1\n",
    "\n",
    "        print(\"Test Array -->\\n\",array)\n",
    "        predicted_charges = self.model.predict([array])[0]\n",
    "        print(\"predicted_car\",predicted_charges)\n",
    "        return np.around(predicted_charges, 2)\n",
    "\n",
    "\n",
    "if __name__ == \"__main__\":\n",
    "    symboling=3.00\n",
    "    normalized_losses=115.00\n",
    "    fuel_type=\"gas\"\n",
    "    aspiration=\"turbo\"\n",
    "    num_of_doors=\"four\"\n",
    "    drive_wheels=\"4wd\"\n",
    "    engine_location=1.00\n",
    "    wheel_base=88.60\n",
    "    length=168.80\n",
    "    width=64.10\n",
    "    height=48.80\n",
    "    curb_weight=2548.00\n",
    "    num_of_cylinders=4.00\n",
    "    engine_size=130.00\n",
    "    bore=3.47\n",
    "    stroke=2.68\n",
    "    compression_ratio=9.00\n",
    "    horsepower=111.00\n",
    "    peak_rpm=5000.00\n",
    "    city_mpg=21.00\n",
    "    highway_mpg=27.00\n",
    "\n",
    "    # one hot encoded values\n",
    "    body_style=\"sedan\"\n",
    "    engine_type=\"dohc\"\n",
    "    fuel_system=\"mpfi\"\n",
    "\n",
    "    med_ins = MedicalInsurance(symboling, normalized_losses, fuel_type, aspiration,\n",
    "       num_of_doors, drive_wheels,engine_location,wheel_base,\n",
    "       length, width,height,curb_weight,num_of_cylinders,\n",
    "       engine_size,bore,stroke,compression_ratio,horsepower,\n",
    "       peak_rpm,city_mpg,highway_mpg,body_style,\n",
    "       engine_type, \n",
    "       fuel_system)\n",
    "    charges = med_ins.get_predicted_price()\n",
    "    print()\n",
    "    print(f\"Predicted Charges for Medical Insurance is {charges}/- Rs. Only\")"
   ]
  }
 ],
 "metadata": {
  "kernelspec": {
   "display_name": "Python 3 (ipykernel)",
   "language": "python",
   "name": "python3"
  },
  "language_info": {
   "codemirror_mode": {
    "name": "ipython",
    "version": 3
   },
   "file_extension": ".py",
   "mimetype": "text/x-python",
   "name": "python",
   "nbconvert_exporter": "python",
   "pygments_lexer": "ipython3",
   "version": "3.10.5"
  }
 },
 "nbformat": 4,
 "nbformat_minor": 5
}
